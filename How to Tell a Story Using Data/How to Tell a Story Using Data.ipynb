{
 "cells": [
  {
   "cell_type": "markdown",
   "metadata": {},
   "source": [
    "# Project description\n",
    "We’ve decided to open a small robot-run cafe in Los Angeles. This project is promising but expensive, so we decide to try to attract investors. They’re interested in the current market conditions — will we be able to maintain your success when the novelty of robot waiters wears off?\n",
    "We're an analytics guru, so our partners have asked us to prepare some market research. We have open-source data on restaurants in LA.\n",
    "\n",
    "# Download the data and prepare it for analysis\n",
    "Download the data on restaurants in LA. Make sure that the data type for each column is correct and that there are no missing values or duplicates. Process them if necessary. File path: /datasets/rest_data_us.csv.\n",
    "\n",
    "# Data analysis\n",
    "Investigate the proportions of the various types of establishments. Plot a graph.\n",
    "Investigate the proportions of chain and nonchain establishments. Plot a graph.\n",
    "Which type of establishment is typically a chain?\n",
    "What characterizes chains: many establishments with a small number of seats or a few establishments with a lot of seats?\n",
    "Determine the average number of seats for each type of restaurant. On average, which type of restaurant has the greatest number of seats? Plot graphs.\n",
    "Put the data on street names from the address column in a separate column.\n",
    "Plot a graph of the top ten streets by number of restaurants.\n",
    "Find the number of streets that only have one restaurant.\n",
    "For streets with a lot of restaurants, look at the distribution of the number of seats. What trends can you see?\n",
    "Draw an overall conclusion and provide recommendations on restaurant type and number of seats. Comment on the possibility of developing a chain.\n",
    "\n",
    "# Preparing a presentation\n",
    "Make a presentation of your research to share with investors."
   ]
  },
  {
   "cell_type": "markdown",
   "metadata": {
    "toc": true
   },
   "source": [
    "<h1>Table of Contents<span class=\"tocSkip\"></span></h1>\n",
    "<div class=\"toc\"><ul class=\"toc-item\"><li><span><a href=\"#Download-the-data-and-prepare-it-for-analysis-\" data-toc-modified-id=\"Download-the-data-and-prepare-it-for-analysis--1\"><span class=\"toc-item-num\">1&nbsp;&nbsp;</span>Download the data and prepare it for analysis <a id=\"download_prepare\"></a></a></span><ul class=\"toc-item\"><li><span><a href=\"#Missing-values-\" data-toc-modified-id=\"Missing-values--1.1\"><span class=\"toc-item-num\">1.1&nbsp;&nbsp;</span>Missing values <a id=\"missing_values\"></a></a></span></li><li><span><a href=\"#Prepare-data-\" data-toc-modified-id=\"Prepare-data--1.2\"><span class=\"toc-item-num\">1.2&nbsp;&nbsp;</span>Prepare data <a id=\"prepare\"></a></a></span><ul class=\"toc-item\"><li><span><a href=\"#id\" data-toc-modified-id=\"id-1.2.1\"><span class=\"toc-item-num\">1.2.1&nbsp;&nbsp;</span><code>id</code></a></span></li><li><span><a href=\"#object_name\" data-toc-modified-id=\"object_name-1.2.2\"><span class=\"toc-item-num\">1.2.2&nbsp;&nbsp;</span><code>object_name</code></a></span></li><li><span><a href=\"#chain\" data-toc-modified-id=\"chain-1.2.3\"><span class=\"toc-item-num\">1.2.3&nbsp;&nbsp;</span><code>chain</code></a></span></li><li><span><a href=\"#object_type\" data-toc-modified-id=\"object_type-1.2.4\"><span class=\"toc-item-num\">1.2.4&nbsp;&nbsp;</span><code>object_type</code></a></span></li><li><span><a href=\"#number\" data-toc-modified-id=\"number-1.2.5\"><span class=\"toc-item-num\">1.2.5&nbsp;&nbsp;</span><code>number</code></a></span></li></ul></li><li><span><a href=\"#Duplicates\" data-toc-modified-id=\"Duplicates-1.3\"><span class=\"toc-item-num\">1.3&nbsp;&nbsp;</span>Duplicates</a></span></li></ul></li><li><span><a href=\"#Data-analysis\" data-toc-modified-id=\"Data-analysis-2\"><span class=\"toc-item-num\">2&nbsp;&nbsp;</span>Data analysis</a></span><ul class=\"toc-item\"><li><span><a href=\"#The-proportions-of-the-various-types-of-establishments\" data-toc-modified-id=\"The-proportions-of-the-various-types-of-establishments-2.1\"><span class=\"toc-item-num\">2.1&nbsp;&nbsp;</span>The proportions of the various types of establishments</a></span></li><li><span><a href=\"#The-proportions-of-chained-and-non-chained-establishments\" data-toc-modified-id=\"The-proportions-of-chained-and-non-chained-establishments-2.2\"><span class=\"toc-item-num\">2.2&nbsp;&nbsp;</span>The proportions of chained and non-chained establishments</a></span></li><li><span><a href=\"#Which-type-of-establishment-is-typically-a-chain\" data-toc-modified-id=\"Which-type-of-establishment-is-typically-a-chain-2.3\"><span class=\"toc-item-num\">2.3&nbsp;&nbsp;</span>Which type of establishment is typically a chain</a></span></li><li><span><a href=\"#What-characterizes-chains\" data-toc-modified-id=\"What-characterizes-chains-2.4\"><span class=\"toc-item-num\">2.4&nbsp;&nbsp;</span>What characterizes chains</a></span></li><li><span><a href=\"#Average-number-of-seats-per-establishment-type\" data-toc-modified-id=\"Average-number-of-seats-per-establishment-type-2.5\"><span class=\"toc-item-num\">2.5&nbsp;&nbsp;</span>Average number of seats per establishment type</a></span></li><li><span><a href=\"#Street-names\" data-toc-modified-id=\"Street-names-2.6\"><span class=\"toc-item-num\">2.6&nbsp;&nbsp;</span>Street names</a></span></li><li><span><a href=\"#Top-10-streets-by-number-of-restaurants\" data-toc-modified-id=\"Top-10-streets-by-number-of-restaurants-2.7\"><span class=\"toc-item-num\">2.7&nbsp;&nbsp;</span>Top 10 streets by number of restaurants</a></span></li><li><span><a href=\"#Number-of-streets-that-only-have-one-restaurant\" data-toc-modified-id=\"Number-of-streets-that-only-have-one-restaurant-2.8\"><span class=\"toc-item-num\">2.8&nbsp;&nbsp;</span>Number of streets that only have one restaurant</a></span></li><li><span><a href=\"#For-streets-with-a-lot-of-restaurants,-look-at-the-distribution-of-the-number-of-seats\" data-toc-modified-id=\"For-streets-with-a-lot-of-restaurants,-look-at-the-distribution-of-the-number-of-seats-2.9\"><span class=\"toc-item-num\">2.9&nbsp;&nbsp;</span>For streets with a lot of restaurants, look at the distribution of the number of seats</a></span></li></ul></li><li><span><a href=\"#Conclusion\" data-toc-modified-id=\"Conclusion-3\"><span class=\"toc-item-num\">3&nbsp;&nbsp;</span>Conclusion</a></span></li><li><span><a href=\"#Presentation\" data-toc-modified-id=\"Presentation-4\"><span class=\"toc-item-num\">4&nbsp;&nbsp;</span>Presentation</a></span></li></ul></div>"
   ]
  },
  {
   "cell_type": "markdown",
   "metadata": {},
   "source": [
    "## Download the data and prepare it for analysis <a id=\"download_prepare\"></a> "
   ]
  },
  {
   "cell_type": "markdown",
   "metadata": {},
   "source": [
    "First, we will import al necessary libraries. And then, try to upload oyr raw data as `data`. If the upload is successful, we will print `Files read successfully`."
   ]
  },
  {
   "cell_type": "code",
   "execution_count": 1,
   "metadata": {},
   "outputs": [],
   "source": [
    "# import all relevant libraries\n",
    "import pandas as pd\n",
    "import matplotlib.pyplot as plt\n",
    "from matplotlib.ticker import PercentFormatter\n",
    "import seaborn as sns\n",
    "import numpy as np\n",
    "import warnings\n",
    "warnings.filterwarnings('ignore')"
   ]
  },
  {
   "cell_type": "code",
   "execution_count": 2,
   "metadata": {},
   "outputs": [
    {
     "name": "stdout",
     "output_type": "stream",
     "text": [
      "Files read successfully\n"
     ]
    }
   ],
   "source": [
    "# upload the files\n",
    "try:\n",
    "    rest_data = pd.read_csv('rest_data_us.csv')\n",
    "except:\n",
    "    rest_data = pd.read_csv('/datasets/rest_data_us.csv')\n",
    "print('Files read successfully')"
   ]
  },
  {
   "cell_type": "markdown",
   "metadata": {},
   "source": [
    "Let's look at the first 10 raw of `data`."
   ]
  },
  {
   "cell_type": "code",
   "execution_count": 3,
   "metadata": {},
   "outputs": [
    {
     "data": {
      "text/html": [
       "<div>\n",
       "<style scoped>\n",
       "    .dataframe tbody tr th:only-of-type {\n",
       "        vertical-align: middle;\n",
       "    }\n",
       "\n",
       "    .dataframe tbody tr th {\n",
       "        vertical-align: top;\n",
       "    }\n",
       "\n",
       "    .dataframe thead th {\n",
       "        text-align: right;\n",
       "    }\n",
       "</style>\n",
       "<table border=\"1\" class=\"dataframe\">\n",
       "  <thead>\n",
       "    <tr style=\"text-align: right;\">\n",
       "      <th></th>\n",
       "      <th>id</th>\n",
       "      <th>object_name</th>\n",
       "      <th>address</th>\n",
       "      <th>chain</th>\n",
       "      <th>object_type</th>\n",
       "      <th>number</th>\n",
       "    </tr>\n",
       "  </thead>\n",
       "  <tbody>\n",
       "    <tr>\n",
       "      <th>0</th>\n",
       "      <td>11786</td>\n",
       "      <td>HABITAT COFFEE SHOP</td>\n",
       "      <td>3708 N EAGLE ROCK BLVD</td>\n",
       "      <td>False</td>\n",
       "      <td>Cafe</td>\n",
       "      <td>26</td>\n",
       "    </tr>\n",
       "    <tr>\n",
       "      <th>1</th>\n",
       "      <td>11787</td>\n",
       "      <td>REILLY'S</td>\n",
       "      <td>100 WORLD WAY # 120</td>\n",
       "      <td>False</td>\n",
       "      <td>Restaurant</td>\n",
       "      <td>9</td>\n",
       "    </tr>\n",
       "    <tr>\n",
       "      <th>2</th>\n",
       "      <td>11788</td>\n",
       "      <td>STREET CHURROS</td>\n",
       "      <td>6801 HOLLYWOOD BLVD # 253</td>\n",
       "      <td>False</td>\n",
       "      <td>Fast Food</td>\n",
       "      <td>20</td>\n",
       "    </tr>\n",
       "    <tr>\n",
       "      <th>3</th>\n",
       "      <td>11789</td>\n",
       "      <td>TRINITI ECHO PARK</td>\n",
       "      <td>1814 W SUNSET BLVD</td>\n",
       "      <td>False</td>\n",
       "      <td>Restaurant</td>\n",
       "      <td>22</td>\n",
       "    </tr>\n",
       "    <tr>\n",
       "      <th>4</th>\n",
       "      <td>11790</td>\n",
       "      <td>POLLEN</td>\n",
       "      <td>2100 ECHO PARK AVE</td>\n",
       "      <td>False</td>\n",
       "      <td>Restaurant</td>\n",
       "      <td>20</td>\n",
       "    </tr>\n",
       "    <tr>\n",
       "      <th>5</th>\n",
       "      <td>11791</td>\n",
       "      <td>THE SPOT GRILL</td>\n",
       "      <td>10004 NATIONAL BLVD</td>\n",
       "      <td>False</td>\n",
       "      <td>Restaurant</td>\n",
       "      <td>14</td>\n",
       "    </tr>\n",
       "    <tr>\n",
       "      <th>6</th>\n",
       "      <td>11792</td>\n",
       "      <td>CPK</td>\n",
       "      <td>100 WORLD WAY # 126</td>\n",
       "      <td>False</td>\n",
       "      <td>Restaurant</td>\n",
       "      <td>100</td>\n",
       "    </tr>\n",
       "    <tr>\n",
       "      <th>7</th>\n",
       "      <td>11793</td>\n",
       "      <td>PHO LALA</td>\n",
       "      <td>3500 W 6TH ST STE 226</td>\n",
       "      <td>False</td>\n",
       "      <td>Restaurant</td>\n",
       "      <td>7</td>\n",
       "    </tr>\n",
       "    <tr>\n",
       "      <th>8</th>\n",
       "      <td>11794</td>\n",
       "      <td>ABC DONUTS</td>\n",
       "      <td>3027 N SAN FERNANDO RD UNIT 103</td>\n",
       "      <td>True</td>\n",
       "      <td>Fast Food</td>\n",
       "      <td>1</td>\n",
       "    </tr>\n",
       "    <tr>\n",
       "      <th>9</th>\n",
       "      <td>11795</td>\n",
       "      <td>UPSTAIRS</td>\n",
       "      <td>3707 N CAHUENGA BLVD</td>\n",
       "      <td>False</td>\n",
       "      <td>Restaurant</td>\n",
       "      <td>35</td>\n",
       "    </tr>\n",
       "  </tbody>\n",
       "</table>\n",
       "</div>"
      ],
      "text/plain": [
       "      id          object_name                          address  chain  \\\n",
       "0  11786  HABITAT COFFEE SHOP           3708 N EAGLE ROCK BLVD  False   \n",
       "1  11787             REILLY'S              100 WORLD WAY # 120  False   \n",
       "2  11788       STREET CHURROS        6801 HOLLYWOOD BLVD # 253  False   \n",
       "3  11789    TRINITI ECHO PARK               1814 W SUNSET BLVD  False   \n",
       "4  11790               POLLEN               2100 ECHO PARK AVE  False   \n",
       "5  11791       THE SPOT GRILL              10004 NATIONAL BLVD  False   \n",
       "6  11792                  CPK              100 WORLD WAY # 126  False   \n",
       "7  11793             PHO LALA            3500 W 6TH ST STE 226  False   \n",
       "8  11794           ABC DONUTS  3027 N SAN FERNANDO RD UNIT 103   True   \n",
       "9  11795             UPSTAIRS             3707 N CAHUENGA BLVD  False   \n",
       "\n",
       "  object_type  number  \n",
       "0        Cafe      26  \n",
       "1  Restaurant       9  \n",
       "2   Fast Food      20  \n",
       "3  Restaurant      22  \n",
       "4  Restaurant      20  \n",
       "5  Restaurant      14  \n",
       "6  Restaurant     100  \n",
       "7  Restaurant       7  \n",
       "8   Fast Food       1  \n",
       "9  Restaurant      35  "
      ]
     },
     "execution_count": 3,
     "metadata": {},
     "output_type": "execute_result"
    }
   ],
   "source": [
    "# print 10 first raws\n",
    "rest_data.head(10)"
   ]
  },
  {
   "cell_type": "markdown",
   "metadata": {},
   "source": [
    "The description of `data` is:\n",
    "* `object_name` — establishment name\n",
    "* `chain` — chain establishment `TRUE`/`FALSE`\n",
    "* `object_type` — establishment type\n",
    "* `address` — address\n",
    "* `number` — number of seats\n",
    "\n",
    "Now, let's see look at the `memory_usage` of the raw data using `.info()`."
   ]
  },
  {
   "cell_type": "code",
   "execution_count": 4,
   "metadata": {},
   "outputs": [
    {
     "name": "stdout",
     "output_type": "stream",
     "text": [
      "<class 'pandas.core.frame.DataFrame'>\n",
      "RangeIndex: 9651 entries, 0 to 9650\n",
      "Data columns (total 6 columns):\n",
      " #   Column       Non-Null Count  Dtype \n",
      "---  ------       --------------  ----- \n",
      " 0   id           9651 non-null   int64 \n",
      " 1   object_name  9651 non-null   object\n",
      " 2   address      9651 non-null   object\n",
      " 3   chain        9648 non-null   object\n",
      " 4   object_type  9651 non-null   object\n",
      " 5   number       9651 non-null   int64 \n",
      "dtypes: int64(2), object(4)\n",
      "memory usage: 2.4 MB\n"
     ]
    }
   ],
   "source": [
    "# look at the memory usage of the files\n",
    "rest_data.info(memory_usage='deep')"
   ]
  },
  {
   "cell_type": "code",
   "execution_count": 5,
   "metadata": {},
   "outputs": [
    {
     "data": {
      "text/html": [
       "<div>\n",
       "<style scoped>\n",
       "    .dataframe tbody tr th:only-of-type {\n",
       "        vertical-align: middle;\n",
       "    }\n",
       "\n",
       "    .dataframe tbody tr th {\n",
       "        vertical-align: top;\n",
       "    }\n",
       "\n",
       "    .dataframe thead th {\n",
       "        text-align: right;\n",
       "    }\n",
       "</style>\n",
       "<table border=\"1\" class=\"dataframe\">\n",
       "  <thead>\n",
       "    <tr style=\"text-align: right;\">\n",
       "      <th></th>\n",
       "      <th>id</th>\n",
       "      <th>object_name</th>\n",
       "      <th>address</th>\n",
       "      <th>chain</th>\n",
       "      <th>object_type</th>\n",
       "      <th>number</th>\n",
       "    </tr>\n",
       "  </thead>\n",
       "  <tbody>\n",
       "    <tr>\n",
       "      <th>count</th>\n",
       "      <td>9651.000000</td>\n",
       "      <td>9651</td>\n",
       "      <td>9651</td>\n",
       "      <td>9648</td>\n",
       "      <td>9651</td>\n",
       "      <td>9651.000000</td>\n",
       "    </tr>\n",
       "    <tr>\n",
       "      <th>unique</th>\n",
       "      <td>NaN</td>\n",
       "      <td>8672</td>\n",
       "      <td>8517</td>\n",
       "      <td>2</td>\n",
       "      <td>6</td>\n",
       "      <td>NaN</td>\n",
       "    </tr>\n",
       "    <tr>\n",
       "      <th>top</th>\n",
       "      <td>NaN</td>\n",
       "      <td>THE COFFEE BEAN &amp; TEA LEAF</td>\n",
       "      <td>3607 TROUSDALE PKWY</td>\n",
       "      <td>False</td>\n",
       "      <td>Restaurant</td>\n",
       "      <td>NaN</td>\n",
       "    </tr>\n",
       "    <tr>\n",
       "      <th>freq</th>\n",
       "      <td>NaN</td>\n",
       "      <td>47</td>\n",
       "      <td>11</td>\n",
       "      <td>5972</td>\n",
       "      <td>7255</td>\n",
       "      <td>NaN</td>\n",
       "    </tr>\n",
       "    <tr>\n",
       "      <th>mean</th>\n",
       "      <td>16611.000000</td>\n",
       "      <td>NaN</td>\n",
       "      <td>NaN</td>\n",
       "      <td>NaN</td>\n",
       "      <td>NaN</td>\n",
       "      <td>43.695161</td>\n",
       "    </tr>\n",
       "    <tr>\n",
       "      <th>std</th>\n",
       "      <td>2786.148058</td>\n",
       "      <td>NaN</td>\n",
       "      <td>NaN</td>\n",
       "      <td>NaN</td>\n",
       "      <td>NaN</td>\n",
       "      <td>47.622874</td>\n",
       "    </tr>\n",
       "    <tr>\n",
       "      <th>min</th>\n",
       "      <td>11786.000000</td>\n",
       "      <td>NaN</td>\n",
       "      <td>NaN</td>\n",
       "      <td>NaN</td>\n",
       "      <td>NaN</td>\n",
       "      <td>1.000000</td>\n",
       "    </tr>\n",
       "    <tr>\n",
       "      <th>25%</th>\n",
       "      <td>14198.500000</td>\n",
       "      <td>NaN</td>\n",
       "      <td>NaN</td>\n",
       "      <td>NaN</td>\n",
       "      <td>NaN</td>\n",
       "      <td>14.000000</td>\n",
       "    </tr>\n",
       "    <tr>\n",
       "      <th>50%</th>\n",
       "      <td>16611.000000</td>\n",
       "      <td>NaN</td>\n",
       "      <td>NaN</td>\n",
       "      <td>NaN</td>\n",
       "      <td>NaN</td>\n",
       "      <td>27.000000</td>\n",
       "    </tr>\n",
       "    <tr>\n",
       "      <th>75%</th>\n",
       "      <td>19023.500000</td>\n",
       "      <td>NaN</td>\n",
       "      <td>NaN</td>\n",
       "      <td>NaN</td>\n",
       "      <td>NaN</td>\n",
       "      <td>46.000000</td>\n",
       "    </tr>\n",
       "    <tr>\n",
       "      <th>max</th>\n",
       "      <td>21436.000000</td>\n",
       "      <td>NaN</td>\n",
       "      <td>NaN</td>\n",
       "      <td>NaN</td>\n",
       "      <td>NaN</td>\n",
       "      <td>229.000000</td>\n",
       "    </tr>\n",
       "  </tbody>\n",
       "</table>\n",
       "</div>"
      ],
      "text/plain": [
       "                  id                 object_name              address  chain  \\\n",
       "count    9651.000000                        9651                 9651   9648   \n",
       "unique           NaN                        8672                 8517      2   \n",
       "top              NaN  THE COFFEE BEAN & TEA LEAF  3607 TROUSDALE PKWY  False   \n",
       "freq             NaN                          47                   11   5972   \n",
       "mean    16611.000000                         NaN                  NaN    NaN   \n",
       "std      2786.148058                         NaN                  NaN    NaN   \n",
       "min     11786.000000                         NaN                  NaN    NaN   \n",
       "25%     14198.500000                         NaN                  NaN    NaN   \n",
       "50%     16611.000000                         NaN                  NaN    NaN   \n",
       "75%     19023.500000                         NaN                  NaN    NaN   \n",
       "max     21436.000000                         NaN                  NaN    NaN   \n",
       "\n",
       "       object_type       number  \n",
       "count         9651  9651.000000  \n",
       "unique           6          NaN  \n",
       "top     Restaurant          NaN  \n",
       "freq          7255          NaN  \n",
       "mean           NaN    43.695161  \n",
       "std            NaN    47.622874  \n",
       "min            NaN     1.000000  \n",
       "25%            NaN    14.000000  \n",
       "50%            NaN    27.000000  \n",
       "75%            NaN    46.000000  \n",
       "max            NaN   229.000000  "
      ]
     },
     "execution_count": 5,
     "metadata": {},
     "output_type": "execute_result"
    }
   ],
   "source": [
    "rest_data.describe(include='all')"
   ]
  },
  {
   "cell_type": "markdown",
   "metadata": {},
   "source": [
    "Success! We decreased the file memory to 1.8 MB.\\\n",
    "And now we have:\n",
    "* 6 columns - `id`,`object_name`,`address`,`chain`,`object_type` and `number`.\n",
    "* 9651 raws with missing values in `chain` column.\n",
    "* `id` and `numner` are integer type; `object_name`,`address` and `chain` are objects and `object_type` is a category.\n",
    "\n",
    "At the first look od the description, we see:\n",
    "* `THE COFFEE & BEAN & TEA LEAF` is the most frequent restaurant name with 47 counts.\n",
    "* ` TROUSDALE` is the most frequent full street name with 11 counts\n",
    "* `False` is the most frequent with more than half of the count. \n",
    "* And `Restaurant` is the most freuent with more than half of the count. \n",
    "\n",
    "Now let's look at our missing values."
   ]
  },
  {
   "cell_type": "markdown",
   "metadata": {},
   "source": [
    "### Missing values <a id=\"missing_values\"></a> "
   ]
  },
  {
   "cell_type": "code",
   "execution_count": 6,
   "metadata": {},
   "outputs": [
    {
     "data": {
      "text/html": [
       "<div>\n",
       "<style scoped>\n",
       "    .dataframe tbody tr th:only-of-type {\n",
       "        vertical-align: middle;\n",
       "    }\n",
       "\n",
       "    .dataframe tbody tr th {\n",
       "        vertical-align: top;\n",
       "    }\n",
       "\n",
       "    .dataframe thead th {\n",
       "        text-align: right;\n",
       "    }\n",
       "</style>\n",
       "<table border=\"1\" class=\"dataframe\">\n",
       "  <thead>\n",
       "    <tr style=\"text-align: right;\">\n",
       "      <th></th>\n",
       "      <th>id</th>\n",
       "      <th>object_name</th>\n",
       "      <th>address</th>\n",
       "      <th>chain</th>\n",
       "      <th>object_type</th>\n",
       "      <th>number</th>\n",
       "    </tr>\n",
       "  </thead>\n",
       "  <tbody>\n",
       "    <tr>\n",
       "      <th>7408</th>\n",
       "      <td>19194</td>\n",
       "      <td>TAQUERIA LOS 3 CARNALES</td>\n",
       "      <td>5000 E WHITTIER BLVD</td>\n",
       "      <td>NaN</td>\n",
       "      <td>Restaurant</td>\n",
       "      <td>14</td>\n",
       "    </tr>\n",
       "    <tr>\n",
       "      <th>7523</th>\n",
       "      <td>19309</td>\n",
       "      <td>JAMMIN JIMMY'S PIZZA</td>\n",
       "      <td>1641 FIRESTONE BLVD</td>\n",
       "      <td>NaN</td>\n",
       "      <td>Pizza</td>\n",
       "      <td>1</td>\n",
       "    </tr>\n",
       "    <tr>\n",
       "      <th>8648</th>\n",
       "      <td>20434</td>\n",
       "      <td>THE LEXINGTON THEATER</td>\n",
       "      <td>129 E 3RD ST</td>\n",
       "      <td>NaN</td>\n",
       "      <td>Restaurant</td>\n",
       "      <td>35</td>\n",
       "    </tr>\n",
       "  </tbody>\n",
       "</table>\n",
       "</div>"
      ],
      "text/plain": [
       "         id              object_name               address chain object_type  \\\n",
       "7408  19194  TAQUERIA LOS 3 CARNALES  5000 E WHITTIER BLVD   NaN  Restaurant   \n",
       "7523  19309     JAMMIN JIMMY'S PIZZA   1641 FIRESTONE BLVD   NaN       Pizza   \n",
       "8648  20434    THE LEXINGTON THEATER          129 E 3RD ST   NaN  Restaurant   \n",
       "\n",
       "      number  \n",
       "7408      14  \n",
       "7523       1  \n",
       "8648      35  "
      ]
     },
     "execution_count": 6,
     "metadata": {},
     "output_type": "execute_result"
    }
   ],
   "source": [
    "# check raw with missig values in `chain` column\n",
    "rest_data[rest_data['chain'].isna()]"
   ]
  },
  {
   "cell_type": "markdown",
   "metadata": {},
   "source": [
    "Let's see if we can fill our missing values by obejct name. First, let's look for raws with the same object name as in the missing raws."
   ]
  },
  {
   "cell_type": "code",
   "execution_count": 7,
   "metadata": {},
   "outputs": [
    {
     "data": {
      "text/html": [
       "<div>\n",
       "<style scoped>\n",
       "    .dataframe tbody tr th:only-of-type {\n",
       "        vertical-align: middle;\n",
       "    }\n",
       "\n",
       "    .dataframe tbody tr th {\n",
       "        vertical-align: top;\n",
       "    }\n",
       "\n",
       "    .dataframe thead th {\n",
       "        text-align: right;\n",
       "    }\n",
       "</style>\n",
       "<table border=\"1\" class=\"dataframe\">\n",
       "  <thead>\n",
       "    <tr style=\"text-align: right;\">\n",
       "      <th></th>\n",
       "      <th>id</th>\n",
       "      <th>object_name</th>\n",
       "      <th>address</th>\n",
       "      <th>chain</th>\n",
       "      <th>object_type</th>\n",
       "      <th>number</th>\n",
       "    </tr>\n",
       "  </thead>\n",
       "  <tbody>\n",
       "    <tr>\n",
       "      <th>6419</th>\n",
       "      <td>18205</td>\n",
       "      <td>TACOS LOS CARNALES</td>\n",
       "      <td>4370 S CENTRAL AVE</td>\n",
       "      <td>False</td>\n",
       "      <td>Fast Food</td>\n",
       "      <td>47</td>\n",
       "    </tr>\n",
       "    <tr>\n",
       "      <th>6624</th>\n",
       "      <td>18410</td>\n",
       "      <td>TACOS LOS 3 CARNALES</td>\n",
       "      <td>5000 WHITTIER BLVD</td>\n",
       "      <td>False</td>\n",
       "      <td>Fast Food</td>\n",
       "      <td>6</td>\n",
       "    </tr>\n",
       "    <tr>\n",
       "      <th>7408</th>\n",
       "      <td>19194</td>\n",
       "      <td>TAQUERIA LOS 3 CARNALES</td>\n",
       "      <td>5000 E WHITTIER BLVD</td>\n",
       "      <td>NaN</td>\n",
       "      <td>Restaurant</td>\n",
       "      <td>14</td>\n",
       "    </tr>\n",
       "    <tr>\n",
       "      <th>9616</th>\n",
       "      <td>21402</td>\n",
       "      <td>TACOS LOS 4 CARNALES</td>\n",
       "      <td>5000 WHITTIER BLVD</td>\n",
       "      <td>False</td>\n",
       "      <td>Fast Food</td>\n",
       "      <td>9</td>\n",
       "    </tr>\n",
       "  </tbody>\n",
       "</table>\n",
       "</div>"
      ],
      "text/plain": [
       "         id              object_name               address  chain object_type  \\\n",
       "6419  18205       TACOS LOS CARNALES    4370 S CENTRAL AVE  False   Fast Food   \n",
       "6624  18410     TACOS LOS 3 CARNALES    5000 WHITTIER BLVD  False   Fast Food   \n",
       "7408  19194  TAQUERIA LOS 3 CARNALES  5000 E WHITTIER BLVD    NaN  Restaurant   \n",
       "9616  21402     TACOS LOS 4 CARNALES    5000 WHITTIER BLVD  False   Fast Food   \n",
       "\n",
       "      number  \n",
       "6419      47  \n",
       "6624       6  \n",
       "7408      14  \n",
       "9616       9  "
      ]
     },
     "execution_count": 7,
     "metadata": {},
     "output_type": "execute_result"
    }
   ],
   "source": [
    "rest_data[rest_data[\"object_name\"].str.contains(\"CARNALES\")]"
   ]
  },
  {
   "cell_type": "markdown",
   "metadata": {},
   "source": [
    "Here, due to misspelling of `TACOS` vers `TAQUERIA` (same meaning, different laguages), we can fill the missing values with `False`."
   ]
  },
  {
   "cell_type": "code",
   "execution_count": 8,
   "metadata": {},
   "outputs": [
    {
     "data": {
      "text/html": [
       "<div>\n",
       "<style scoped>\n",
       "    .dataframe tbody tr th:only-of-type {\n",
       "        vertical-align: middle;\n",
       "    }\n",
       "\n",
       "    .dataframe tbody tr th {\n",
       "        vertical-align: top;\n",
       "    }\n",
       "\n",
       "    .dataframe thead th {\n",
       "        text-align: right;\n",
       "    }\n",
       "</style>\n",
       "<table border=\"1\" class=\"dataframe\">\n",
       "  <thead>\n",
       "    <tr style=\"text-align: right;\">\n",
       "      <th></th>\n",
       "      <th>id</th>\n",
       "      <th>object_name</th>\n",
       "      <th>address</th>\n",
       "      <th>chain</th>\n",
       "      <th>object_type</th>\n",
       "      <th>number</th>\n",
       "    </tr>\n",
       "  </thead>\n",
       "  <tbody>\n",
       "    <tr>\n",
       "      <th>6790</th>\n",
       "      <td>18576</td>\n",
       "      <td>WI JAMMIN CAFE</td>\n",
       "      <td>1359 S REDONDO BLVD</td>\n",
       "      <td>False</td>\n",
       "      <td>Restaurant</td>\n",
       "      <td>28</td>\n",
       "    </tr>\n",
       "    <tr>\n",
       "      <th>7523</th>\n",
       "      <td>19309</td>\n",
       "      <td>JAMMIN JIMMY'S PIZZA</td>\n",
       "      <td>1641 FIRESTONE BLVD</td>\n",
       "      <td>NaN</td>\n",
       "      <td>Pizza</td>\n",
       "      <td>1</td>\n",
       "    </tr>\n",
       "  </tbody>\n",
       "</table>\n",
       "</div>"
      ],
      "text/plain": [
       "         id           object_name              address  chain object_type  \\\n",
       "6790  18576        WI JAMMIN CAFE  1359 S REDONDO BLVD  False  Restaurant   \n",
       "7523  19309  JAMMIN JIMMY'S PIZZA  1641 FIRESTONE BLVD    NaN       Pizza   \n",
       "\n",
       "      number  \n",
       "6790      28  \n",
       "7523       1  "
      ]
     },
     "execution_count": 8,
     "metadata": {},
     "output_type": "execute_result"
    }
   ],
   "source": [
    "rest_data[rest_data[\"object_name\"].str.contains(\"JAMMIN|JIMMY'S\")]"
   ]
  },
  {
   "cell_type": "code",
   "execution_count": 9,
   "metadata": {},
   "outputs": [
    {
     "data": {
      "text/html": [
       "<div>\n",
       "<style scoped>\n",
       "    .dataframe tbody tr th:only-of-type {\n",
       "        vertical-align: middle;\n",
       "    }\n",
       "\n",
       "    .dataframe tbody tr th {\n",
       "        vertical-align: top;\n",
       "    }\n",
       "\n",
       "    .dataframe thead th {\n",
       "        text-align: right;\n",
       "    }\n",
       "</style>\n",
       "<table border=\"1\" class=\"dataframe\">\n",
       "  <thead>\n",
       "    <tr style=\"text-align: right;\">\n",
       "      <th></th>\n",
       "      <th>id</th>\n",
       "      <th>object_name</th>\n",
       "      <th>address</th>\n",
       "      <th>chain</th>\n",
       "      <th>object_type</th>\n",
       "      <th>number</th>\n",
       "    </tr>\n",
       "  </thead>\n",
       "  <tbody>\n",
       "    <tr>\n",
       "      <th>8648</th>\n",
       "      <td>20434</td>\n",
       "      <td>THE LEXINGTON THEATER</td>\n",
       "      <td>129 E 3RD ST</td>\n",
       "      <td>NaN</td>\n",
       "      <td>Restaurant</td>\n",
       "      <td>35</td>\n",
       "    </tr>\n",
       "  </tbody>\n",
       "</table>\n",
       "</div>"
      ],
      "text/plain": [
       "         id            object_name       address chain object_type  number\n",
       "8648  20434  THE LEXINGTON THEATER  129 E 3RD ST   NaN  Restaurant      35"
      ]
     },
     "execution_count": 9,
     "metadata": {},
     "output_type": "execute_result"
    }
   ],
   "source": [
    "rest_data[rest_data[\"object_name\"].str.contains(\"LEXINGTON\")]"
   ]
  },
  {
   "cell_type": "markdown",
   "metadata": {},
   "source": [
    "In the second and the third raws, we could not found a pattern with whoch we can fill. Therefore, we will replace the missing values with `False`."
   ]
  },
  {
   "cell_type": "code",
   "execution_count": 10,
   "metadata": {},
   "outputs": [
    {
     "data": {
      "text/plain": [
       "id             0\n",
       "object_name    0\n",
       "address        0\n",
       "chain          0\n",
       "object_type    0\n",
       "number         0\n",
       "dtype: int64"
      ]
     },
     "execution_count": 10,
     "metadata": {},
     "output_type": "execute_result"
    }
   ],
   "source": [
    "#fill missing values with False and check again for missing values\n",
    "rest_data['chain'] = rest_data['chain'].fillna(False)\n",
    "rest_data.isna().sum()"
   ]
  },
  {
   "cell_type": "markdown",
   "metadata": {},
   "source": [
    "Now that we have now missing values, we can continue to preparing our columns for the analysis."
   ]
  },
  {
   "cell_type": "markdown",
   "metadata": {},
   "source": [
    "### Prepare data <a id=\"prepare\"></a> "
   ]
  },
  {
   "cell_type": "markdown",
   "metadata": {},
   "source": [
    "We will check each column separtly and see how we can manupulate our raw data for the analysis."
   ]
  },
  {
   "cell_type": "markdown",
   "metadata": {},
   "source": [
    "#### `id`"
   ]
  },
  {
   "cell_type": "code",
   "execution_count": 11,
   "metadata": {},
   "outputs": [
    {
     "data": {
      "text/plain": [
       "9651"
      ]
     },
     "execution_count": 11,
     "metadata": {},
     "output_type": "execute_result"
    }
   ],
   "source": [
    "# look for number of unique id\n",
    "rest_data['id'].nunique()"
   ]
  },
  {
   "cell_type": "markdown",
   "metadata": {},
   "source": [
    "All ID are unique. No need to manipulation in this column. "
   ]
  },
  {
   "cell_type": "markdown",
   "metadata": {},
   "source": [
    "#### `object_name`"
   ]
  },
  {
   "cell_type": "code",
   "execution_count": 12,
   "metadata": {},
   "outputs": [
    {
     "data": {
      "text/plain": [
       "8672"
      ]
     },
     "execution_count": 12,
     "metadata": {},
     "output_type": "execute_result"
    }
   ],
   "source": [
    "# look for unique object names\n",
    "rest_data['object_name'].nunique()"
   ]
  },
  {
   "cell_type": "markdown",
   "metadata": {},
   "source": [
    "We have less unique object name than raws. That means that there are object that repeat them self. Most obejst name repeats themself if they are chained. Let's fillter the data only to chained objects and look for misspellig."
   ]
  },
  {
   "cell_type": "code",
   "execution_count": 13,
   "metadata": {},
   "outputs": [
    {
     "data": {
      "text/plain": [
       "['ABC DONUTS',\n",
       " 'EL POLLO LOCO',\n",
       " 'POONG NYUN BAKERY',\n",
       " 'EMC RESTAURANT GROUP LLC',\n",
       " 'CUSCATLECA BAKERY',\n",
       " 'FOOD COURT TRAY WASHING AREA',\n",
       " 'M CAFE DE CHAYA',\n",
       " \"NORM'S RESTAURANT\",\n",
       " 'KRISPY KRUNCHY CHICKEN - ALVARADO',\n",
       " 'DUNES RESTAURANT',\n",
       " 'ONO HAWAIIAN BBQ',\n",
       " 'MUSH BAKERY',\n",
       " \"REGGIE'S DELI & CAFE\",\n",
       " 'HOT THAI RESTAURANT',\n",
       " 'WABA GRILL',\n",
       " 'SUBWAY -52105',\n",
       " 'IHOP',\n",
       " 'PANDA EXPRESS #2596',\n",
       " 'LA MONARCA BAKERY',\n",
       " 'THE COUNTER SPACE 7C',\n",
       " \"TOGO'S\",\n",
       " \"JACKY'S RESTAURANT\",\n",
       " 'BASE COAT -JUICE BAR',\n",
       " 'KIKKA @ ARCO PLAZA',\n",
       " \"JOHNNIE'S NEW YORK PIZZA\",\n",
       " 'EAGLE ROCK BREWERY',\n",
       " 'DONUT STAR',\n",
       " 'ROSE GARDEN CAFE',\n",
       " \"MCDONALD'S #2084\",\n",
       " 'BLD']"
      ]
     },
     "execution_count": 13,
     "metadata": {},
     "output_type": "execute_result"
    }
   ],
   "source": [
    "# look at a list of chained obejct names\n",
    "rest_data[(rest_data['chain']==True)]['object_name'].head(30).tolist()"
   ]
  },
  {
   "cell_type": "markdown",
   "metadata": {},
   "source": [
    "We can see that we have several chain object that includes numbers and signs in their names. We will replace them."
   ]
  },
  {
   "cell_type": "code",
   "execution_count": 14,
   "metadata": {},
   "outputs": [],
   "source": [
    "# replace numbers and signs in object names by space\n",
    "rest_data['object_name'] = rest_data.object_name.replace('[#0-9]+','',regex=True)\n",
    "rest_data['object_name'] = rest_data.object_name.str.replace(r'(^\\s+|\\s+$)',\"\")"
   ]
  },
  {
   "cell_type": "code",
   "execution_count": 15,
   "metadata": {},
   "outputs": [
    {
     "data": {
      "text/plain": [
       "7857"
      ]
     },
     "execution_count": 15,
     "metadata": {},
     "output_type": "execute_result"
    }
   ],
   "source": [
    "# look at number of unique object names\n",
    "rest_data['object_name'].nunique()"
   ]
  },
  {
   "cell_type": "markdown",
   "metadata": {},
   "source": [
    "We minimized the unique names of object to 7857. Let's look at the most frequest name now."
   ]
  },
  {
   "cell_type": "code",
   "execution_count": 16,
   "metadata": {},
   "outputs": [
    {
     "data": {
      "text/plain": [
       "SUBWAY                                 118\n",
       "STARBUCKS COFFEE                        87\n",
       "MCDONALD'S                              79\n",
       "JACK IN THE BOX                         52\n",
       "THE COFFEE BEAN & TEA LEAF              51\n",
       "                                      ... \n",
       "ZIA VALENTINA                            1\n",
       "KRUANG TEDD                              1\n",
       "KILLER NOODLE TSUJITA                    1\n",
       "DIRTY LAUNDRY AND BLACK RABBIT ROSE      1\n",
       "COLDSTONE CREAMERY                       1\n",
       "Name: object_name, Length: 7857, dtype: int64"
      ]
     },
     "execution_count": 16,
     "metadata": {},
     "output_type": "execute_result"
    }
   ],
   "source": [
    "# count unique object names\n",
    "rest_data['object_name'].value_counts()"
   ]
  },
  {
   "cell_type": "markdown",
   "metadata": {},
   "source": [
    "Now, the most frequent object name is `SUBWAY` with 118 counts."
   ]
  },
  {
   "cell_type": "markdown",
   "metadata": {},
   "source": [
    "#### `chain`"
   ]
  },
  {
   "cell_type": "markdown",
   "metadata": {},
   "source": [
    "This column containd object variables. So first, we will change the variables type to boolean and then change `True` to `Chained` and `False` to `Non-Chained`. Then, we will count them."
   ]
  },
  {
   "cell_type": "code",
   "execution_count": 17,
   "metadata": {},
   "outputs": [
    {
     "name": "stdout",
     "output_type": "stream",
     "text": [
      "<class 'pandas.core.frame.DataFrame'>\n",
      "RangeIndex: 9651 entries, 0 to 9650\n",
      "Data columns (total 6 columns):\n",
      " #   Column       Non-Null Count  Dtype \n",
      "---  ------       --------------  ----- \n",
      " 0   id           9651 non-null   int64 \n",
      " 1   object_name  9651 non-null   object\n",
      " 2   address      9651 non-null   object\n",
      " 3   chain        9651 non-null   bool  \n",
      " 4   object_type  9651 non-null   object\n",
      " 5   number       9651 non-null   int64 \n",
      "dtypes: bool(1), int64(2), object(3)\n",
      "memory usage: 386.5+ KB\n"
     ]
    }
   ],
   "source": [
    "# transform variables into boolean type\n",
    "rest_data['chain'] = rest_data['chain'].astype('bool')\n",
    "\n",
    "#check variable type\n",
    "rest_data.info()"
   ]
  },
  {
   "cell_type": "code",
   "execution_count": 18,
   "metadata": {},
   "outputs": [
    {
     "data": {
      "text/plain": [
       "array(['Non-Chained', 'Chained'], dtype=object)"
      ]
     },
     "execution_count": 18,
     "metadata": {},
     "output_type": "execute_result"
    }
   ],
   "source": [
    "# change True and False into Chaines and Non-Chained\n",
    "rest_data = rest_data.where(rest_data.applymap(type) != bool, rest_data.replace({True: 'Chained', False: 'Non-Chained'}))\n",
    "\n",
    "# check if well transformed\n",
    "rest_data['chain'].unique()"
   ]
  },
  {
   "cell_type": "code",
   "execution_count": 19,
   "metadata": {},
   "outputs": [
    {
     "data": {
      "text/plain": [
       "Non-Chained    5975\n",
       "Chained        3676\n",
       "Name: chain, dtype: int64"
      ]
     },
     "execution_count": 19,
     "metadata": {},
     "output_type": "execute_result"
    }
   ],
   "source": [
    "# count how many variuos variables there is\n",
    "rest_data['chain'].value_counts()"
   ]
  },
  {
   "cell_type": "markdown",
   "metadata": {},
   "source": [
    "Now, we see that most objects are Non-Chained."
   ]
  },
  {
   "cell_type": "markdown",
   "metadata": {},
   "source": [
    "#### `object_type`"
   ]
  },
  {
   "cell_type": "markdown",
   "metadata": {},
   "source": [
    "We will convert this column into category and then search for unique variables and count them."
   ]
  },
  {
   "cell_type": "code",
   "execution_count": 20,
   "metadata": {},
   "outputs": [],
   "source": [
    "rest_data['object_type'] = rest_data['object_type'].astype('category') "
   ]
  },
  {
   "cell_type": "code",
   "execution_count": 21,
   "metadata": {},
   "outputs": [
    {
     "data": {
      "text/plain": [
       "['Cafe', 'Restaurant', 'Fast Food', 'Bakery', 'Bar', 'Pizza']\n",
       "Categories (6, object): ['Cafe', 'Restaurant', 'Fast Food', 'Bakery', 'Bar', 'Pizza']"
      ]
     },
     "execution_count": 21,
     "metadata": {},
     "output_type": "execute_result"
    }
   ],
   "source": [
    "# look for unique object type\n",
    "rest_data['object_type'].unique()"
   ]
  },
  {
   "cell_type": "code",
   "execution_count": 22,
   "metadata": {},
   "outputs": [
    {
     "data": {
      "text/plain": [
       "Restaurant    7255\n",
       "Fast Food     1066\n",
       "Cafe           435\n",
       "Pizza          320\n",
       "Bar            292\n",
       "Bakery         283\n",
       "Name: object_type, dtype: int64"
      ]
     },
     "execution_count": 22,
     "metadata": {},
     "output_type": "execute_result"
    }
   ],
   "source": [
    "# count unique object type\n",
    "rest_data['object_type'].value_counts()"
   ]
  },
  {
   "cell_type": "markdown",
   "metadata": {},
   "source": [
    "We have 6 types of objects and the most frequeny is `Restaurant`."
   ]
  },
  {
   "cell_type": "markdown",
   "metadata": {},
   "source": [
    "#### `number`"
   ]
  },
  {
   "cell_type": "markdown",
   "metadata": {},
   "source": [
    "We will check the unique number of seats and count them. Then look at the describtion of this column."
   ]
  },
  {
   "cell_type": "code",
   "execution_count": 23,
   "metadata": {},
   "outputs": [
    {
     "data": {
      "text/plain": [
       "216"
      ]
     },
     "execution_count": 23,
     "metadata": {},
     "output_type": "execute_result"
    }
   ],
   "source": [
    "rest_data['number'].nunique()"
   ]
  },
  {
   "cell_type": "code",
   "execution_count": 24,
   "metadata": {},
   "outputs": [
    {
     "data": {
      "text/plain": [
       "12     204\n",
       "25     203\n",
       "19     203\n",
       "5      198\n",
       "18     197\n",
       "      ... \n",
       "206      3\n",
       "154      2\n",
       "173      2\n",
       "179      1\n",
       "183      1\n",
       "Name: number, Length: 216, dtype: int64"
      ]
     },
     "execution_count": 24,
     "metadata": {},
     "output_type": "execute_result"
    }
   ],
   "source": [
    "rest_data['number'].value_counts()"
   ]
  },
  {
   "cell_type": "code",
   "execution_count": 25,
   "metadata": {},
   "outputs": [
    {
     "data": {
      "text/plain": [
       "count    9651.000000\n",
       "mean       43.695161\n",
       "std        47.622874\n",
       "min         1.000000\n",
       "25%        14.000000\n",
       "50%        27.000000\n",
       "75%        46.000000\n",
       "max       229.000000\n",
       "Name: number, dtype: float64"
      ]
     },
     "execution_count": 25,
     "metadata": {},
     "output_type": "execute_result"
    }
   ],
   "source": [
    "rest_data['number'].describe()"
   ]
  },
  {
   "cell_type": "markdown",
   "metadata": {},
   "source": [
    "We have 216 unique number of seats. 12 seats is the most hight count! The average number of seats is 44 and the median is 27. "
   ]
  },
  {
   "cell_type": "markdown",
   "metadata": {},
   "source": [
    "From raw data, we see that -\n",
    "* `Subway` is the most frequent object name.\n",
    "* `Non-Chained` objects are the most frequent\n",
    "* `Restaurant` is the most frequent object type.\n",
    "* objects with 12 seats are most frequent meanwhile, the average number of seats in an object is 44 and 50% of object have 27 seats.\n",
    "\n",
    "Let's investigate more our data."
   ]
  },
  {
   "cell_type": "markdown",
   "metadata": {},
   "source": [
    "### Duplicates"
   ]
  },
  {
   "cell_type": "markdown",
   "metadata": {},
   "source": [
    "After preparing our data, we will check for duplicates."
   ]
  },
  {
   "cell_type": "code",
   "execution_count": 26,
   "metadata": {},
   "outputs": [
    {
     "data": {
      "text/plain": [
       "0"
      ]
     },
     "execution_count": 26,
     "metadata": {},
     "output_type": "execute_result"
    }
   ],
   "source": [
    "rest_data.duplicated().sum()"
   ]
  },
  {
   "cell_type": "markdown",
   "metadata": {},
   "source": [
    "There are no duplicates in the data. So now that all our raw data is prepared, we can move on to tge analysis."
   ]
  },
  {
   "cell_type": "markdown",
   "metadata": {},
   "source": [
    "## Data analysis"
   ]
  },
  {
   "cell_type": "markdown",
   "metadata": {},
   "source": [
    "### The proportions of the various types of establishments"
   ]
  },
  {
   "cell_type": "markdown",
   "metadata": {},
   "source": [
    "To investigate the portion of various types of establishments, we will:\n",
    "* find the total number of establishment as `total_rest`\n",
    "* sort by descending order the grouped data by type and count the establishment name and save it as `type_rest`.\n",
    "* add a new column named `port_type` by deviding `type_count` by `total_rest`.\n",
    "* plot a bar graph"
   ]
  },
  {
   "cell_type": "code",
   "execution_count": 27,
   "metadata": {
    "scrolled": false
   },
   "outputs": [
    {
     "data": {
      "image/png": "[encoded data removed]",
      "text/plain": [
       "<Figure size 1080x432 with 1 Axes>"
      ]
     },
     "metadata": {
      "needs_background": "light"
     },
     "output_type": "display_data"
    },
    {
     "data": {
      "text/html": [
       "<div>\n",
       "<style scoped>\n",
       "    .dataframe tbody tr th:only-of-type {\n",
       "        vertical-align: middle;\n",
       "    }\n",
       "\n",
       "    .dataframe tbody tr th {\n",
       "        vertical-align: top;\n",
       "    }\n",
       "\n",
       "    .dataframe thead th {\n",
       "        text-align: right;\n",
       "    }\n",
       "</style>\n",
       "<table border=\"1\" class=\"dataframe\">\n",
       "  <thead>\n",
       "    <tr style=\"text-align: right;\">\n",
       "      <th></th>\n",
       "      <th>type</th>\n",
       "      <th>type_count</th>\n",
       "      <th>port_type</th>\n",
       "    </tr>\n",
       "  </thead>\n",
       "  <tbody>\n",
       "    <tr>\n",
       "      <th>0</th>\n",
       "      <td>Restaurant</td>\n",
       "      <td>7255</td>\n",
       "      <td>75.0</td>\n",
       "    </tr>\n",
       "    <tr>\n",
       "      <th>1</th>\n",
       "      <td>Fast Food</td>\n",
       "      <td>1066</td>\n",
       "      <td>11.0</td>\n",
       "    </tr>\n",
       "    <tr>\n",
       "      <th>2</th>\n",
       "      <td>Cafe</td>\n",
       "      <td>435</td>\n",
       "      <td>5.0</td>\n",
       "    </tr>\n",
       "    <tr>\n",
       "      <th>3</th>\n",
       "      <td>Pizza</td>\n",
       "      <td>320</td>\n",
       "      <td>3.0</td>\n",
       "    </tr>\n",
       "    <tr>\n",
       "      <th>4</th>\n",
       "      <td>Bar</td>\n",
       "      <td>292</td>\n",
       "      <td>3.0</td>\n",
       "    </tr>\n",
       "    <tr>\n",
       "      <th>5</th>\n",
       "      <td>Bakery</td>\n",
       "      <td>283</td>\n",
       "      <td>3.0</td>\n",
       "    </tr>\n",
       "  </tbody>\n",
       "</table>\n",
       "</div>"
      ],
      "text/plain": [
       "         type  type_count  port_type\n",
       "0  Restaurant        7255       75.0\n",
       "1   Fast Food        1066       11.0\n",
       "2        Cafe         435        5.0\n",
       "3       Pizza         320        3.0\n",
       "4         Bar         292        3.0\n",
       "5      Bakery         283        3.0"
      ]
     },
     "execution_count": 27,
     "metadata": {},
     "output_type": "execute_result"
    }
   ],
   "source": [
    "#find the total number of establishment as `total_rest`\n",
    "total_rest=rest_data['object_name'].count()\n",
    "\n",
    "#sort by descending order the grouped data by type and count the establishment name and save it as `type_rest`.\n",
    "type_rest=rest_data.groupby('object_type')['object_name'].count().sort_values(ascending=False).reset_index()\n",
    "type_rest.columns=['type','type_count']\n",
    "\n",
    "# add portion column\n",
    "type_rest['port_type']=(type_rest['type_count']/total_rest*100).round()\n",
    "\n",
    "# plot a bar graph       \n",
    "fig = plt.figure(figsize = (15, 6))\n",
    "plt.bar(type_rest['type'],type_rest['port_type'],color=['#BBD6B8','#6096B4','#A7727D','#FD8A8A','#FDFDBD','#80558C'])\n",
    "def addlabels(x,y):\n",
    "    for i in range(len(x)):\n",
    "        plt.text(i, y[i]//2,y[i],ha = 'center',fontdict={'size':13})\n",
    "addlabels(type_rest['type'],type_rest['port_type'])\n",
    "plt.xlabel(\"Establishment type\", fontdict={'size':16})\n",
    "plt.ylabel(\"Establishment portion (%)\", fontdict={'size':16})\n",
    "plt.title(\"Portion of various establishment types\", fontdict={'size':20})\n",
    "plt.show()\n",
    "\n",
    "type_rest"
   ]
  },
  {
   "cell_type": "markdown",
   "metadata": {},
   "source": [
    "In L.A., 75% of establishments are restaurants."
   ]
  },
  {
   "cell_type": "markdown",
   "metadata": {},
   "source": [
    "### The proportions of chained and non-chained establishments"
   ]
  },
  {
   "cell_type": "markdown",
   "metadata": {},
   "source": [
    "To investigate the chained and non-chained establishments, we will:\n",
    "* sort by descending order the grouped data by chained/non-chained and count the establishment name and save it as `chain_rest`.\n",
    "* add a new column named `port_chain` by deviding `chain_count` by `total_rest`.\n",
    "* plot a bar graph"
   ]
  },
  {
   "cell_type": "code",
   "execution_count": 28,
   "metadata": {},
   "outputs": [
    {
     "data": {
      "image/png": "[encoded data removed]",
      "text/plain": [
       "<Figure size 864x504 with 1 Axes>"
      ]
     },
     "metadata": {
      "needs_background": "light"
     },
     "output_type": "display_data"
    },
    {
     "data": {
      "text/html": [
       "<div>\n",
       "<style scoped>\n",
       "    .dataframe tbody tr th:only-of-type {\n",
       "        vertical-align: middle;\n",
       "    }\n",
       "\n",
       "    .dataframe tbody tr th {\n",
       "        vertical-align: top;\n",
       "    }\n",
       "\n",
       "    .dataframe thead th {\n",
       "        text-align: right;\n",
       "    }\n",
       "</style>\n",
       "<table border=\"1\" class=\"dataframe\">\n",
       "  <thead>\n",
       "    <tr style=\"text-align: right;\">\n",
       "      <th></th>\n",
       "      <th>chain_type</th>\n",
       "      <th>chain_count</th>\n",
       "      <th>port_chain</th>\n",
       "    </tr>\n",
       "  </thead>\n",
       "  <tbody>\n",
       "    <tr>\n",
       "      <th>0</th>\n",
       "      <td>Chained</td>\n",
       "      <td>3676</td>\n",
       "      <td>38.0</td>\n",
       "    </tr>\n",
       "    <tr>\n",
       "      <th>1</th>\n",
       "      <td>Non-Chained</td>\n",
       "      <td>5975</td>\n",
       "      <td>62.0</td>\n",
       "    </tr>\n",
       "  </tbody>\n",
       "</table>\n",
       "</div>"
      ],
      "text/plain": [
       "    chain_type  chain_count  port_chain\n",
       "0      Chained         3676        38.0\n",
       "1  Non-Chained         5975        62.0"
      ]
     },
     "execution_count": 28,
     "metadata": {},
     "output_type": "execute_result"
    }
   ],
   "source": [
    "#sort by descending order the grouped data by chained/non-chained and count the establishment name and save it as `chain_rest`\n",
    "chain_rest = rest_data.groupby('chain')['object_name'].count().reset_index()\n",
    "chain_rest.columns=['chain_type','chain_count']\n",
    "\n",
    "#add a new column named `port_chain` by deviding `chain_count` by `total_rest`.\n",
    "chain_rest['port_chain']=(chain_rest['chain_count']/total_rest*100).round()\n",
    "\n",
    "#plot a bar graph\n",
    "fig = plt.figure(figsize = (12, 7))\n",
    "plt.bar(chain_rest['chain_type'],chain_rest['port_chain'],color=['#D61355','#F94A29'])\n",
    "addlabels(chain_rest['chain_type'],chain_rest['port_chain'])\n",
    "plt.xlabel(\"Chain or Non chain\", fontdict={'size':16})\n",
    "plt.ylabel(\"Establishment portion (%)\", fontdict={'size':16})\n",
    "plt.title(\"Proportions of Chained or Non-Chained establishments\", fontdict={'size':20})\n",
    "plt.show()\n",
    "\n",
    "chain_rest"
   ]
  },
  {
   "cell_type": "markdown",
   "metadata": {},
   "source": [
    "In L.A., 62% of establishments are Non-chained."
   ]
  },
  {
   "cell_type": "markdown",
   "metadata": {},
   "source": [
    "Now, let's look at the portion of establishment type of chained and non chained establishments as we did befor when we wil:\n",
    "* sort by descending order the grouped data by chained/non-chained and count the establishment name and save it as `chain_type_rest`.\n",
    "* add a new column named `portion` by deviding chain_count by `total_rest`.\n",
    "* plot a bar graph"
   ]
  },
  {
   "cell_type": "code",
   "execution_count": 29,
   "metadata": {
    "scrolled": true
   },
   "outputs": [
    {
     "data": {
      "image/png": "[encoded data removed]",
      "text/plain": [
       "<Figure size 1440x576 with 1 Axes>"
      ]
     },
     "metadata": {
      "needs_background": "light"
     },
     "output_type": "display_data"
    },
    {
     "data": {
      "text/html": [
       "<div>\n",
       "<style scoped>\n",
       "    .dataframe tbody tr th:only-of-type {\n",
       "        vertical-align: middle;\n",
       "    }\n",
       "\n",
       "    .dataframe tbody tr th {\n",
       "        vertical-align: top;\n",
       "    }\n",
       "\n",
       "    .dataframe thead th {\n",
       "        text-align: right;\n",
       "    }\n",
       "</style>\n",
       "<table border=\"1\" class=\"dataframe\">\n",
       "  <thead>\n",
       "    <tr style=\"text-align: right;\">\n",
       "      <th></th>\n",
       "      <th>rest_type</th>\n",
       "      <th>chain_type</th>\n",
       "      <th>count</th>\n",
       "      <th>portion</th>\n",
       "    </tr>\n",
       "  </thead>\n",
       "  <tbody>\n",
       "    <tr>\n",
       "      <th>0</th>\n",
       "      <td>Bakery</td>\n",
       "      <td>Chained</td>\n",
       "      <td>283</td>\n",
       "      <td>3.0</td>\n",
       "    </tr>\n",
       "    <tr>\n",
       "      <th>1</th>\n",
       "      <td>Bakery</td>\n",
       "      <td>Non-Chained</td>\n",
       "      <td>0</td>\n",
       "      <td>0.0</td>\n",
       "    </tr>\n",
       "    <tr>\n",
       "      <th>2</th>\n",
       "      <td>Bar</td>\n",
       "      <td>Chained</td>\n",
       "      <td>77</td>\n",
       "      <td>1.0</td>\n",
       "    </tr>\n",
       "    <tr>\n",
       "      <th>3</th>\n",
       "      <td>Bar</td>\n",
       "      <td>Non-Chained</td>\n",
       "      <td>215</td>\n",
       "      <td>2.0</td>\n",
       "    </tr>\n",
       "    <tr>\n",
       "      <th>4</th>\n",
       "      <td>Cafe</td>\n",
       "      <td>Chained</td>\n",
       "      <td>266</td>\n",
       "      <td>3.0</td>\n",
       "    </tr>\n",
       "    <tr>\n",
       "      <th>5</th>\n",
       "      <td>Cafe</td>\n",
       "      <td>Non-Chained</td>\n",
       "      <td>169</td>\n",
       "      <td>2.0</td>\n",
       "    </tr>\n",
       "    <tr>\n",
       "      <th>6</th>\n",
       "      <td>Fast Food</td>\n",
       "      <td>Chained</td>\n",
       "      <td>605</td>\n",
       "      <td>6.0</td>\n",
       "    </tr>\n",
       "    <tr>\n",
       "      <th>7</th>\n",
       "      <td>Fast Food</td>\n",
       "      <td>Non-Chained</td>\n",
       "      <td>461</td>\n",
       "      <td>5.0</td>\n",
       "    </tr>\n",
       "    <tr>\n",
       "      <th>8</th>\n",
       "      <td>Pizza</td>\n",
       "      <td>Chained</td>\n",
       "      <td>153</td>\n",
       "      <td>2.0</td>\n",
       "    </tr>\n",
       "    <tr>\n",
       "      <th>9</th>\n",
       "      <td>Pizza</td>\n",
       "      <td>Non-Chained</td>\n",
       "      <td>167</td>\n",
       "      <td>2.0</td>\n",
       "    </tr>\n",
       "    <tr>\n",
       "      <th>10</th>\n",
       "      <td>Restaurant</td>\n",
       "      <td>Chained</td>\n",
       "      <td>2292</td>\n",
       "      <td>24.0</td>\n",
       "    </tr>\n",
       "    <tr>\n",
       "      <th>11</th>\n",
       "      <td>Restaurant</td>\n",
       "      <td>Non-Chained</td>\n",
       "      <td>4963</td>\n",
       "      <td>51.0</td>\n",
       "    </tr>\n",
       "  </tbody>\n",
       "</table>\n",
       "</div>"
      ],
      "text/plain": [
       "     rest_type   chain_type  count  portion\n",
       "0       Bakery      Chained    283      3.0\n",
       "1       Bakery  Non-Chained      0      0.0\n",
       "2          Bar      Chained     77      1.0\n",
       "3          Bar  Non-Chained    215      2.0\n",
       "4         Cafe      Chained    266      3.0\n",
       "5         Cafe  Non-Chained    169      2.0\n",
       "6    Fast Food      Chained    605      6.0\n",
       "7    Fast Food  Non-Chained    461      5.0\n",
       "8        Pizza      Chained    153      2.0\n",
       "9        Pizza  Non-Chained    167      2.0\n",
       "10  Restaurant      Chained   2292     24.0\n",
       "11  Restaurant  Non-Chained   4963     51.0"
      ]
     },
     "execution_count": 29,
     "metadata": {},
     "output_type": "execute_result"
    }
   ],
   "source": [
    "# group data by object type and chained/non-chained\n",
    "#count the establishment name\n",
    "#save it as `chain_type_rest`\n",
    "chain_type_rest=rest_data.groupby(['object_type','chain'])['object_name'].count().reset_index()\n",
    "chain_type_rest.columns=['rest_type','chain_type','count']\n",
    "\n",
    "#add a new column named `portion` by deviding chain_count by `total_rest`\n",
    "chain_type_rest['portion']=(chain_type_rest['count']/total_rest*100).round()\n",
    "\n",
    "#plot a graph\n",
    "plt.figure(figsize=(20,8))\n",
    "# save colors from previous graph as a palette\n",
    "pal_chain = ['#D61355','#F94A29']\n",
    "ax=sns.barplot(x='rest_type',y='portion',hue='chain_type',data=chain_type_rest,palette=pal_chain)\n",
    "plt.title(\"Proportions of Chained or Non-Chained establishment per establishment type\", fontdict={'size':20})\n",
    "plt.xlabel(\"Establishment type\", fontdict={'size':16})\n",
    "plt.ylabel(\"Chain or Non chain portion (%)\", fontdict={'size':16})\n",
    "for i in ax.patches:\n",
    "    height = i.get_height()\n",
    "    ax.text(i.get_x()+i.get_width()/2., height + 0.1,height,ha=\"center\",fontdict={'size':14})\n",
    "plt.show()\n",
    "\n",
    "chain_type_rest"
   ]
  },
  {
   "cell_type": "markdown",
   "metadata": {},
   "source": [
    "Non-chained restaurants represent 50% of all data! and we have no Non-chained bakeries."
   ]
  },
  {
   "cell_type": "markdown",
   "metadata": {},
   "source": [
    "### Which type of establishment is typically a chain"
   ]
  },
  {
   "cell_type": "markdown",
   "metadata": {},
   "source": [
    "Let's take a closer look at the chained establishments and what type are they.We saw previously that the restaurants represents 25% of chained establishments. What if we look at it in a different way.\n",
    "For that, we will:\n",
    "* look at the portion of establishment types of all chained establishments -\n",
    "    * find the total number of chained establishment as `total_chain`.\n",
    "    * filter the data to chained establishment, group by establishment type and count the establishment names and save it as `rest_chain`.\n",
    "    * add a new column named `chain_port` by dividing `type_count` by `total_chain`.\n",
    "    * plot a pie chart"
   ]
  },
  {
   "cell_type": "code",
   "execution_count": 30,
   "metadata": {},
   "outputs": [
    {
     "data": {
      "image/png": "[encoded data removed]",
      "text/plain": [
       "<Figure size 1440x720 with 1 Axes>"
      ]
     },
     "metadata": {},
     "output_type": "display_data"
    },
    {
     "data": {
      "text/html": [
       "<div>\n",
       "<style scoped>\n",
       "    .dataframe tbody tr th:only-of-type {\n",
       "        vertical-align: middle;\n",
       "    }\n",
       "\n",
       "    .dataframe tbody tr th {\n",
       "        vertical-align: top;\n",
       "    }\n",
       "\n",
       "    .dataframe thead th {\n",
       "        text-align: right;\n",
       "    }\n",
       "</style>\n",
       "<table border=\"1\" class=\"dataframe\">\n",
       "  <thead>\n",
       "    <tr style=\"text-align: right;\">\n",
       "      <th></th>\n",
       "      <th>rest_type</th>\n",
       "      <th>type_count</th>\n",
       "      <th>chain_port</th>\n",
       "    </tr>\n",
       "  </thead>\n",
       "  <tbody>\n",
       "    <tr>\n",
       "      <th>0</th>\n",
       "      <td>Restaurant</td>\n",
       "      <td>2292</td>\n",
       "      <td>62.0</td>\n",
       "    </tr>\n",
       "    <tr>\n",
       "      <th>1</th>\n",
       "      <td>Fast Food</td>\n",
       "      <td>605</td>\n",
       "      <td>16.0</td>\n",
       "    </tr>\n",
       "    <tr>\n",
       "      <th>2</th>\n",
       "      <td>Bakery</td>\n",
       "      <td>283</td>\n",
       "      <td>8.0</td>\n",
       "    </tr>\n",
       "    <tr>\n",
       "      <th>3</th>\n",
       "      <td>Cafe</td>\n",
       "      <td>266</td>\n",
       "      <td>7.0</td>\n",
       "    </tr>\n",
       "    <tr>\n",
       "      <th>4</th>\n",
       "      <td>Pizza</td>\n",
       "      <td>153</td>\n",
       "      <td>4.0</td>\n",
       "    </tr>\n",
       "    <tr>\n",
       "      <th>5</th>\n",
       "      <td>Bar</td>\n",
       "      <td>77</td>\n",
       "      <td>2.0</td>\n",
       "    </tr>\n",
       "  </tbody>\n",
       "</table>\n",
       "</div>"
      ],
      "text/plain": [
       "    rest_type  type_count  chain_port\n",
       "0  Restaurant        2292        62.0\n",
       "1   Fast Food         605        16.0\n",
       "2      Bakery         283         8.0\n",
       "3        Cafe         266         7.0\n",
       "4       Pizza         153         4.0\n",
       "5         Bar          77         2.0"
      ]
     },
     "execution_count": 30,
     "metadata": {},
     "output_type": "execute_result"
    }
   ],
   "source": [
    "# find the total number of chained establishment as `total_chain`\n",
    "total_chain=rest_data[(rest_data['chain']==\"Chained\")]['object_name'].count()\n",
    "\n",
    "#filter the data to chained establishment\n",
    "#group by establishment type, count the establishment names and save it as `rest_chain`\n",
    "rest_chain=rest_data.query('chain == \"Chained\"').groupby('object_type')['object_name'].count().sort_values(ascending=False).reset_index()\n",
    "rest_chain.columns=['rest_type','type_count']\n",
    "\n",
    "#add a new column named `chain_port`\n",
    "rest_chain['chain_port']=(rest_chain['type_count']/total_chain*100).round()\n",
    "\n",
    "#plot a pie chart\n",
    "plt.figure(figsize=(20,10))\n",
    "#use the colors used in the bar graph as palette named type_pal\n",
    "type_pal = sns.color_palette(['#BBD6B8','#6096B4','#A7727D','#FD8A8A','#FDFDBD','#80558C'])\n",
    "plt.pie(rest_chain['chain_port'], labels = rest_chain['rest_type'], colors = type_pal, autopct='%.0f%%')\n",
    "plt.title(\"Chained Establishments\",fontdict={'size':20})\n",
    "plt.show()\n",
    "\n",
    "rest_chain"
   ]
  },
  {
   "cell_type": "markdown",
   "metadata": {},
   "source": [
    "63% of all chained establishments are restaurants. \n",
    "\n",
    "But what if we look at the portion of chained establishments for each establishment type. For that we will:\n",
    "* merge the analysis from `type_rest` to the analysis of `rest_chain` on establishment typeand saved it as `merged_rest_chain`.\n",
    "* add a new column `portion` by deviding foe each type the number of chained establishmnet by total number of chained and non-chained establishments.\n",
    "* plot a graph."
   ]
  },
  {
   "cell_type": "code",
   "execution_count": 31,
   "metadata": {},
   "outputs": [
    {
     "data": {
      "image/png": "[encoded data removed]",
      "text/plain": [
       "<Figure size 864x504 with 1 Axes>"
      ]
     },
     "metadata": {
      "needs_background": "light"
     },
     "output_type": "display_data"
    },
    {
     "data": {
      "text/html": [
       "<div>\n",
       "<style scoped>\n",
       "    .dataframe tbody tr th:only-of-type {\n",
       "        vertical-align: middle;\n",
       "    }\n",
       "\n",
       "    .dataframe tbody tr th {\n",
       "        vertical-align: top;\n",
       "    }\n",
       "\n",
       "    .dataframe thead th {\n",
       "        text-align: right;\n",
       "    }\n",
       "</style>\n",
       "<table border=\"1\" class=\"dataframe\">\n",
       "  <thead>\n",
       "    <tr style=\"text-align: right;\">\n",
       "      <th></th>\n",
       "      <th>rest_type</th>\n",
       "      <th>chain_count</th>\n",
       "      <th>type_count</th>\n",
       "      <th>portion</th>\n",
       "    </tr>\n",
       "  </thead>\n",
       "  <tbody>\n",
       "    <tr>\n",
       "      <th>2</th>\n",
       "      <td>Bakery</td>\n",
       "      <td>283</td>\n",
       "      <td>283</td>\n",
       "      <td>100.0</td>\n",
       "    </tr>\n",
       "    <tr>\n",
       "      <th>3</th>\n",
       "      <td>Cafe</td>\n",
       "      <td>266</td>\n",
       "      <td>435</td>\n",
       "      <td>61.0</td>\n",
       "    </tr>\n",
       "    <tr>\n",
       "      <th>1</th>\n",
       "      <td>Fast Food</td>\n",
       "      <td>605</td>\n",
       "      <td>1066</td>\n",
       "      <td>57.0</td>\n",
       "    </tr>\n",
       "    <tr>\n",
       "      <th>4</th>\n",
       "      <td>Pizza</td>\n",
       "      <td>153</td>\n",
       "      <td>320</td>\n",
       "      <td>48.0</td>\n",
       "    </tr>\n",
       "    <tr>\n",
       "      <th>0</th>\n",
       "      <td>Restaurant</td>\n",
       "      <td>2292</td>\n",
       "      <td>7255</td>\n",
       "      <td>32.0</td>\n",
       "    </tr>\n",
       "    <tr>\n",
       "      <th>5</th>\n",
       "      <td>Bar</td>\n",
       "      <td>77</td>\n",
       "      <td>292</td>\n",
       "      <td>26.0</td>\n",
       "    </tr>\n",
       "  </tbody>\n",
       "</table>\n",
       "</div>"
      ],
      "text/plain": [
       "    rest_type  chain_count  type_count  portion\n",
       "2      Bakery          283         283    100.0\n",
       "3        Cafe          266         435     61.0\n",
       "1   Fast Food          605        1066     57.0\n",
       "4       Pizza          153         320     48.0\n",
       "0  Restaurant         2292        7255     32.0\n",
       "5         Bar           77         292     26.0"
      ]
     },
     "execution_count": 31,
     "metadata": {},
     "output_type": "execute_result"
    }
   ],
   "source": [
    "# merge between rest_chain and type_rest on estalbishment type\n",
    "merged_rest_chain=rest_chain[['rest_type','type_count']].merge(type_rest[['type','type_count']]\n",
    "                                                               ,left_on='rest_type',right_on='type')\n",
    "merged_rest_chain.columns=['rest_type','chain_count','type','type_count']\n",
    "merged_rest_chain=merged_rest_chain[['rest_type','chain_count','type_count']]\n",
    "\n",
    "# add portion column\n",
    "merged_rest_chain['portion']=(merged_rest_chain['chain_count']/merged_rest_chain['type_count']*100).round()\n",
    "merged_rest_chain=merged_rest_chain.sort_values(by='portion',ascending=False)\n",
    "#plot a bar graph\n",
    "fig = plt.figure(figsize = (12, 7))\n",
    "plt.bar(merged_rest_chain['rest_type'],merged_rest_chain['portion'],color=['#BBD6B8','#6096B4','#A7727D','#FD8A8A','#FDFDBD',\n",
    "                                                                           '#80558C'] )                                                                                  \n",
    "addlabels(merged_rest_chain['rest_type'],merged_rest_chain['portion'])\n",
    "plt.xlabel(\"Establishment type\", fontdict={'size':16})\n",
    "plt.ylabel(\"Chained establishment portion (%)\", fontdict={'size':16})\n",
    "plt.title(\"Proportions of Chained establishment per type\", fontdict={'size':20})\n",
    "plt.show()\n",
    "merged_rest_chain.sort_values(by='portion',ascending=False)"
   ]
  },
  {
   "cell_type": "markdown",
   "metadata": {},
   "source": [
    "What a suprise! All bakeries are chained. And then 61% of Cafe are chained and 57% of fast food are chained. While only 32% of all resturants are chained."
   ]
  },
  {
   "cell_type": "markdown",
   "metadata": {},
   "source": [
    "### What characterizes chains"
   ]
  },
  {
   "cell_type": "markdown",
   "metadata": {},
   "source": [
    "From pevious analysis, we understand that the type of establishment can not characterise chained establishments. \n",
    "So now we will look at the distribution of number of seats in chained establishments and number of seats per number of chained establishments."
   ]
  },
  {
   "cell_type": "markdown",
   "metadata": {},
   "source": [
    "We will a see distribution plot and boxplot of number of seats and a boxplot and search the 25 and 75 percentile of the data."
   ]
  },
  {
   "cell_type": "code",
   "execution_count": 32,
   "metadata": {},
   "outputs": [
    {
     "data": {
      "image/png": "[encoded data removed]",
      "text/plain": [
       "<Figure size 900x360 with 1 Axes>"
      ]
     },
     "metadata": {
      "needs_background": "light"
     },
     "output_type": "display_data"
    },
    {
     "name": "stdout",
     "output_type": "stream",
     "text": [
      "The 25 and 75 percentile are: [13. 44.]\n",
      "The 95 and 99 percentile are: [140.   206.25]\n"
     ]
    },
    {
     "data": {
      "image/png": "[encoded data removed]",
      "text/plain": [
       "<Figure size 1080x432 with 1 Axes>"
      ]
     },
     "metadata": {
      "needs_background": "light"
     },
     "output_type": "display_data"
    },
    {
     "data": {
      "text/plain": [
       "count    3676.000000\n",
       "mean       39.694233\n",
       "std        43.437212\n",
       "min         1.000000\n",
       "25%        13.000000\n",
       "50%        25.000000\n",
       "75%        44.000000\n",
       "max       229.000000\n",
       "Name: number, dtype: float64"
      ]
     },
     "execution_count": 32,
     "metadata": {},
     "output_type": "execute_result"
    }
   ],
   "source": [
    "#filter the data to chained establishments\n",
    "chained=rest_data.query('chain == \"Chained\"')\n",
    "chained['number'].describe()\n",
    "\n",
    "#plot a distribution plot\n",
    "sns.displot(data=chained,x='number',kde=True,height=5,aspect=2.5,color='#E11299')\n",
    "plt.axvline(chained['number'].median(), linestyle='dashed', linewidth=2)\n",
    "min_ylim, max_ylim = plt.ylim()\n",
    "plt.text(chained['number'].median()*1.1, max_ylim*0.92, 'Median: {:.0f}'.format(chained['number'].median()))\n",
    "plt.title(\"Distribution of Number of Seats of Chained establishmnets\",fontdict={'size':20})\n",
    "plt.xlabel('Numbe of seats',fontdict={'size':18})\n",
    "plt.ylabel('Density',fontdict={'size':18})\n",
    "plt.show()\n",
    "\n",
    "#plot a boxplot\n",
    "fig = plt.figure(figsize = (15, 6))\n",
    "sns.boxplot(data=chained,x='number',color='#E11299')\n",
    "plt.axvline(chained['number'].median(), linestyle='dashed', linewidth=2)\n",
    "min_ylim, max_ylim = plt.ylim()\n",
    "plt.text(chained['number'].median()*1.1, max_ylim*0.92, 'Median: {:.0f}'.format(chained['number'].median()))\n",
    "plt.title(\"Boxplot of number of seats\",fontdict={'size':20})\n",
    "plt.xlabel('Numbe of seats',fontdict={'size':18})\n",
    "print(\"The 25 and 75 percentile are:\",np.percentile(chained['number'], [25, 75]))\n",
    "print(\"The 95 and 99 percentile are:\",np.percentile(chained['number'], [95, 99]))\n",
    "plt.show()\n",
    "\n",
    "chained['number'].describe()"
   ]
  },
  {
   "cell_type": "markdown",
   "metadata": {},
   "source": [
    "The disrtibution is skewed to the right. That mean that most establishment have less number of seats than average. Most establishment have at least 13 seat and at the most 44, while most of them have 25 seats."
   ]
  },
  {
   "cell_type": "markdown",
   "metadata": {},
   "source": [
    "To answer the following question - `many establishments with a small number of seats or a few establishments with a lot of seats?`, We will group by branche name and check for number of establishments and average number of seat."
   ]
  },
  {
   "cell_type": "code",
   "execution_count": 33,
   "metadata": {},
   "outputs": [
    {
     "data": {
      "image/png": "[encoded data removed]",
      "text/plain": [
       "<Figure size 540x540 with 3 Axes>"
      ]
     },
     "metadata": {
      "needs_background": "light"
     },
     "output_type": "display_data"
    },
    {
     "data": {
      "text/html": [
       "<div>\n",
       "<style scoped>\n",
       "    .dataframe tbody tr th:only-of-type {\n",
       "        vertical-align: middle;\n",
       "    }\n",
       "\n",
       "    .dataframe tbody tr th {\n",
       "        vertical-align: top;\n",
       "    }\n",
       "\n",
       "    .dataframe thead th {\n",
       "        text-align: right;\n",
       "    }\n",
       "</style>\n",
       "<table border=\"1\" class=\"dataframe\">\n",
       "  <thead>\n",
       "    <tr style=\"text-align: right;\">\n",
       "      <th></th>\n",
       "      <th>name</th>\n",
       "      <th>rest_count</th>\n",
       "      <th>avg_seat</th>\n",
       "    </tr>\n",
       "  </thead>\n",
       "  <tbody>\n",
       "    <tr>\n",
       "      <th>1729</th>\n",
       "      <td>SUBWAY</td>\n",
       "      <td>118</td>\n",
       "      <td>16.406780</td>\n",
       "    </tr>\n",
       "    <tr>\n",
       "      <th>1715</th>\n",
       "      <td>STARBUCKS COFFEE</td>\n",
       "      <td>87</td>\n",
       "      <td>24.850575</td>\n",
       "    </tr>\n",
       "    <tr>\n",
       "      <th>1176</th>\n",
       "      <td>MCDONALD'S</td>\n",
       "      <td>79</td>\n",
       "      <td>93.911392</td>\n",
       "    </tr>\n",
       "    <tr>\n",
       "      <th>789</th>\n",
       "      <td>JACK IN THE BOX</td>\n",
       "      <td>52</td>\n",
       "      <td>64.980769</td>\n",
       "    </tr>\n",
       "    <tr>\n",
       "      <th>1839</th>\n",
       "      <td>THE COFFEE BEAN &amp; TEA LEAF</td>\n",
       "      <td>51</td>\n",
       "      <td>26.235294</td>\n",
       "    </tr>\n",
       "    <tr>\n",
       "      <th>185</th>\n",
       "      <td>BURGER KING</td>\n",
       "      <td>38</td>\n",
       "      <td>84.789474</td>\n",
       "    </tr>\n",
       "    <tr>\n",
       "      <th>516</th>\n",
       "      <td>EL POLLO LOCO</td>\n",
       "      <td>36</td>\n",
       "      <td>67.833333</td>\n",
       "    </tr>\n",
       "    <tr>\n",
       "      <th>1709</th>\n",
       "      <td>STARBUCKS</td>\n",
       "      <td>31</td>\n",
       "      <td>33.709677</td>\n",
       "    </tr>\n",
       "    <tr>\n",
       "      <th>1450</th>\n",
       "      <td>PIZZA HUT</td>\n",
       "      <td>30</td>\n",
       "      <td>14.633333</td>\n",
       "    </tr>\n",
       "    <tr>\n",
       "      <th>419</th>\n",
       "      <td>DOMINO'S PIZZA</td>\n",
       "      <td>30</td>\n",
       "      <td>13.866667</td>\n",
       "    </tr>\n",
       "    <tr>\n",
       "      <th>1772</th>\n",
       "      <td>TACO BELL</td>\n",
       "      <td>30</td>\n",
       "      <td>48.533333</td>\n",
       "    </tr>\n",
       "    <tr>\n",
       "      <th>2046</th>\n",
       "      <td>YOSHINOYA</td>\n",
       "      <td>28</td>\n",
       "      <td>46.857143</td>\n",
       "    </tr>\n",
       "    <tr>\n",
       "      <th>1376</th>\n",
       "      <td>PANDA EXPRESS</td>\n",
       "      <td>23</td>\n",
       "      <td>36.043478</td>\n",
       "    </tr>\n",
       "    <tr>\n",
       "      <th>233</th>\n",
       "      <td>CARL'S JR</td>\n",
       "      <td>22</td>\n",
       "      <td>96.727273</td>\n",
       "    </tr>\n",
       "    <tr>\n",
       "      <th>794</th>\n",
       "      <td>JAMBA JUICE</td>\n",
       "      <td>19</td>\n",
       "      <td>19.473684</td>\n",
       "    </tr>\n",
       "    <tr>\n",
       "      <th>298</th>\n",
       "      <td>CHIPOTLE MEXICAN GRILL</td>\n",
       "      <td>18</td>\n",
       "      <td>39.388889</td>\n",
       "    </tr>\n",
       "    <tr>\n",
       "      <th>862</th>\n",
       "      <td>KENTUCKY FRIED CHICKEN</td>\n",
       "      <td>16</td>\n",
       "      <td>38.375000</td>\n",
       "    </tr>\n",
       "    <tr>\n",
       "      <th>1733</th>\n",
       "      <td>SUBWAY SANDWICHES</td>\n",
       "      <td>15</td>\n",
       "      <td>23.000000</td>\n",
       "    </tr>\n",
       "    <tr>\n",
       "      <th>2006</th>\n",
       "      <td>WINGSTOP</td>\n",
       "      <td>14</td>\n",
       "      <td>21.500000</td>\n",
       "    </tr>\n",
       "    <tr>\n",
       "      <th>1388</th>\n",
       "      <td>PAPA JOHN'S PIZZA</td>\n",
       "      <td>14</td>\n",
       "      <td>14.785714</td>\n",
       "    </tr>\n",
       "  </tbody>\n",
       "</table>\n",
       "</div>"
      ],
      "text/plain": [
       "                            name  rest_count   avg_seat\n",
       "1729                      SUBWAY         118  16.406780\n",
       "1715            STARBUCKS COFFEE          87  24.850575\n",
       "1176                  MCDONALD'S          79  93.911392\n",
       "789              JACK IN THE BOX          52  64.980769\n",
       "1839  THE COFFEE BEAN & TEA LEAF          51  26.235294\n",
       "185                  BURGER KING          38  84.789474\n",
       "516                EL POLLO LOCO          36  67.833333\n",
       "1709                   STARBUCKS          31  33.709677\n",
       "1450                   PIZZA HUT          30  14.633333\n",
       "419               DOMINO'S PIZZA          30  13.866667\n",
       "1772                   TACO BELL          30  48.533333\n",
       "2046                   YOSHINOYA          28  46.857143\n",
       "1376               PANDA EXPRESS          23  36.043478\n",
       "233                    CARL'S JR          22  96.727273\n",
       "794                  JAMBA JUICE          19  19.473684\n",
       "298       CHIPOTLE MEXICAN GRILL          18  39.388889\n",
       "862       KENTUCKY FRIED CHICKEN          16  38.375000\n",
       "1733           SUBWAY SANDWICHES          15  23.000000\n",
       "2006                    WINGSTOP          14  21.500000\n",
       "1388           PAPA JOHN'S PIZZA          14  14.785714"
      ]
     },
     "execution_count": 33,
     "metadata": {},
     "output_type": "execute_result"
    }
   ],
   "source": [
    "# group chained establishment by branche name\n",
    "# count number of unique seats and the average number of seats\n",
    "seat_chain=chained.groupby('object_name')['number'].agg(['count','mean']).reset_index()\n",
    "seat_chain.columns=['name','rest_count','avg_seat']\n",
    "\n",
    "#plot a joint plot\n",
    "sns.jointplot(data=seat_chain,x='rest_count',y='avg_seat',kind='reg',color='#E11299',height=7.5)\n",
    "plt.show()\n",
    "\n",
    "seat_chain.sort_values(by='rest_count',ascending=False).head(20)"
   ]
  },
  {
   "cell_type": "markdown",
   "metadata": {},
   "source": [
    "This previous plot is answering the following question - `many establishments with a small number of seats or a few establishments with a lot of seats?`\n",
    "We have many establishments low number of seats, on average between 10 to 50 seats."
   ]
  },
  {
   "cell_type": "markdown",
   "metadata": {},
   "source": [
    "### Average number of seats per establishment type"
   ]
  },
  {
   "cell_type": "markdown",
   "metadata": {},
   "source": [
    "To answer the following question - on average, which type of restaurant has the greatest number of seats?\n",
    "We will group by establishmnet type and search the average number of seat in generl, for chained and non- chained establishments."
   ]
  },
  {
   "cell_type": "code",
   "execution_count": 34,
   "metadata": {},
   "outputs": [
    {
     "data": {
      "text/plain": [
       "<Figure size 864x504 with 0 Axes>"
      ]
     },
     "metadata": {},
     "output_type": "display_data"
    },
    {
     "data": {
      "image/png": "[encoded data removed]",
      "text/plain": [
       "<Figure size 1080x576 with 1 Axes>"
      ]
     },
     "metadata": {
      "needs_background": "light"
     },
     "output_type": "display_data"
    },
    {
     "data": {
      "text/html": [
       "<div>\n",
       "<style scoped>\n",
       "    .dataframe tbody tr th:only-of-type {\n",
       "        vertical-align: middle;\n",
       "    }\n",
       "\n",
       "    .dataframe tbody tr th {\n",
       "        vertical-align: top;\n",
       "    }\n",
       "\n",
       "    .dataframe thead th {\n",
       "        text-align: right;\n",
       "    }\n",
       "</style>\n",
       "<table border=\"1\" class=\"dataframe\">\n",
       "  <thead>\n",
       "    <tr style=\"text-align: right;\">\n",
       "      <th></th>\n",
       "      <th>object_type</th>\n",
       "      <th>avg_number</th>\n",
       "      <th>avg_chained_seat</th>\n",
       "      <th>avg_nonchained_seat</th>\n",
       "    </tr>\n",
       "  </thead>\n",
       "  <tbody>\n",
       "    <tr>\n",
       "      <th>0</th>\n",
       "      <td>Bakery</td>\n",
       "      <td>22.0</td>\n",
       "      <td>22.0</td>\n",
       "      <td>0.0</td>\n",
       "    </tr>\n",
       "    <tr>\n",
       "      <th>1</th>\n",
       "      <td>Bar</td>\n",
       "      <td>45.0</td>\n",
       "      <td>40.0</td>\n",
       "      <td>46.0</td>\n",
       "    </tr>\n",
       "    <tr>\n",
       "      <th>2</th>\n",
       "      <td>Cafe</td>\n",
       "      <td>25.0</td>\n",
       "      <td>26.0</td>\n",
       "      <td>24.0</td>\n",
       "    </tr>\n",
       "    <tr>\n",
       "      <th>3</th>\n",
       "      <td>Fast Food</td>\n",
       "      <td>32.0</td>\n",
       "      <td>38.0</td>\n",
       "      <td>24.0</td>\n",
       "    </tr>\n",
       "    <tr>\n",
       "      <th>4</th>\n",
       "      <td>Pizza</td>\n",
       "      <td>28.0</td>\n",
       "      <td>26.0</td>\n",
       "      <td>31.0</td>\n",
       "    </tr>\n",
       "    <tr>\n",
       "      <th>5</th>\n",
       "      <td>Restaurant</td>\n",
       "      <td>48.0</td>\n",
       "      <td>45.0</td>\n",
       "      <td>50.0</td>\n",
       "    </tr>\n",
       "  </tbody>\n",
       "</table>\n",
       "</div>"
      ],
      "text/plain": [
       "  object_type  avg_number  avg_chained_seat  avg_nonchained_seat\n",
       "0      Bakery        22.0              22.0                  0.0\n",
       "1         Bar        45.0              40.0                 46.0\n",
       "2        Cafe        25.0              26.0                 24.0\n",
       "3   Fast Food        32.0              38.0                 24.0\n",
       "4       Pizza        28.0              26.0                 31.0\n",
       "5  Restaurant        48.0              45.0                 50.0"
      ]
     },
     "execution_count": 34,
     "metadata": {},
     "output_type": "execute_result"
    }
   ],
   "source": [
    "#group data by establishment type and find for each the average number of seats.\n",
    "seat_per_rest_type=rest_data.groupby('object_type')['number'].mean().round().reset_index()\n",
    "seat_per_rest_type.columns=['object_type','avg_number']\n",
    "\n",
    "#filter to chained establishment, group by type and find average number of seat.\n",
    "seat_per_chain=rest_data.query('chain==\"Chained\"').groupby('object_type')['number'].mean().round().reset_index()\n",
    "seat_per_chain.columns=['object_type','avg_chained_seat']\n",
    "\n",
    "#filter to non-chained establishment, group by type and find average number of seat.\n",
    "seat_per_nonchain=rest_data.query('chain==\"Non-Chained\"').groupby('object_type')['number'].mean().round().fillna(0).reset_index()\n",
    "seat_per_nonchain.columns=['object_type','avg_nonchained_seat']\n",
    "\n",
    "# merge all data on the establishmnet type.\n",
    "avg_seat_per_type=seat_per_rest_type.merge(seat_per_chain,on='object_type')\n",
    "avg_seat_per_type=avg_seat_per_type.merge(seat_per_nonchain,on='object_type')\n",
    "\n",
    "# plot a bar type\n",
    "fig = plt.figure(figsize = (12, 7))\n",
    "ax=avg_seat_per_type.plot(x='object_type',y=['avg_number','avg_chained_seat','avg_nonchained_seat'],kind='bar',figsize = (15, 8),color=['#E11299','#9A208C','#F5C6EC'])\n",
    "plt.title(\"Average number of seat per establishment type\",fontdict={'size':20})\n",
    "plt.xlabel('Establishment type',fontdict={'size':18})\n",
    "plt.ylabel('Average seat number',fontdict={'size':18})\n",
    "for i in ax.patches:\n",
    "    height = i.get_height()\n",
    "    ax.text(i.get_x()+i.get_width()/2., height + 0.1,height,ha=\"center\",fontdict={'size':12})\n",
    "plt.show()\n",
    "\n",
    "avg_seat_per_type"
   ]
  },
  {
   "cell_type": "markdown",
   "metadata": {},
   "source": [
    "On average, restaurants have the most highest number of seats in general, in chained and non chained fron the rest of the establishment type. And the next one are bars."
   ]
  },
  {
   "cell_type": "markdown",
   "metadata": {},
   "source": [
    "###  Street names "
   ]
  },
  {
   "cell_type": "markdown",
   "metadata": {},
   "source": [
    "To add street names we first import USA address."
   ]
  },
  {
   "cell_type": "code",
   "execution_count": 35,
   "metadata": {},
   "outputs": [
    {
     "name": "stdout",
     "output_type": "stream",
     "text": [
      "Collecting usaddress\n",
      "  Downloading usaddress-0.5.10-py2.py3-none-any.whl (63 kB)\n",
      "\u001b[K     |████████████████████████████████| 63 kB 3.1 MB/s  eta 0:00:01\n",
      "\u001b[?25hCollecting python-crfsuite>=0.7\n",
      "  Downloading python_crfsuite-0.9.9-cp39-cp39-manylinux_2_17_x86_64.manylinux2014_x86_64.whl (1.0 MB)\n",
      "\u001b[K     |████████████████████████████████| 1.0 MB 39.3 MB/s eta 0:00:01\n",
      "\u001b[?25hCollecting probableparsing\n",
      "  Downloading probableparsing-0.0.1-py2.py3-none-any.whl (3.1 kB)\n",
      "Collecting future>=0.14\n",
      "  Downloading future-0.18.3.tar.gz (840 kB)\n",
      "\u001b[K     |████████████████████████████████| 840 kB 44.5 MB/s eta 0:00:01\n",
      "\u001b[?25hBuilding wheels for collected packages: future\n",
      "  Building wheel for future (setup.py) ... \u001b[?25ldone\n",
      "\u001b[?25h  Created wheel for future: filename=future-0.18.3-py3-none-any.whl size=492026 sha256=8d300503ce4b48bc37efd961919af65e76d58e7037612c2098b4790a349b42c0\n",
      "  Stored in directory: /home/jovyan/.cache/pip/wheels/bf/5d/6a/2e53874f7ec4e2bede522385439531fafec8fafe005b5c3d1b\n",
      "Successfully built future\n",
      "Installing collected packages: python-crfsuite, probableparsing, future, usaddress\n",
      "Successfully installed future-0.18.3 probableparsing-0.0.1 python-crfsuite-0.9.9 usaddress-0.5.10\n",
      "Note: you may need to restart the kernel to use updated packages.\n"
     ]
    }
   ],
   "source": [
    "pip install usaddress"
   ]
  },
  {
   "cell_type": "code",
   "execution_count": 36,
   "metadata": {},
   "outputs": [],
   "source": [
    "import usaddress"
   ]
  },
  {
   "cell_type": "markdown",
   "metadata": {},
   "source": [
    "Then, we will creat a function called `check_street` which will import the street name from the address and apply it on the `address` column as a new column named ` raw_street_name`. And finely, check for missing values as `no street name`."
   ]
  },
  {
   "cell_type": "code",
   "execution_count": 37,
   "metadata": {},
   "outputs": [],
   "source": [
    "def check_street(raw):\n",
    "    raw_address=usaddress.parse(raw)\n",
    "    dict_address={}\n",
    "    for i in raw_address:\n",
    "        dict_address.update({i[1]:i[0]})\n",
    "    if 'StreetName' in dict_address.keys():\n",
    "        clean_adress=dict_address['StreetName']\n",
    "        return clean_adress\n",
    "    else:\n",
    "        return 'no street name'"
   ]
  },
  {
   "cell_type": "code",
   "execution_count": 38,
   "metadata": {},
   "outputs": [
    {
     "data": {
      "text/html": [
       "<div>\n",
       "<style scoped>\n",
       "    .dataframe tbody tr th:only-of-type {\n",
       "        vertical-align: middle;\n",
       "    }\n",
       "\n",
       "    .dataframe tbody tr th {\n",
       "        vertical-align: top;\n",
       "    }\n",
       "\n",
       "    .dataframe thead th {\n",
       "        text-align: right;\n",
       "    }\n",
       "</style>\n",
       "<table border=\"1\" class=\"dataframe\">\n",
       "  <thead>\n",
       "    <tr style=\"text-align: right;\">\n",
       "      <th></th>\n",
       "      <th>id</th>\n",
       "      <th>object_name</th>\n",
       "      <th>address</th>\n",
       "      <th>chain</th>\n",
       "      <th>object_type</th>\n",
       "      <th>number</th>\n",
       "      <th>raw_street_name</th>\n",
       "    </tr>\n",
       "  </thead>\n",
       "  <tbody>\n",
       "    <tr>\n",
       "      <th>1888</th>\n",
       "      <td>13674</td>\n",
       "      <td>MAGDALENO DEBBIE</td>\n",
       "      <td>OLVERA ST E17</td>\n",
       "      <td>Non-Chained</td>\n",
       "      <td>Restaurant</td>\n",
       "      <td>15</td>\n",
       "      <td>no street name</td>\n",
       "    </tr>\n",
       "    <tr>\n",
       "      <th>3719</th>\n",
       "      <td>15505</td>\n",
       "      <td>LAS ANITAS</td>\n",
       "      <td>OLVERA ST 26</td>\n",
       "      <td>Non-Chained</td>\n",
       "      <td>Restaurant</td>\n",
       "      <td>38</td>\n",
       "      <td>no street name</td>\n",
       "    </tr>\n",
       "    <tr>\n",
       "      <th>7003</th>\n",
       "      <td>18789</td>\n",
       "      <td>D.K. DONUTS</td>\n",
       "      <td>1033 1/2 LOS ANGELES ST</td>\n",
       "      <td>Non-Chained</td>\n",
       "      <td>Fast Food</td>\n",
       "      <td>8</td>\n",
       "      <td>no street name</td>\n",
       "    </tr>\n",
       "    <tr>\n",
       "      <th>7281</th>\n",
       "      <td>19067</td>\n",
       "      <td>CIELITO LINDO</td>\n",
       "      <td>OLVERA ST 23</td>\n",
       "      <td>Non-Chained</td>\n",
       "      <td>Restaurant</td>\n",
       "      <td>2</td>\n",
       "      <td>no street name</td>\n",
       "    </tr>\n",
       "    <tr>\n",
       "      <th>7319</th>\n",
       "      <td>19105</td>\n",
       "      <td>JUANITA'S CAFE</td>\n",
       "      <td>OLVERA ST 20</td>\n",
       "      <td>Non-Chained</td>\n",
       "      <td>Restaurant</td>\n",
       "      <td>12</td>\n",
       "      <td>no street name</td>\n",
       "    </tr>\n",
       "    <tr>\n",
       "      <th>7321</th>\n",
       "      <td>19107</td>\n",
       "      <td>KITTY'S SNOW CONES</td>\n",
       "      <td>OLVERA ST 2</td>\n",
       "      <td>Non-Chained</td>\n",
       "      <td>Restaurant</td>\n",
       "      <td>11</td>\n",
       "      <td>no street name</td>\n",
       "    </tr>\n",
       "    <tr>\n",
       "      <th>7438</th>\n",
       "      <td>19224</td>\n",
       "      <td>LA GOLONDRINA</td>\n",
       "      <td>OLVERA ST W17</td>\n",
       "      <td>Non-Chained</td>\n",
       "      <td>Restaurant</td>\n",
       "      <td>204</td>\n",
       "      <td>no street name</td>\n",
       "    </tr>\n",
       "    <tr>\n",
       "      <th>7741</th>\n",
       "      <td>19527</td>\n",
       "      <td>RODOLFO'S RESTAURANT</td>\n",
       "      <td>OLVERA ST 5</td>\n",
       "      <td>Chained</td>\n",
       "      <td>Restaurant</td>\n",
       "      <td>4</td>\n",
       "      <td>no street name</td>\n",
       "    </tr>\n",
       "  </tbody>\n",
       "</table>\n",
       "</div>"
      ],
      "text/plain": [
       "         id           object_name                  address        chain  \\\n",
       "1888  13674      MAGDALENO DEBBIE            OLVERA ST E17  Non-Chained   \n",
       "3719  15505            LAS ANITAS             OLVERA ST 26  Non-Chained   \n",
       "7003  18789           D.K. DONUTS  1033 1/2 LOS ANGELES ST  Non-Chained   \n",
       "7281  19067         CIELITO LINDO             OLVERA ST 23  Non-Chained   \n",
       "7319  19105        JUANITA'S CAFE             OLVERA ST 20  Non-Chained   \n",
       "7321  19107    KITTY'S SNOW CONES              OLVERA ST 2  Non-Chained   \n",
       "7438  19224         LA GOLONDRINA            OLVERA ST W17  Non-Chained   \n",
       "7741  19527  RODOLFO'S RESTAURANT              OLVERA ST 5      Chained   \n",
       "\n",
       "     object_type  number raw_street_name  \n",
       "1888  Restaurant      15  no street name  \n",
       "3719  Restaurant      38  no street name  \n",
       "7003   Fast Food       8  no street name  \n",
       "7281  Restaurant       2  no street name  \n",
       "7319  Restaurant      12  no street name  \n",
       "7321  Restaurant      11  no street name  \n",
       "7438  Restaurant     204  no street name  \n",
       "7741  Restaurant       4  no street name  "
      ]
     },
     "execution_count": 38,
     "metadata": {},
     "output_type": "execute_result"
    }
   ],
   "source": [
    "# apply check_street function on address column\n",
    "rest_data['raw_street_name']=rest_data['address'].apply(check_street)\n",
    "\n",
    "#check for missig street name\n",
    "rest_data[rest_data['raw_street_name']=='no street name']"
   ]
  },
  {
   "cell_type": "markdown",
   "metadata": {},
   "source": [
    "The missing street name are `OLVERA` and `1033`. Then, we will add this condition to our finaly fucntion `street_check` and add a new column `street_name`."
   ]
  },
  {
   "cell_type": "code",
   "execution_count": 39,
   "metadata": {},
   "outputs": [],
   "source": [
    "def street_check(raw):\n",
    "    if raw.startswith('OLVERA'):\n",
    "        clean_adress='OLVERA'\n",
    "    elif raw.startswith('1033 1/2 LOS ANGELES'):\n",
    "        clean_adress='1033 1/2 LOS ANGELES ST'\n",
    "    else:\n",
    "        raw_address=usaddress.parse(raw)\n",
    "        dict_address={}\n",
    "        for i in raw_address:\n",
    "            dict_address.update({i[1]:i[0]})\n",
    "        clean_adress=dict_address['StreetName']\n",
    "    return clean_adress"
   ]
  },
  {
   "cell_type": "code",
   "execution_count": 40,
   "metadata": {},
   "outputs": [
    {
     "data": {
      "text/html": [
       "<div>\n",
       "<style scoped>\n",
       "    .dataframe tbody tr th:only-of-type {\n",
       "        vertical-align: middle;\n",
       "    }\n",
       "\n",
       "    .dataframe tbody tr th {\n",
       "        vertical-align: top;\n",
       "    }\n",
       "\n",
       "    .dataframe thead th {\n",
       "        text-align: right;\n",
       "    }\n",
       "</style>\n",
       "<table border=\"1\" class=\"dataframe\">\n",
       "  <thead>\n",
       "    <tr style=\"text-align: right;\">\n",
       "      <th></th>\n",
       "      <th>id</th>\n",
       "      <th>object_name</th>\n",
       "      <th>address</th>\n",
       "      <th>chain</th>\n",
       "      <th>object_type</th>\n",
       "      <th>number</th>\n",
       "      <th>raw_street_name</th>\n",
       "      <th>street_name</th>\n",
       "    </tr>\n",
       "  </thead>\n",
       "  <tbody>\n",
       "    <tr>\n",
       "      <th>0</th>\n",
       "      <td>11786</td>\n",
       "      <td>HABITAT COFFEE SHOP</td>\n",
       "      <td>3708 N EAGLE ROCK BLVD</td>\n",
       "      <td>Non-Chained</td>\n",
       "      <td>Cafe</td>\n",
       "      <td>26</td>\n",
       "      <td>ROCK</td>\n",
       "      <td>ROCK</td>\n",
       "    </tr>\n",
       "    <tr>\n",
       "      <th>1</th>\n",
       "      <td>11787</td>\n",
       "      <td>REILLY'S</td>\n",
       "      <td>100 WORLD WAY # 120</td>\n",
       "      <td>Non-Chained</td>\n",
       "      <td>Restaurant</td>\n",
       "      <td>9</td>\n",
       "      <td>WORLD</td>\n",
       "      <td>WORLD</td>\n",
       "    </tr>\n",
       "    <tr>\n",
       "      <th>2</th>\n",
       "      <td>11788</td>\n",
       "      <td>STREET CHURROS</td>\n",
       "      <td>6801 HOLLYWOOD BLVD # 253</td>\n",
       "      <td>Non-Chained</td>\n",
       "      <td>Fast Food</td>\n",
       "      <td>20</td>\n",
       "      <td>HOLLYWOOD</td>\n",
       "      <td>HOLLYWOOD</td>\n",
       "    </tr>\n",
       "    <tr>\n",
       "      <th>3</th>\n",
       "      <td>11789</td>\n",
       "      <td>TRINITI ECHO PARK</td>\n",
       "      <td>1814 W SUNSET BLVD</td>\n",
       "      <td>Non-Chained</td>\n",
       "      <td>Restaurant</td>\n",
       "      <td>22</td>\n",
       "      <td>SUNSET</td>\n",
       "      <td>SUNSET</td>\n",
       "    </tr>\n",
       "    <tr>\n",
       "      <th>4</th>\n",
       "      <td>11790</td>\n",
       "      <td>POLLEN</td>\n",
       "      <td>2100 ECHO PARK AVE</td>\n",
       "      <td>Non-Chained</td>\n",
       "      <td>Restaurant</td>\n",
       "      <td>20</td>\n",
       "      <td>PARK</td>\n",
       "      <td>PARK</td>\n",
       "    </tr>\n",
       "    <tr>\n",
       "      <th>...</th>\n",
       "      <td>...</td>\n",
       "      <td>...</td>\n",
       "      <td>...</td>\n",
       "      <td>...</td>\n",
       "      <td>...</td>\n",
       "      <td>...</td>\n",
       "      <td>...</td>\n",
       "      <td>...</td>\n",
       "    </tr>\n",
       "    <tr>\n",
       "      <th>9646</th>\n",
       "      <td>21432</td>\n",
       "      <td>HALL OF JUSTICE</td>\n",
       "      <td>217 W TEMPLE AVE</td>\n",
       "      <td>Non-Chained</td>\n",
       "      <td>Restaurant</td>\n",
       "      <td>122</td>\n",
       "      <td>TEMPLE</td>\n",
       "      <td>TEMPLE</td>\n",
       "    </tr>\n",
       "    <tr>\n",
       "      <th>9647</th>\n",
       "      <td>21433</td>\n",
       "      <td>FIN-MELROSE</td>\n",
       "      <td>5750 MELROSE AVE</td>\n",
       "      <td>Non-Chained</td>\n",
       "      <td>Restaurant</td>\n",
       "      <td>93</td>\n",
       "      <td>MELROSE</td>\n",
       "      <td>MELROSE</td>\n",
       "    </tr>\n",
       "    <tr>\n",
       "      <th>9648</th>\n",
       "      <td>21434</td>\n",
       "      <td>JUICY WINGZ</td>\n",
       "      <td>6741 HOLLYWOOD BLVD</td>\n",
       "      <td>Chained</td>\n",
       "      <td>Fast Food</td>\n",
       "      <td>15</td>\n",
       "      <td>HOLLYWOOD</td>\n",
       "      <td>HOLLYWOOD</td>\n",
       "    </tr>\n",
       "    <tr>\n",
       "      <th>9649</th>\n",
       "      <td>21435</td>\n",
       "      <td>MEDIDATE COFFEE</td>\n",
       "      <td>548 S SPRING ST STE 100</td>\n",
       "      <td>Non-Chained</td>\n",
       "      <td>Cafe</td>\n",
       "      <td>6</td>\n",
       "      <td>SPRING</td>\n",
       "      <td>SPRING</td>\n",
       "    </tr>\n",
       "    <tr>\n",
       "      <th>9650</th>\n",
       "      <td>21436</td>\n",
       "      <td>CAFE SPROUTS</td>\n",
       "      <td>1300 S SAN PEDRO ST STE 111</td>\n",
       "      <td>Chained</td>\n",
       "      <td>Restaurant</td>\n",
       "      <td>19</td>\n",
       "      <td>PEDRO</td>\n",
       "      <td>PEDRO</td>\n",
       "    </tr>\n",
       "  </tbody>\n",
       "</table>\n",
       "<p>9651 rows × 8 columns</p>\n",
       "</div>"
      ],
      "text/plain": [
       "         id          object_name                      address        chain  \\\n",
       "0     11786  HABITAT COFFEE SHOP       3708 N EAGLE ROCK BLVD  Non-Chained   \n",
       "1     11787             REILLY'S          100 WORLD WAY # 120  Non-Chained   \n",
       "2     11788       STREET CHURROS    6801 HOLLYWOOD BLVD # 253  Non-Chained   \n",
       "3     11789    TRINITI ECHO PARK           1814 W SUNSET BLVD  Non-Chained   \n",
       "4     11790               POLLEN           2100 ECHO PARK AVE  Non-Chained   \n",
       "...     ...                  ...                          ...          ...   \n",
       "9646  21432      HALL OF JUSTICE             217 W TEMPLE AVE  Non-Chained   \n",
       "9647  21433          FIN-MELROSE             5750 MELROSE AVE  Non-Chained   \n",
       "9648  21434          JUICY WINGZ          6741 HOLLYWOOD BLVD      Chained   \n",
       "9649  21435      MEDIDATE COFFEE      548 S SPRING ST STE 100  Non-Chained   \n",
       "9650  21436         CAFE SPROUTS  1300 S SAN PEDRO ST STE 111      Chained   \n",
       "\n",
       "     object_type  number raw_street_name street_name  \n",
       "0           Cafe      26            ROCK        ROCK  \n",
       "1     Restaurant       9           WORLD       WORLD  \n",
       "2      Fast Food      20       HOLLYWOOD   HOLLYWOOD  \n",
       "3     Restaurant      22          SUNSET      SUNSET  \n",
       "4     Restaurant      20            PARK        PARK  \n",
       "...          ...     ...             ...         ...  \n",
       "9646  Restaurant     122          TEMPLE      TEMPLE  \n",
       "9647  Restaurant      93         MELROSE     MELROSE  \n",
       "9648   Fast Food      15       HOLLYWOOD   HOLLYWOOD  \n",
       "9649        Cafe       6          SPRING      SPRING  \n",
       "9650  Restaurant      19           PEDRO       PEDRO  \n",
       "\n",
       "[9651 rows x 8 columns]"
      ]
     },
     "execution_count": 40,
     "metadata": {},
     "output_type": "execute_result"
    }
   ],
   "source": [
    "rest_data['street_name']=rest_data['address'].apply(street_check)\n",
    "rest_data"
   ]
  },
  {
   "cell_type": "markdown",
   "metadata": {},
   "source": [
    "### Top 10 streets by number of restaurants"
   ]
  },
  {
   "cell_type": "code",
   "execution_count": 41,
   "metadata": {},
   "outputs": [
    {
     "data": {
      "image/png": "[encoded data removed]",
      "text/plain": [
       "<Figure size 1080x432 with 1 Axes>"
      ]
     },
     "metadata": {
      "needs_background": "light"
     },
     "output_type": "display_data"
    },
    {
     "data": {
      "text/html": [
       "<div>\n",
       "<style scoped>\n",
       "    .dataframe tbody tr th:only-of-type {\n",
       "        vertical-align: middle;\n",
       "    }\n",
       "\n",
       "    .dataframe tbody tr th {\n",
       "        vertical-align: top;\n",
       "    }\n",
       "\n",
       "    .dataframe thead th {\n",
       "        text-align: right;\n",
       "    }\n",
       "</style>\n",
       "<table border=\"1\" class=\"dataframe\">\n",
       "  <thead>\n",
       "    <tr style=\"text-align: right;\">\n",
       "      <th></th>\n",
       "      <th>street_name</th>\n",
       "      <th>n_rest</th>\n",
       "    </tr>\n",
       "  </thead>\n",
       "  <tbody>\n",
       "    <tr>\n",
       "      <th>0</th>\n",
       "      <td>SUNSET</td>\n",
       "      <td>404</td>\n",
       "    </tr>\n",
       "    <tr>\n",
       "      <th>1</th>\n",
       "      <td>WILSHIRE</td>\n",
       "      <td>398</td>\n",
       "    </tr>\n",
       "    <tr>\n",
       "      <th>2</th>\n",
       "      <td>PICO</td>\n",
       "      <td>370</td>\n",
       "    </tr>\n",
       "    <tr>\n",
       "      <th>3</th>\n",
       "      <td>WESTERN</td>\n",
       "      <td>369</td>\n",
       "    </tr>\n",
       "    <tr>\n",
       "      <th>4</th>\n",
       "      <td>FIGUEROA</td>\n",
       "      <td>334</td>\n",
       "    </tr>\n",
       "    <tr>\n",
       "      <th>5</th>\n",
       "      <td>OLYMPIC</td>\n",
       "      <td>309</td>\n",
       "    </tr>\n",
       "    <tr>\n",
       "      <th>6</th>\n",
       "      <td>VERMONT</td>\n",
       "      <td>288</td>\n",
       "    </tr>\n",
       "    <tr>\n",
       "      <th>7</th>\n",
       "      <td>MONICA</td>\n",
       "      <td>264</td>\n",
       "    </tr>\n",
       "    <tr>\n",
       "      <th>8</th>\n",
       "      <td>3RD</td>\n",
       "      <td>263</td>\n",
       "    </tr>\n",
       "    <tr>\n",
       "      <th>9</th>\n",
       "      <td>HOLLYWOOD</td>\n",
       "      <td>253</td>\n",
       "    </tr>\n",
       "  </tbody>\n",
       "</table>\n",
       "</div>"
      ],
      "text/plain": [
       "  street_name  n_rest\n",
       "0      SUNSET     404\n",
       "1    WILSHIRE     398\n",
       "2        PICO     370\n",
       "3     WESTERN     369\n",
       "4    FIGUEROA     334\n",
       "5     OLYMPIC     309\n",
       "6     VERMONT     288\n",
       "7      MONICA     264\n",
       "8         3RD     263\n",
       "9   HOLLYWOOD     253"
      ]
     },
     "execution_count": 41,
     "metadata": {},
     "output_type": "execute_result"
    }
   ],
   "source": [
    "# group by street name and count number of establishmnets\n",
    "# sort values by descending order and save 10 first raws\n",
    "top_street=rest_data.groupby('street_name')['object_name'].count().sort_values(ascending=False).head(10).reset_index()\n",
    "top_street.columns=['street_name','n_rest']\n",
    "\n",
    "#plot a bar graph\n",
    "fig = plt.figure(figsize = (15, 6))\n",
    "sns.barplot(x='street_name',y='n_rest',data=top_street)\n",
    "addlabels(top_street['street_name'],top_street['n_rest'])\n",
    "plt.xlabel(\"Street name\", fontdict={'size':16})\n",
    "plt.ylabel(\"Number of estaaablishments \", fontdict={'size':16})\n",
    "plt.title(\"Top 10 street with large numer of establishmnets\", fontdict={'size':20})\n",
    "plt.show()\n",
    "\n",
    "top_street"
   ]
  },
  {
   "cell_type": "markdown",
   "metadata": {},
   "source": [
    "After adding the street names, we see that the distibution has changed. Now the most commain street names are SUNSET and WILSHIRE. "
   ]
  },
  {
   "cell_type": "markdown",
   "metadata": {},
   "source": [
    "Let's see what type of establishments we have in the top 10 streets."
   ]
  },
  {
   "cell_type": "code",
   "execution_count": 42,
   "metadata": {},
   "outputs": [
    {
     "data": {
      "image/png": "[encoded data removed]",
      "text/plain": [
       "<Figure size 1080x576 with 1 Axes>"
      ]
     },
     "metadata": {
      "needs_background": "light"
     },
     "output_type": "display_data"
    },
    {
     "data": {
      "text/html": [
       "<div>\n",
       "<style scoped>\n",
       "    .dataframe tbody tr th:only-of-type {\n",
       "        vertical-align: middle;\n",
       "    }\n",
       "\n",
       "    .dataframe tbody tr th {\n",
       "        vertical-align: top;\n",
       "    }\n",
       "\n",
       "    .dataframe thead th {\n",
       "        text-align: right;\n",
       "    }\n",
       "</style>\n",
       "<table border=\"1\" class=\"dataframe\">\n",
       "  <thead>\n",
       "    <tr style=\"text-align: right;\">\n",
       "      <th>object_type</th>\n",
       "      <th>Bakery</th>\n",
       "      <th>Bar</th>\n",
       "      <th>Cafe</th>\n",
       "      <th>Fast Food</th>\n",
       "      <th>Pizza</th>\n",
       "      <th>Restaurant</th>\n",
       "    </tr>\n",
       "    <tr>\n",
       "      <th>street_name</th>\n",
       "      <th></th>\n",
       "      <th></th>\n",
       "      <th></th>\n",
       "      <th></th>\n",
       "      <th></th>\n",
       "      <th></th>\n",
       "    </tr>\n",
       "  </thead>\n",
       "  <tbody>\n",
       "    <tr>\n",
       "      <th>3RD</th>\n",
       "      <td>11</td>\n",
       "      <td>5</td>\n",
       "      <td>13</td>\n",
       "      <td>18</td>\n",
       "      <td>8</td>\n",
       "      <td>208</td>\n",
       "    </tr>\n",
       "    <tr>\n",
       "      <th>FIGUEROA</th>\n",
       "      <td>10</td>\n",
       "      <td>7</td>\n",
       "      <td>10</td>\n",
       "      <td>58</td>\n",
       "      <td>15</td>\n",
       "      <td>234</td>\n",
       "    </tr>\n",
       "    <tr>\n",
       "      <th>HOLLYWOOD</th>\n",
       "      <td>4</td>\n",
       "      <td>12</td>\n",
       "      <td>14</td>\n",
       "      <td>15</td>\n",
       "      <td>11</td>\n",
       "      <td>197</td>\n",
       "    </tr>\n",
       "    <tr>\n",
       "      <th>MONICA</th>\n",
       "      <td>10</td>\n",
       "      <td>6</td>\n",
       "      <td>12</td>\n",
       "      <td>20</td>\n",
       "      <td>12</td>\n",
       "      <td>204</td>\n",
       "    </tr>\n",
       "    <tr>\n",
       "      <th>OLYMPIC</th>\n",
       "      <td>8</td>\n",
       "      <td>7</td>\n",
       "      <td>11</td>\n",
       "      <td>21</td>\n",
       "      <td>5</td>\n",
       "      <td>257</td>\n",
       "    </tr>\n",
       "    <tr>\n",
       "      <th>PICO</th>\n",
       "      <td>13</td>\n",
       "      <td>12</td>\n",
       "      <td>13</td>\n",
       "      <td>31</td>\n",
       "      <td>18</td>\n",
       "      <td>283</td>\n",
       "    </tr>\n",
       "    <tr>\n",
       "      <th>SUNSET</th>\n",
       "      <td>13</td>\n",
       "      <td>14</td>\n",
       "      <td>28</td>\n",
       "      <td>34</td>\n",
       "      <td>18</td>\n",
       "      <td>297</td>\n",
       "    </tr>\n",
       "    <tr>\n",
       "      <th>VERMONT</th>\n",
       "      <td>9</td>\n",
       "      <td>3</td>\n",
       "      <td>7</td>\n",
       "      <td>43</td>\n",
       "      <td>8</td>\n",
       "      <td>218</td>\n",
       "    </tr>\n",
       "    <tr>\n",
       "      <th>WESTERN</th>\n",
       "      <td>14</td>\n",
       "      <td>6</td>\n",
       "      <td>12</td>\n",
       "      <td>33</td>\n",
       "      <td>12</td>\n",
       "      <td>292</td>\n",
       "    </tr>\n",
       "    <tr>\n",
       "      <th>WILSHIRE</th>\n",
       "      <td>5</td>\n",
       "      <td>10</td>\n",
       "      <td>25</td>\n",
       "      <td>28</td>\n",
       "      <td>11</td>\n",
       "      <td>319</td>\n",
       "    </tr>\n",
       "  </tbody>\n",
       "</table>\n",
       "</div>"
      ],
      "text/plain": [
       "object_type  Bakery  Bar  Cafe  Fast Food  Pizza  Restaurant\n",
       "street_name                                                 \n",
       "3RD              11    5    13         18      8         208\n",
       "FIGUEROA         10    7    10         58     15         234\n",
       "HOLLYWOOD         4   12    14         15     11         197\n",
       "MONICA           10    6    12         20     12         204\n",
       "OLYMPIC           8    7    11         21      5         257\n",
       "PICO             13   12    13         31     18         283\n",
       "SUNSET           13   14    28         34     18         297\n",
       "VERMONT           9    3     7         43      8         218\n",
       "WESTERN          14    6    12         33     12         292\n",
       "WILSHIRE          5   10    25         28     11         319"
      ]
     },
     "execution_count": 42,
     "metadata": {},
     "output_type": "execute_result"
    }
   ],
   "source": [
    "#creat a list of top 10 streets\n",
    "top_street_name=top_street['street_name'].tolist()\n",
    "\n",
    "#filter the data to the top 10 streets\n",
    "#for each street name, find the most commain establishment type\n",
    "top_street_type=rest_data.query('street_name in @top_street_name').pivot_table(index='street_name',columns='object_type',values='object_name',aggfunc='count')\n",
    "\n",
    "#plot a bar graph\n",
    "top_street_type.plot(kind='bar',figsize=(15,8),color=['#BBD6B8','#6096B4','#A7727D','#FD8A8A','#FDFDBD','#80558C'])\n",
    "plt.xlabel(\"Street name\", fontdict={'size':16})\n",
    "plt.ylabel(\"Number of establishments \", fontdict={'size':16})\n",
    "plt.title(\"Establishment type in top 10 streets \", fontdict={'size':20})\n",
    "plt.show()\n",
    "\n",
    "top_street_type"
   ]
  },
  {
   "cell_type": "markdown",
   "metadata": {},
   "source": [
    "Restaurant is the most commain establishment type in SUNSET and WILSHIRE.\n",
    "\n",
    "Now let's look for chained and non-chained establishments in the top 10 streets."
   ]
  },
  {
   "cell_type": "code",
   "execution_count": 43,
   "metadata": {},
   "outputs": [
    {
     "data": {
      "image/png": "[encoded data removed]",
      "text/plain": [
       "<Figure size 1080x576 with 1 Axes>"
      ]
     },
     "metadata": {
      "needs_background": "light"
     },
     "output_type": "display_data"
    },
    {
     "data": {
      "text/html": [
       "<div>\n",
       "<style scoped>\n",
       "    .dataframe tbody tr th:only-of-type {\n",
       "        vertical-align: middle;\n",
       "    }\n",
       "\n",
       "    .dataframe tbody tr th {\n",
       "        vertical-align: top;\n",
       "    }\n",
       "\n",
       "    .dataframe thead th {\n",
       "        text-align: right;\n",
       "    }\n",
       "</style>\n",
       "<table border=\"1\" class=\"dataframe\">\n",
       "  <thead>\n",
       "    <tr style=\"text-align: right;\">\n",
       "      <th>chain</th>\n",
       "      <th>Chained</th>\n",
       "      <th>Non-Chained</th>\n",
       "    </tr>\n",
       "    <tr>\n",
       "      <th>street_name</th>\n",
       "      <th></th>\n",
       "      <th></th>\n",
       "    </tr>\n",
       "  </thead>\n",
       "  <tbody>\n",
       "    <tr>\n",
       "      <th>3RD</th>\n",
       "      <td>94</td>\n",
       "      <td>169</td>\n",
       "    </tr>\n",
       "    <tr>\n",
       "      <th>FIGUEROA</th>\n",
       "      <td>147</td>\n",
       "      <td>187</td>\n",
       "    </tr>\n",
       "    <tr>\n",
       "      <th>HOLLYWOOD</th>\n",
       "      <td>85</td>\n",
       "      <td>168</td>\n",
       "    </tr>\n",
       "    <tr>\n",
       "      <th>MONICA</th>\n",
       "      <td>105</td>\n",
       "      <td>159</td>\n",
       "    </tr>\n",
       "    <tr>\n",
       "      <th>OLYMPIC</th>\n",
       "      <td>115</td>\n",
       "      <td>194</td>\n",
       "    </tr>\n",
       "    <tr>\n",
       "      <th>PICO</th>\n",
       "      <td>123</td>\n",
       "      <td>247</td>\n",
       "    </tr>\n",
       "    <tr>\n",
       "      <th>SUNSET</th>\n",
       "      <td>142</td>\n",
       "      <td>262</td>\n",
       "    </tr>\n",
       "    <tr>\n",
       "      <th>VERMONT</th>\n",
       "      <td>113</td>\n",
       "      <td>175</td>\n",
       "    </tr>\n",
       "    <tr>\n",
       "      <th>WESTERN</th>\n",
       "      <td>144</td>\n",
       "      <td>225</td>\n",
       "    </tr>\n",
       "    <tr>\n",
       "      <th>WILSHIRE</th>\n",
       "      <td>155</td>\n",
       "      <td>243</td>\n",
       "    </tr>\n",
       "  </tbody>\n",
       "</table>\n",
       "</div>"
      ],
      "text/plain": [
       "chain        Chained  Non-Chained\n",
       "street_name                      \n",
       "3RD               94          169\n",
       "FIGUEROA         147          187\n",
       "HOLLYWOOD         85          168\n",
       "MONICA           105          159\n",
       "OLYMPIC          115          194\n",
       "PICO             123          247\n",
       "SUNSET           142          262\n",
       "VERMONT          113          175\n",
       "WESTERN          144          225\n",
       "WILSHIRE         155          243"
      ]
     },
     "execution_count": 43,
     "metadata": {},
     "output_type": "execute_result"
    }
   ],
   "source": [
    "#filter the data to the top 10 streets\n",
    "#for each street name, find the chained and non-chained establishments\n",
    "top_street_chain=rest_data.query('street_name in @top_street_name').pivot_table(index='street_name',columns='chain',values='object_name',aggfunc='count')\n",
    "\n",
    "#plot a bar graph\n",
    "top_street_chain.plot(kind='bar',figsize=(15,8),color=['#D61355','#F94A29'])\n",
    "plt.xlabel(\"Street name\", fontdict={'size':16})\n",
    "plt.ylabel(\"Number of estaablishments \", fontdict={'size':16})\n",
    "plt.title(\"Chained and Non-chained establishments in top 10 streets \", fontdict={'size':20})\n",
    "plt.show()\n",
    "\n",
    "top_street_chain"
   ]
  },
  {
   "cell_type": "markdown",
   "metadata": {},
   "source": [
    "In SUNSET and PICO, Non-chained establishments are common."
   ]
  },
  {
   "cell_type": "markdown",
   "metadata": {},
   "source": [
    "###  Number of streets that only have one restaurant"
   ]
  },
  {
   "cell_type": "code",
   "execution_count": 44,
   "metadata": {},
   "outputs": [
    {
     "name": "stdout",
     "output_type": "stream",
     "text": [
      "The number of streets that have only one establishments is: 185\n"
     ]
    }
   ],
   "source": [
    "# group the data by street name and count number of establishmnets\n",
    "low_rest=rest_data.groupby('street_name')['object_name'].count().reset_index()\n",
    "\n",
    "#find the number of streets that have only one establishment\n",
    "print(\"The number of streets that have only one establishments is:\",len(low_rest[(low_rest['object_name']==1)]))"
   ]
  },
  {
   "cell_type": "code",
   "execution_count": 45,
   "metadata": {},
   "outputs": [
    {
     "data": {
      "image/png": "[encoded data removed]",
      "text/plain": [
       "<Figure size 1080x432 with 1 Axes>"
      ]
     },
     "metadata": {
      "needs_background": "light"
     },
     "output_type": "display_data"
    },
    {
     "data": {
      "text/html": [
       "<div>\n",
       "<style scoped>\n",
       "    .dataframe tbody tr th:only-of-type {\n",
       "        vertical-align: middle;\n",
       "    }\n",
       "\n",
       "    .dataframe tbody tr th {\n",
       "        vertical-align: top;\n",
       "    }\n",
       "\n",
       "    .dataframe thead th {\n",
       "        text-align: right;\n",
       "    }\n",
       "</style>\n",
       "<table border=\"1\" class=\"dataframe\">\n",
       "  <thead>\n",
       "    <tr style=\"text-align: right;\">\n",
       "      <th></th>\n",
       "      <th>object_type</th>\n",
       "      <th>object_name</th>\n",
       "    </tr>\n",
       "  </thead>\n",
       "  <tbody>\n",
       "    <tr>\n",
       "      <th>0</th>\n",
       "      <td>Bakery</td>\n",
       "      <td>5</td>\n",
       "    </tr>\n",
       "    <tr>\n",
       "      <th>1</th>\n",
       "      <td>Bar</td>\n",
       "      <td>4</td>\n",
       "    </tr>\n",
       "    <tr>\n",
       "      <th>2</th>\n",
       "      <td>Cafe</td>\n",
       "      <td>3</td>\n",
       "    </tr>\n",
       "    <tr>\n",
       "      <th>3</th>\n",
       "      <td>Fast Food</td>\n",
       "      <td>9</td>\n",
       "    </tr>\n",
       "    <tr>\n",
       "      <th>4</th>\n",
       "      <td>Pizza</td>\n",
       "      <td>3</td>\n",
       "    </tr>\n",
       "    <tr>\n",
       "      <th>5</th>\n",
       "      <td>Restaurant</td>\n",
       "      <td>161</td>\n",
       "    </tr>\n",
       "  </tbody>\n",
       "</table>\n",
       "</div>"
      ],
      "text/plain": [
       "  object_type  object_name\n",
       "0      Bakery            5\n",
       "1         Bar            4\n",
       "2        Cafe            3\n",
       "3   Fast Food            9\n",
       "4       Pizza            3\n",
       "5  Restaurant          161"
      ]
     },
     "execution_count": 45,
     "metadata": {},
     "output_type": "execute_result"
    }
   ],
   "source": [
    "#creat a list of streets that have only one establishment\n",
    "low_street=low_rest[(low_rest['object_name']==1)]['street_name'].tolist()\n",
    "\n",
    "#filter the table via low_street lsit\n",
    "#group by establishmnet type and count number oe establishments\n",
    "low_type=rest_data.query('street_name in @low_street').groupby('object_type')['object_name'].count().reset_index()\n",
    "\n",
    "#plot a bar graph\n",
    "fig = plt.figure(figsize = (15, 6))\n",
    "plt.bar(low_type['object_type'],low_type['object_name'],color=['#BBD6B8','#6096B4','#A7727D','#FD8A8A','#FDFDBD','#80558C'])\n",
    "plt.xlabel(\"Establishment type\", fontdict={'size':16})\n",
    "plt.ylabel(\"Number of establishments \", fontdict={'size':16})\n",
    "plt.title(\"Establishment type with one establishment per street \", fontdict={'size':20})\n",
    "addlabels(low_type['object_type'],low_type['object_name'])\n",
    "plt.show()\n",
    "\n",
    "low_type"
   ]
  },
  {
   "cell_type": "markdown",
   "metadata": {},
   "source": [
    "We have 161 resturant that are the singel establishment on the street."
   ]
  },
  {
   "cell_type": "code",
   "execution_count": 46,
   "metadata": {},
   "outputs": [
    {
     "data": {
      "image/png": "[encoded data removed]",
      "text/plain": [
       "<Figure size 864x504 with 1 Axes>"
      ]
     },
     "metadata": {
      "needs_background": "light"
     },
     "output_type": "display_data"
    },
    {
     "data": {
      "text/html": [
       "<div>\n",
       "<style scoped>\n",
       "    .dataframe tbody tr th:only-of-type {\n",
       "        vertical-align: middle;\n",
       "    }\n",
       "\n",
       "    .dataframe tbody tr th {\n",
       "        vertical-align: top;\n",
       "    }\n",
       "\n",
       "    .dataframe thead th {\n",
       "        text-align: right;\n",
       "    }\n",
       "</style>\n",
       "<table border=\"1\" class=\"dataframe\">\n",
       "  <thead>\n",
       "    <tr style=\"text-align: right;\">\n",
       "      <th></th>\n",
       "      <th>chain</th>\n",
       "      <th>object_name</th>\n",
       "    </tr>\n",
       "  </thead>\n",
       "  <tbody>\n",
       "    <tr>\n",
       "      <th>0</th>\n",
       "      <td>Chained</td>\n",
       "      <td>53</td>\n",
       "    </tr>\n",
       "    <tr>\n",
       "      <th>1</th>\n",
       "      <td>Non-Chained</td>\n",
       "      <td>132</td>\n",
       "    </tr>\n",
       "  </tbody>\n",
       "</table>\n",
       "</div>"
      ],
      "text/plain": [
       "         chain  object_name\n",
       "0      Chained           53\n",
       "1  Non-Chained          132"
      ]
     },
     "execution_count": 46,
     "metadata": {},
     "output_type": "execute_result"
    }
   ],
   "source": [
    "##filter the table via low_street lsit\n",
    "#group by establishmnet type and count number oe establishments \n",
    "low_chain=rest_data.query('street_name in @low_street').groupby('chain')['object_name'].count().reset_index()\n",
    "\n",
    "#plot a bar graph\n",
    "fig = plt.figure(figsize = (12, 7))\n",
    "plt.bar(low_chain['chain'],low_chain['object_name'],color=['#D61355','#F94A29'])\n",
    "addlabels(low_chain['chain'],low_chain['object_name'])\n",
    "plt.xlabel(\"Chain or Non chain\", fontdict={'size':16})\n",
    "plt.ylabel(\"Number of establishments\", fontdict={'size':16})\n",
    "plt.title(\"Number of chained or non-chained establishment with one establishment per street\", fontdict={'size':20})\n",
    "plt.show()\n",
    "\n",
    "low_chain"
   ]
  },
  {
   "cell_type": "markdown",
   "metadata": {},
   "source": [
    "We have 132 Non chained establishments which are the single establishment on the street."
   ]
  },
  {
   "cell_type": "markdown",
   "metadata": {},
   "source": [
    "### For streets with a lot of restaurants, look at the distribution of the number of seats"
   ]
  },
  {
   "cell_type": "code",
   "execution_count": 47,
   "metadata": {},
   "outputs": [
    {
     "name": "stdout",
     "output_type": "stream",
     "text": [
      "count    3252.000000\n",
      "mean       45.615929\n",
      "std        47.961359\n",
      "min         1.000000\n",
      "25%        15.000000\n",
      "50%        29.000000\n",
      "75%        47.000000\n",
      "max       229.000000\n",
      "Name: number, dtype: float64\n"
     ]
    },
    {
     "data": {
      "image/png": "[encoded data removed]",
      "text/plain": [
       "<Figure size 900x360 with 1 Axes>"
      ]
     },
     "metadata": {
      "needs_background": "light"
     },
     "output_type": "display_data"
    },
    {
     "data": {
      "image/png": "[encoded data removed]",
      "text/plain": [
       "<Figure size 1080x576 with 1 Axes>"
      ]
     },
     "metadata": {
      "needs_background": "light"
     },
     "output_type": "display_data"
    },
    {
     "data": {
      "image/png": "[encoded data removed]",
      "text/plain": [
       "<Figure size 540x540 with 3 Axes>"
      ]
     },
     "metadata": {
      "needs_background": "light"
     },
     "output_type": "display_data"
    }
   ],
   "source": [
    "# filter the data to top 10 streets\n",
    "top_seat_rest=rest_data.query('street_name in @top_street_name')\n",
    "print(top_seat_rest['number'].describe())\n",
    "\n",
    "sns.displot(data=top_seat_rest,x='number',kde=True,height=5,aspect=2.5,color='#E11299')\n",
    "plt.axvline(top_seat_rest['number'].median(), linestyle='dashed', linewidth=2)\n",
    "min_ylim, max_ylim = plt.ylim()\n",
    "plt.text(top_seat_rest['number'].median()*1.1, max_ylim*0.92, 'Median: {:.0f}'.format(top_seat_rest['number'].median()))\n",
    "plt.title(\"Distribution of Number of Seats in top 10 streets\",fontdict={'size':20})\n",
    "plt.xlabel('Numbe of seats',fontdict={'size':18})\n",
    "plt.ylabel('Density',fontdict={'size':18})\n",
    "plt.show()\n",
    "\n",
    "#plot a boxplot\n",
    "fig = plt.figure(figsize = (15, 8))\n",
    "sns.boxplot(data=top_seat_rest,x='street_name',y='number')\n",
    "plt.title(\"Distribution of Number of Seats per street\",fontdict={'size':20})\n",
    "plt.xlabel('Street name',fontdict={'size':18})\n",
    "plt.ylabel('Number of seats',fontdict={'size':18})\n",
    "plt.show()\n",
    "\n",
    "\n",
    "test=top_seat_rest.groupby('street_name')['number'].agg(['count','mean']).reset_index()\n",
    "test.columns=['street_name','rest_count','avg_seat']\n",
    "sns.jointplot(data=test,x='rest_count',y='avg_seat',kind='reg',color='#E11299',height=7.5)\n",
    "plt.show()"
   ]
  },
  {
   "cell_type": "markdown",
   "metadata": {},
   "source": [
    "The distribution of number of seats is skewed to the right. Most establishments in our data has less than the overall average number of seat. Most establishmnet have 29 seats. Establishments in WILSHIRE have the highest median number of seats. But HOLLYWOOD have a bigger rage of number of seats. Most establishments have on average 45 seats."
   ]
  },
  {
   "cell_type": "markdown",
   "metadata": {},
   "source": [
    "## Conclusion"
   ]
  },
  {
   "cell_type": "markdown",
   "metadata": {},
   "source": [
    "To prepare the data for the analysis, we:\n",
    "* Uploaded the data when the column `object_type` is predefined as a category to minimise the file size.\n",
    "* Filled the miising values in the `chain` column by False (as Non-chained) because we have not found a pattern. And changed the variables of this column to Boolean and then to `Chained` (True) and `Non-Chained` (False).\n",
    "* Replaced all numbers and signs in the `object_name` by space due to branches of chained establishments.\n",
    "* Fround the street name from the address.\n",
    "\n",
    "From the analysis, we found that in Los Angeles:\n",
    "* 75% of establishments are Restaurant and 5% of the establishments are Cafe.\n",
    "* 62% are Non-chained establishment.\n",
    "* In Chained establishments, 63% are restaurants and 7% are Cafe. But, out of all establishments, Bakeries are 100% chained and Cafe are 61% chained.\n",
    "* The disrtibution of number of seats in chained establishments is skewed to the right. That means that most establishment have less than 39 seats (average number of seats). While most establishments have 25 seats. In general, we have high number of chained establishments and average of 10-50 seats per establishments. \n",
    "* Restaurants have the highest average number of seats - 48 seats in general, 45 seats in chained establishments and 50 in non-chained establishments.  Cafe has the following average - 25 seats in general, 26 in chained establishments and 24 in non-chained establishments.\n",
    "* The top 10 streets with the highest count of establishments are, by descending order - SUNSET, WILSHIRE, PICO, WESTERN, FIGUEROA, OLYMPIC, VERMONT,MONICE, 3RD AND HOLLYWOOD.\n",
    "    * Sunset and Wilshire have the highest number of restaurants and cafes.\n",
    "    * Sunset and Figuero have the highest chained establishments.\n",
    "* On the other hand, we have 185 streets that have only 1 establishment on their street. \n",
    "    * 161 streets with only one restaurant and 3 streets with only cafe. \n",
    "    * 135 streets contain only one non-chained establishment.\n",
    "* In top 10 streets, the average number of seats is 45 seats while most of them have 29 seats! Whilshire have the highest average number of seats. While in Hollywood, there is a highest rage of number of seats. The higher the establishment in the same street, the more is will have number of seats. \n",
    "\n",
    "\n",
    "We can conclude that there are missing Cafe in Los Angeles. But if there are, then most of them are chained and have 26 seats.  There are located mostely in Sunset and Figuero. \n",
    "So we recommend opening a non-chained Cafe (unique and localy-owened make it special will continue to attrack more invistors)  up to 30 seats (that can contain more tham other Cafes) near Sunset an Figuero (to overcome competetivity)."
   ]
  },
  {
   "cell_type": "markdown",
   "metadata": {},
   "source": [
    "## Presentation"
   ]
  },
  {
   "cell_type": "markdown",
   "metadata": {},
   "source": [
    "Presentation: <https://drive.google.com/file/d/1TPyGfG5dwglPQEYctwyY-pV9pDVXNHLT/view?usp=sharing> "
   ]
  }
 ],
 "metadata": {
  "kernelspec": {
   "display_name": "Python 3 (ipykernel)",
   "language": "python",
   "name": "python3"
  },
  "language_info": {
   "codemirror_mode": {
    "name": "ipython",
    "version": 3
   },
   "file_extension": ".py",
   "mimetype": "text/x-python",
   "name": "python",
   "nbconvert_exporter": "python",
   "pygments_lexer": "ipython3",
   "version": "3.9.5"
  },
  "toc": {
   "base_numbering": 1,
   "nav_menu": {},
   "number_sections": true,
   "sideBar": true,
   "skip_h1_title": true,
   "title_cell": "Table of Contents",
   "title_sidebar": "Contents",
   "toc_cell": true,
   "toc_position": {
    "height": "calc(100% - 180px)",
    "left": "10px",
    "top": "150px",
    "width": "338.484px"
   },
   "toc_section_display": true,
   "toc_window_display": true
  }
 },
 "nbformat": 4,
 "nbformat_minor": 2
}
