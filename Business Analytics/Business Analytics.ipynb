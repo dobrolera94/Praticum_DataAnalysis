{
 "cells": [
  {
   "cell_type": "markdown",
   "metadata": {},
   "source": [
    "# Project description\n",
    "\n",
    "You've done beautifully in the Practicum course, and you've been offered an internship in the analytical department at Yandex.Afisha. Your first task is to help optimize marketing expenses.\n",
    "\n",
    "You have:\n",
    "* Server logs with data on Yandex.Afisha visits from June 2017 through May 2018\n",
    "* Dump file with all orders for the period\n",
    "* Marketing expenses statistics\n",
    "\n",
    "You are going to study:\n",
    "* How people use the product\n",
    "* When they start to buy\n",
    "* How much money each customer brings\n",
    "* When they pay off\n",
    "\n",
    "# Instructions for completing the project\n",
    "\n",
    "# Step 1. Download the data and prepare it for analysis\n",
    "\n",
    "Store the data on visits, orders, and expenses in variables. Optimize the data for analysis. Make sure each column contains the correct data type.\n",
    "\n",
    "File paths:\n",
    "* `'/datasets/visits_log_us.csv.'`\n",
    "* `'/datasets/orders_log_us.csv.'`\n",
    "* `'/datasets/costs_us.csv.'`\n",
    "\n",
    "# Step 2. Make reports and calculate metrics:\n",
    "\n",
    "1. Product\n",
    "* How many people use it every day, week, and month?\n",
    "* How many sessions are there per day? (One user might have more than one session.)\n",
    "* What is the length of each session?\n",
    "* What's the user retention rate?\n",
    "2. Sales\n",
    "* When do people start buying? What is the time that elapses between registration and conversion? When the user becomes a customer?\n",
    "* How many orders do they make during a given period of time?\n",
    "* What is the average purchase size?\n",
    "* How much money do they bring? \n",
    "3. Marketing\n",
    "* How much money was spent? Overall, per source and over time.\n",
    "* How much did customer acquisition from each of the sources cost?\n",
    "* How worthwhile where the investments? \n",
    "\n",
    "Plot graphs to display how these metrics differ for various devices and ad sources and how they change in time.\n",
    "\n",
    "# Step 3. Write a conclusion: advise marketing experts how much money to invest and where.\n",
    "\n",
    "What sources/platforms would you recommend? Back up your choice: what metrics did you focus on? Why? What conclusions did you draw after finding the metric values?\n",
    "\n",
    "# Description of the data\n",
    "\n",
    "The visits table (server logs with data on website visits):\n",
    "* `'Uid'` — user's unique identifier\n",
    "* `'Device'` — user's device\n",
    "* `'Start Ts'` — session start date and time\n",
    "* `'End Ts'` — session end date and time\n",
    "* `'Source Id'` — identifier of the ad source the user came from\n",
    "\n",
    "All dates in this table are in YYYY-MM-DD format.\n",
    "\n",
    "The orders table (data on orders):\n",
    "* `'Uid'` — unique identifier of the user making an order\n",
    "* `'Buy Ts'` — order date and time\n",
    "* `'Revenue'` — Yandex.Afisha's revenue from the order\n",
    "\n",
    "The costs table (data on marketing expenses):\n",
    "* `'source_id'` — ad source identifier\n",
    "* `'dt'` — date\n",
    "* `'costs'` — expenses on this ad source on this day"
   ]
  },
  {
   "cell_type": "markdown",
   "metadata": {},
   "source": [
    "## Download the data and prepare it for analysis"
   ]
  },
  {
   "cell_type": "markdown",
   "metadata": {},
   "source": [
    "### Optimization of the data"
   ]
  },
  {
   "cell_type": "markdown",
   "metadata": {},
   "source": [
    "To start our analysis, we will import forst all necessery libraries, such as - pansa, numpy, functools, matplolib and seaborn."
   ]
  },
  {
   "cell_type": "code",
   "execution_count": 1,
   "metadata": {},
   "outputs": [],
   "source": [
    "import pandas as pd\n",
    "import numpy as np\n",
    "import seaborn as sns\n",
    "from matplotlib import pyplot as plt\n",
    "from functools import reduce\n",
    "import plotly.express as px"
   ]
  },
  {
   "cell_type": "markdown",
   "metadata": {},
   "source": [
    "We will try to import 500 raws of the data from the following path by `try - except` block to determie how to optimize the import of all data.\n",
    "* `'/datasets/visits_log_us.csv.'`\n",
    "* `'/datasets/orders_log_us.csv.'`\n",
    "* `'/datasets/costs_us.csv.'`"
   ]
  },
  {
   "cell_type": "code",
   "execution_count": 2,
   "metadata": {},
   "outputs": [],
   "source": [
    "try:\n",
    "    visits_raw = pd.read_csv('visits_log_us.csv', nrows=500)\n",
    "    orders_raw = pd.read_csv('orders_log_us.csv', nrows=500)\n",
    "    orders_raw = pd.read_csv('orders_log_us.csv', nrows=500)\n",
    "except:\n",
    "    visits_raw = pd.read_csv('/datasets/visits_log_us.csv',nrows=500)\n",
    "    order_raws = pd.read_csv('/datasets/orders_log_us.csv', nrows=500)\n",
    "    costs_raw = pd.read_csv('/datasets/costs_us.csv', nrows=500)"
   ]
  },
  {
   "cell_type": "markdown",
   "metadata": {},
   "source": [
    "Let's check the information of each tables with its exact size using `memory_usage='deep'`."
   ]
  },
  {
   "cell_type": "code",
   "execution_count": 3,
   "metadata": {},
   "outputs": [
    {
     "name": "stdout",
     "output_type": "stream",
     "text": [
      "<class 'pandas.core.frame.DataFrame'>\n",
      "RangeIndex: 500 entries, 0 to 499\n",
      "Data columns (total 5 columns):\n",
      " #   Column     Non-Null Count  Dtype \n",
      "---  ------     --------------  ----- \n",
      " 0   Device     500 non-null    object\n",
      " 1   End Ts     500 non-null    object\n",
      " 2   Source Id  500 non-null    int64 \n",
      " 3   Start Ts   500 non-null    object\n",
      " 4   Uid        500 non-null    uint64\n",
      "dtypes: int64(1), object(3), uint64(1)\n",
      "memory usage: 113.1 KB\n"
     ]
    }
   ],
   "source": [
    "visits_raw.info(memory_usage='deep')"
   ]
  },
  {
   "cell_type": "code",
   "execution_count": 4,
   "metadata": {},
   "outputs": [
    {
     "data": {
      "text/plain": [
       "desktop    363\n",
       "touch      137\n",
       "Name: Device, dtype: int64"
      ]
     },
     "execution_count": 4,
     "metadata": {},
     "output_type": "execute_result"
    }
   ],
   "source": [
    "visits_raw['Device'].value_counts()"
   ]
  },
  {
   "cell_type": "markdown",
   "metadata": {},
   "source": [
    "The visits table (server logs with data on website visits) includes the following columns:\n",
    "* `'Uid'` — user's unique identifier\n",
    "* `'Device'` — user's device\n",
    "* `'Start Ts'` — session start date and time\n",
    "* `'End Ts'` — session end date and time\n",
    "* `'Source Id'` — identifier of the ad source the user came from.\n",
    "\n",
    "The size of the raw table is 113.1 KB.\\\n",
    "The `Device` column has only 2 variables - ` desktop` or `touch`.\n",
    "\n",
    "We can optimize the import of the data in this table when we will:\n",
    "* Import the variables in the `Device` column as category.\n",
    "* Import the variables in `End Ts` and `Start Ts` as dates."
   ]
  },
  {
   "cell_type": "code",
   "execution_count": 5,
   "metadata": {},
   "outputs": [
    {
     "name": "stdout",
     "output_type": "stream",
     "text": [
      "<class 'pandas.core.frame.DataFrame'>\n",
      "RangeIndex: 500 entries, 0 to 499\n",
      "Data columns (total 3 columns):\n",
      " #   Column   Non-Null Count  Dtype  \n",
      "---  ------   --------------  -----  \n",
      " 0   Buy Ts   500 non-null    object \n",
      " 1   Revenue  500 non-null    float64\n",
      " 2   Uid      500 non-null    uint64 \n",
      "dtypes: float64(1), object(1), uint64(1)\n",
      "memory usage: 45.0 KB\n"
     ]
    }
   ],
   "source": [
    "order_raws.info(memory_usage='deep')"
   ]
  },
  {
   "cell_type": "markdown",
   "metadata": {},
   "source": [
    "The orders table (data on orders) includes the following columns:\n",
    "* `'Uid'` — unique identifier of the user making an order\n",
    "* `'Buy Ts'` — order date and time\n",
    "* `'Revenue'` — Yandex.Afisha's revenue from the order\n",
    "\n",
    "We have 3 columns and the table size is 45 KB.\n",
    "\n",
    "We can optimize the upload of this data by importing `Buy Ts` as dates."
   ]
  },
  {
   "cell_type": "code",
   "execution_count": 6,
   "metadata": {},
   "outputs": [
    {
     "name": "stdout",
     "output_type": "stream",
     "text": [
      "<class 'pandas.core.frame.DataFrame'>\n",
      "RangeIndex: 500 entries, 0 to 499\n",
      "Data columns (total 3 columns):\n",
      " #   Column     Non-Null Count  Dtype  \n",
      "---  ------     --------------  -----  \n",
      " 0   source_id  500 non-null    int64  \n",
      " 1   dt         500 non-null    object \n",
      " 2   costs      500 non-null    float64\n",
      "dtypes: float64(1), int64(1), object(1)\n",
      "memory usage: 40.7 KB\n"
     ]
    }
   ],
   "source": [
    "costs_raw.info(memory_usage='deep')"
   ]
  },
  {
   "cell_type": "markdown",
   "metadata": {},
   "source": [
    "The costs table (data on marketing expenses) includes the following columns:\n",
    "* `'source_id'` — ad source identifier\n",
    "* `'dt'` — date\n",
    "* `'costs'` — expenses on this ad source on this day\n",
    "\n",
    "We have 3 columns and the table size is 40.7 KB.\n",
    "\n",
    "We can optimize the upload of this data by importing the variables in `dt` column as dates."
   ]
  },
  {
   "cell_type": "markdown",
   "metadata": {},
   "source": [
    "To optimize the import we need to:\n",
    "* import the variables of the `Device` column in the visits table as `category` type using `dtype=()` method.\n",
    "* import using `parse_dates = []` method in the following columns-\n",
    "    * `Start Ts` and `End Ts` columns from `visits` table.\n",
    "    * `Buy Ts` column from the `orders` table.\n",
    "    * `dt` column from the `costs` table. \n",
    "    \n",
    "The optimized data will be stored in the following tables - `visits`, `orders` and `costs`."
   ]
  },
  {
   "cell_type": "code",
   "execution_count": 7,
   "metadata": {},
   "outputs": [],
   "source": [
    "try:\n",
    "    visits = pd.read_csv('visits_log_us.csv', dtype={'Device':'category'}, parse_dates = ['Start Ts', 'End Ts'])\n",
    "    orders = pd.read_csv('orders_log_us.csv', parse_dates = ['Buy Ts'])\n",
    "    costs = pd.read_csv('orders_log_us.csv', parse_dates = ['dt'])\n",
    "except:\n",
    "    visits = pd.read_csv('/datasets/visits_log_us.csv', dtype={'Device':'category'}, parse_dates = ['Start Ts', 'End Ts'])\n",
    "    orders = pd.read_csv('/datasets/orders_log_us.csv', parse_dates = ['Buy Ts'])\n",
    "    costs = pd.read_csv('/datasets/costs_us.csv', parse_dates = ['dt'])"
   ]
  },
  {
   "cell_type": "markdown",
   "metadata": {},
   "source": [
    "Now let's continue to prepare our data to ananlysis."
   ]
  },
  {
   "cell_type": "markdown",
   "metadata": {},
   "source": [
    "### `visits`"
   ]
  },
  {
   "cell_type": "code",
   "execution_count": 8,
   "metadata": {},
   "outputs": [
    {
     "data": {
      "text/html": [
       "<div>\n",
       "<style scoped>\n",
       "    .dataframe tbody tr th:only-of-type {\n",
       "        vertical-align: middle;\n",
       "    }\n",
       "\n",
       "    .dataframe tbody tr th {\n",
       "        vertical-align: top;\n",
       "    }\n",
       "\n",
       "    .dataframe thead th {\n",
       "        text-align: right;\n",
       "    }\n",
       "</style>\n",
       "<table border=\"1\" class=\"dataframe\">\n",
       "  <thead>\n",
       "    <tr style=\"text-align: right;\">\n",
       "      <th></th>\n",
       "      <th>Device</th>\n",
       "      <th>End Ts</th>\n",
       "      <th>Source Id</th>\n",
       "      <th>Start Ts</th>\n",
       "      <th>Uid</th>\n",
       "    </tr>\n",
       "  </thead>\n",
       "  <tbody>\n",
       "    <tr>\n",
       "      <th>0</th>\n",
       "      <td>touch</td>\n",
       "      <td>2017-12-20 17:38:00</td>\n",
       "      <td>4</td>\n",
       "      <td>2017-12-20 17:20:00</td>\n",
       "      <td>16879256277535980062</td>\n",
       "    </tr>\n",
       "    <tr>\n",
       "      <th>1</th>\n",
       "      <td>desktop</td>\n",
       "      <td>2018-02-19 17:21:00</td>\n",
       "      <td>2</td>\n",
       "      <td>2018-02-19 16:53:00</td>\n",
       "      <td>104060357244891740</td>\n",
       "    </tr>\n",
       "    <tr>\n",
       "      <th>2</th>\n",
       "      <td>touch</td>\n",
       "      <td>2017-07-01 01:54:00</td>\n",
       "      <td>5</td>\n",
       "      <td>2017-07-01 01:54:00</td>\n",
       "      <td>7459035603376831527</td>\n",
       "    </tr>\n",
       "    <tr>\n",
       "      <th>3</th>\n",
       "      <td>desktop</td>\n",
       "      <td>2018-05-20 11:23:00</td>\n",
       "      <td>9</td>\n",
       "      <td>2018-05-20 10:59:00</td>\n",
       "      <td>16174680259334210214</td>\n",
       "    </tr>\n",
       "    <tr>\n",
       "      <th>4</th>\n",
       "      <td>desktop</td>\n",
       "      <td>2017-12-27 14:06:00</td>\n",
       "      <td>3</td>\n",
       "      <td>2017-12-27 14:06:00</td>\n",
       "      <td>9969694820036681168</td>\n",
       "    </tr>\n",
       "  </tbody>\n",
       "</table>\n",
       "</div>"
      ],
      "text/plain": [
       "    Device              End Ts  Source Id            Start Ts  \\\n",
       "0    touch 2017-12-20 17:38:00          4 2017-12-20 17:20:00   \n",
       "1  desktop 2018-02-19 17:21:00          2 2018-02-19 16:53:00   \n",
       "2    touch 2017-07-01 01:54:00          5 2017-07-01 01:54:00   \n",
       "3  desktop 2018-05-20 11:23:00          9 2018-05-20 10:59:00   \n",
       "4  desktop 2017-12-27 14:06:00          3 2017-12-27 14:06:00   \n",
       "\n",
       "                    Uid  \n",
       "0  16879256277535980062  \n",
       "1    104060357244891740  \n",
       "2   7459035603376831527  \n",
       "3  16174680259334210214  \n",
       "4   9969694820036681168  "
      ]
     },
     "execution_count": 8,
     "metadata": {},
     "output_type": "execute_result"
    }
   ],
   "source": [
    "visits.head()"
   ]
  },
  {
   "cell_type": "code",
   "execution_count": 9,
   "metadata": {},
   "outputs": [
    {
     "name": "stdout",
     "output_type": "stream",
     "text": [
      "<class 'pandas.core.frame.DataFrame'>\n",
      "RangeIndex: 359400 entries, 0 to 359399\n",
      "Data columns (total 5 columns):\n",
      " #   Column     Non-Null Count   Dtype         \n",
      "---  ------     --------------   -----         \n",
      " 0   Device     359400 non-null  category      \n",
      " 1   End Ts     359400 non-null  datetime64[ns]\n",
      " 2   Source Id  359400 non-null  int64         \n",
      " 3   Start Ts   359400 non-null  datetime64[ns]\n",
      " 4   Uid        359400 non-null  uint64        \n",
      "dtypes: category(1), datetime64[ns](2), int64(1), uint64(1)\n",
      "memory usage: 11.3 MB\n"
     ]
    }
   ],
   "source": [
    "visits.info(memory_usage='deep')"
   ]
  },
  {
   "cell_type": "markdown",
   "metadata": {},
   "source": [
    "We have 5 columns and 359400 rows. The size of the table is 11.3 MB. We have no missing values.\\\n",
    "The variables in the `Device` column are imported as category. The variables in the `End Ts` and `Start Ts` columns are imported as datetime64[ns]. The varaibled in the `Source Id` are imported as int64 and the variables in the `Uid` colunm are imported as unsigned integer 64.\n",
    "\n",
    "Let's check the unique values in the `device` and `source_id`."
   ]
  },
  {
   "cell_type": "code",
   "execution_count": 10,
   "metadata": {},
   "outputs": [
    {
     "name": "stdout",
     "output_type": "stream",
     "text": [
      "['touch', 'desktop']\n",
      "Categories (2, object): ['touch', 'desktop']\n"
     ]
    },
    {
     "data": {
      "text/plain": [
       "array([ 1,  2,  3,  4,  5,  6,  7,  9, 10])"
      ]
     },
     "execution_count": 10,
     "metadata": {},
     "output_type": "execute_result"
    }
   ],
   "source": [
    "print(visits['Device'].unique())\n",
    "np.sort(visits['Source Id'].unique())"
   ]
  },
  {
   "cell_type": "markdown",
   "metadata": {},
   "source": [
    " As accepted, there is only two variables in the `Device` column - `desktop` and `touch`.\\\n",
    " And we have 10 type of source ad. Let's check their distribution by `.value_counts()`."
   ]
  },
  {
   "cell_type": "code",
   "execution_count": 11,
   "metadata": {},
   "outputs": [
    {
     "name": "stdout",
     "output_type": "stream",
     "text": [
      "desktop    262567\n",
      "touch       96833\n",
      "Name: Device, dtype: int64\n"
     ]
    },
    {
     "data": {
      "text/plain": [
       "4     101794\n",
       "3      85610\n",
       "5      66905\n",
       "2      47626\n",
       "1      34121\n",
       "9      13277\n",
       "10     10025\n",
       "7         36\n",
       "6          6\n",
       "Name: Source Id, dtype: int64"
      ]
     },
     "execution_count": 11,
     "metadata": {},
     "output_type": "execute_result"
    }
   ],
   "source": [
    "print(visits['Device'].value_counts())\n",
    "visits['Source Id'].value_counts()"
   ]
  },
  {
   "cell_type": "markdown",
   "metadata": {},
   "source": [
    "It looks like that most user's use the `desktop` platfom and arrive from the 4th source ad. We will investigate it more in our next steps.\n",
    "\n",
    "Let's check for duplicates."
   ]
  },
  {
   "cell_type": "code",
   "execution_count": 12,
   "metadata": {},
   "outputs": [
    {
     "data": {
      "text/plain": [
       "0"
      ]
     },
     "execution_count": 12,
     "metadata": {},
     "output_type": "execute_result"
    }
   ],
   "source": [
    "visits.duplicated().sum()"
   ]
  },
  {
   "cell_type": "markdown",
   "metadata": {},
   "source": [
    "No duplicates and no missing values!\\\n",
    "Let's change the columns name to lowercase using `.str.lower()` and the spaces into underscore using `.str.replace()` to simplify our future analysis."
   ]
  },
  {
   "cell_type": "code",
   "execution_count": 13,
   "metadata": {},
   "outputs": [
    {
     "data": {
      "text/plain": [
       "Index(['device', 'end_ts', 'source_id', 'start_ts', 'uid'], dtype='object')"
      ]
     },
     "execution_count": 13,
     "metadata": {},
     "output_type": "execute_result"
    }
   ],
   "source": [
    "visits.columns= visits.columns.str.replace(' ','_').str.lower()\n",
    "visits.columns"
   ]
  },
  {
   "cell_type": "markdown",
   "metadata": {},
   "source": [
    "Our data from the `visits` dataFrame is ready. Let's move on to the `orders` dataFrame."
   ]
  },
  {
   "cell_type": "markdown",
   "metadata": {},
   "source": [
    "### `orders`"
   ]
  },
  {
   "cell_type": "code",
   "execution_count": 14,
   "metadata": {},
   "outputs": [
    {
     "data": {
      "text/html": [
       "<div>\n",
       "<style scoped>\n",
       "    .dataframe tbody tr th:only-of-type {\n",
       "        vertical-align: middle;\n",
       "    }\n",
       "\n",
       "    .dataframe tbody tr th {\n",
       "        vertical-align: top;\n",
       "    }\n",
       "\n",
       "    .dataframe thead th {\n",
       "        text-align: right;\n",
       "    }\n",
       "</style>\n",
       "<table border=\"1\" class=\"dataframe\">\n",
       "  <thead>\n",
       "    <tr style=\"text-align: right;\">\n",
       "      <th></th>\n",
       "      <th>Buy Ts</th>\n",
       "      <th>Revenue</th>\n",
       "      <th>Uid</th>\n",
       "    </tr>\n",
       "  </thead>\n",
       "  <tbody>\n",
       "    <tr>\n",
       "      <th>0</th>\n",
       "      <td>2017-06-01 00:10:00</td>\n",
       "      <td>17.00</td>\n",
       "      <td>10329302124590727494</td>\n",
       "    </tr>\n",
       "    <tr>\n",
       "      <th>1</th>\n",
       "      <td>2017-06-01 00:25:00</td>\n",
       "      <td>0.55</td>\n",
       "      <td>11627257723692907447</td>\n",
       "    </tr>\n",
       "    <tr>\n",
       "      <th>2</th>\n",
       "      <td>2017-06-01 00:27:00</td>\n",
       "      <td>0.37</td>\n",
       "      <td>17903680561304213844</td>\n",
       "    </tr>\n",
       "    <tr>\n",
       "      <th>3</th>\n",
       "      <td>2017-06-01 00:29:00</td>\n",
       "      <td>0.55</td>\n",
       "      <td>16109239769442553005</td>\n",
       "    </tr>\n",
       "    <tr>\n",
       "      <th>4</th>\n",
       "      <td>2017-06-01 07:58:00</td>\n",
       "      <td>0.37</td>\n",
       "      <td>14200605875248379450</td>\n",
       "    </tr>\n",
       "  </tbody>\n",
       "</table>\n",
       "</div>"
      ],
      "text/plain": [
       "               Buy Ts  Revenue                   Uid\n",
       "0 2017-06-01 00:10:00    17.00  10329302124590727494\n",
       "1 2017-06-01 00:25:00     0.55  11627257723692907447\n",
       "2 2017-06-01 00:27:00     0.37  17903680561304213844\n",
       "3 2017-06-01 00:29:00     0.55  16109239769442553005\n",
       "4 2017-06-01 07:58:00     0.37  14200605875248379450"
      ]
     },
     "execution_count": 14,
     "metadata": {},
     "output_type": "execute_result"
    }
   ],
   "source": [
    "orders.head()"
   ]
  },
  {
   "cell_type": "code",
   "execution_count": 15,
   "metadata": {},
   "outputs": [
    {
     "name": "stdout",
     "output_type": "stream",
     "text": [
      "<class 'pandas.core.frame.DataFrame'>\n",
      "RangeIndex: 50415 entries, 0 to 50414\n",
      "Data columns (total 3 columns):\n",
      " #   Column   Non-Null Count  Dtype         \n",
      "---  ------   --------------  -----         \n",
      " 0   Buy Ts   50415 non-null  datetime64[ns]\n",
      " 1   Revenue  50415 non-null  float64       \n",
      " 2   Uid      50415 non-null  uint64        \n",
      "dtypes: datetime64[ns](1), float64(1), uint64(1)\n",
      "memory usage: 1.2 MB\n"
     ]
    }
   ],
   "source": [
    "orders.info(memory_usage='deep')"
   ]
  },
  {
   "cell_type": "markdown",
   "metadata": {},
   "source": [
    "We have 3 columns and 50415 rows (less than in the `visits` table). The size of the table is 1.2 MB. We have no missing values.\\\n",
    "The variables in the `Buy Ts` column are imported as datetime64[ns]. The varaibled in the `Revenue` are imported as float64. And the variables in the `Uid` colunm are imported as unsigned integer 64.\n",
    "\n",
    "Let's check for duplicates."
   ]
  },
  {
   "cell_type": "code",
   "execution_count": 16,
   "metadata": {},
   "outputs": [
    {
     "data": {
      "text/plain": [
       "0"
      ]
     },
     "execution_count": 16,
     "metadata": {},
     "output_type": "execute_result"
    }
   ],
   "source": [
    "orders.duplicated().sum()"
   ]
  },
  {
   "cell_type": "markdown",
   "metadata": {},
   "source": [
    "No duplicates. \n",
    "\n",
    "Using the same method as previously, let's change the columns name to lowercase using and the spaces into underscore to simplify our future analysis."
   ]
  },
  {
   "cell_type": "code",
   "execution_count": 17,
   "metadata": {},
   "outputs": [],
   "source": [
    "orders.columns= orders.columns.str.replace(' ','_').str.lower()"
   ]
  },
  {
   "cell_type": "markdown",
   "metadata": {},
   "source": [
    "The `orders` dataFrame is ready for the analysis. Let's move on the next table `costs`"
   ]
  },
  {
   "cell_type": "markdown",
   "metadata": {},
   "source": [
    "### `costs`"
   ]
  },
  {
   "cell_type": "code",
   "execution_count": 18,
   "metadata": {},
   "outputs": [
    {
     "data": {
      "text/html": [
       "<div>\n",
       "<style scoped>\n",
       "    .dataframe tbody tr th:only-of-type {\n",
       "        vertical-align: middle;\n",
       "    }\n",
       "\n",
       "    .dataframe tbody tr th {\n",
       "        vertical-align: top;\n",
       "    }\n",
       "\n",
       "    .dataframe thead th {\n",
       "        text-align: right;\n",
       "    }\n",
       "</style>\n",
       "<table border=\"1\" class=\"dataframe\">\n",
       "  <thead>\n",
       "    <tr style=\"text-align: right;\">\n",
       "      <th></th>\n",
       "      <th>source_id</th>\n",
       "      <th>dt</th>\n",
       "      <th>costs</th>\n",
       "    </tr>\n",
       "  </thead>\n",
       "  <tbody>\n",
       "    <tr>\n",
       "      <th>0</th>\n",
       "      <td>1</td>\n",
       "      <td>2017-06-01</td>\n",
       "      <td>75.20</td>\n",
       "    </tr>\n",
       "    <tr>\n",
       "      <th>1</th>\n",
       "      <td>1</td>\n",
       "      <td>2017-06-02</td>\n",
       "      <td>62.25</td>\n",
       "    </tr>\n",
       "    <tr>\n",
       "      <th>2</th>\n",
       "      <td>1</td>\n",
       "      <td>2017-06-03</td>\n",
       "      <td>36.53</td>\n",
       "    </tr>\n",
       "    <tr>\n",
       "      <th>3</th>\n",
       "      <td>1</td>\n",
       "      <td>2017-06-04</td>\n",
       "      <td>55.00</td>\n",
       "    </tr>\n",
       "    <tr>\n",
       "      <th>4</th>\n",
       "      <td>1</td>\n",
       "      <td>2017-06-05</td>\n",
       "      <td>57.08</td>\n",
       "    </tr>\n",
       "  </tbody>\n",
       "</table>\n",
       "</div>"
      ],
      "text/plain": [
       "   source_id         dt  costs\n",
       "0          1 2017-06-01  75.20\n",
       "1          1 2017-06-02  62.25\n",
       "2          1 2017-06-03  36.53\n",
       "3          1 2017-06-04  55.00\n",
       "4          1 2017-06-05  57.08"
      ]
     },
     "execution_count": 18,
     "metadata": {},
     "output_type": "execute_result"
    }
   ],
   "source": [
    "costs.head()"
   ]
  },
  {
   "cell_type": "code",
   "execution_count": 19,
   "metadata": {},
   "outputs": [
    {
     "name": "stdout",
     "output_type": "stream",
     "text": [
      "<class 'pandas.core.frame.DataFrame'>\n",
      "RangeIndex: 2542 entries, 0 to 2541\n",
      "Data columns (total 3 columns):\n",
      " #   Column     Non-Null Count  Dtype         \n",
      "---  ------     --------------  -----         \n",
      " 0   source_id  2542 non-null   int64         \n",
      " 1   dt         2542 non-null   datetime64[ns]\n",
      " 2   costs      2542 non-null   float64       \n",
      "dtypes: datetime64[ns](1), float64(1), int64(1)\n",
      "memory usage: 59.7 KB\n"
     ]
    }
   ],
   "source": [
    "costs.info(memory_usage='deep')"
   ]
  },
  {
   "cell_type": "markdown",
   "metadata": {},
   "source": [
    "We have 3 columns and 2542 rows ( less than in `visits` and `orders`. The size of the table is 59.7 Kb. We have no missing values.\\\n",
    "The variables in the `source_id` column are imported as int64. The variables in the `dt` datetime64[ns]. And the varaibled in the `costs` are imported as float64.\n",
    "The columns name int this table is already in lowercase and with underscore. So no processing is needed.\n",
    "\n",
    "Let's check the destribution of the `source_id` using `.value_counts()`."
   ]
  },
  {
   "cell_type": "code",
   "execution_count": 20,
   "metadata": {},
   "outputs": [
    {
     "data": {
      "text/plain": [
       "5     364\n",
       "2     363\n",
       "4     363\n",
       "10    363\n",
       "1     363\n",
       "3     363\n",
       "9     363\n",
       "Name: source_id, dtype: int64"
      ]
     },
     "execution_count": 20,
     "metadata": {},
     "output_type": "execute_result"
    }
   ],
   "source": [
    "costs.source_id.value_counts()"
   ]
  },
  {
   "cell_type": "markdown",
   "metadata": {},
   "source": [
    "It looks like all source ad where invested equaly except the 6th source ad which is not shown in the table. We recommend checking why the 6th source ad is not represented in this data.\n",
    "\n",
    "Let's check for duplicates."
   ]
  },
  {
   "cell_type": "code",
   "execution_count": 21,
   "metadata": {},
   "outputs": [
    {
     "data": {
      "text/plain": [
       "0"
      ]
     },
     "execution_count": 21,
     "metadata": {},
     "output_type": "execute_result"
    }
   ],
   "source": [
    "costs.duplicated().sum()"
   ]
  },
  {
   "cell_type": "markdown",
   "metadata": {},
   "source": [
    "No duplictes.\n",
    "\n",
    "Now that all our data is prepared, we can continue with our analysis."
   ]
  },
  {
   "cell_type": "markdown",
   "metadata": {},
   "source": [
    "## Make reports and calculate metrics"
   ]
  },
  {
   "cell_type": "markdown",
   "metadata": {},
   "source": [
    "We will need to answer the following  questions -\n",
    "1. Product\n",
    "* How many people use it every day, week, and month?\n",
    "* How many sessions are there per day? \n",
    "* What is the length of each session?\n",
    "* What's the user retention rate?\n",
    "\n",
    "2. Sales\n",
    "* When do people start buying? What time elapses between registration and conversion? When the user becomes a customer?\n",
    "* How many orders do they make during a given period of time?\n",
    "* What is the average purchase size?\n",
    "* How much money do they bring? \n",
    "3. Marketing\n",
    "* How much money was spent? Overall, per source and over time.\n",
    "* How much did customer acquisition from each of the sources cost?\n",
    "* How worthwhile where the investments?\n",
    "\n",
    "For each question, we will represent the metrics in general, for various devices and various sources."
   ]
  },
  {
   "cell_type": "markdown",
   "metadata": {},
   "source": [
    "### Product"
   ]
  },
  {
   "cell_type": "markdown",
   "metadata": {},
   "source": [
    "#### How many people use it every day, week, and month?"
   ]
  },
  {
   "cell_type": "markdown",
   "metadata": {},
   "source": [
    "To answer this questiom, we will need to creat new columns that will represent the beging of the session of each visit - \n",
    "* `start_session_year` - the year of the beging session using `.dt.year` method.\n",
    "* `start_session_month` - the month of the beging session using `.astype('datetime64[M]')` method.\n",
    "* `start_session_week` - the week of the beging session using `.astype('datetime64[W]')` method.\n",
    "* `start_session_date` - the day of the beging session using `.dt.date` method.\n"
   ]
  },
  {
   "cell_type": "code",
   "execution_count": 22,
   "metadata": {},
   "outputs": [
    {
     "data": {
      "text/html": [
       "<div>\n",
       "<style scoped>\n",
       "    .dataframe tbody tr th:only-of-type {\n",
       "        vertical-align: middle;\n",
       "    }\n",
       "\n",
       "    .dataframe tbody tr th {\n",
       "        vertical-align: top;\n",
       "    }\n",
       "\n",
       "    .dataframe thead th {\n",
       "        text-align: right;\n",
       "    }\n",
       "</style>\n",
       "<table border=\"1\" class=\"dataframe\">\n",
       "  <thead>\n",
       "    <tr style=\"text-align: right;\">\n",
       "      <th></th>\n",
       "      <th>device</th>\n",
       "      <th>end_ts</th>\n",
       "      <th>source_id</th>\n",
       "      <th>start_ts</th>\n",
       "      <th>uid</th>\n",
       "      <th>start_year</th>\n",
       "      <th>start_month</th>\n",
       "      <th>start_week</th>\n",
       "      <th>start_day</th>\n",
       "    </tr>\n",
       "  </thead>\n",
       "  <tbody>\n",
       "    <tr>\n",
       "      <th>0</th>\n",
       "      <td>touch</td>\n",
       "      <td>2017-12-20 17:38:00</td>\n",
       "      <td>4</td>\n",
       "      <td>2017-12-20 17:20:00</td>\n",
       "      <td>16879256277535980062</td>\n",
       "      <td>2017</td>\n",
       "      <td>2017-12-01</td>\n",
       "      <td>2017-12-14</td>\n",
       "      <td>2017-12-20</td>\n",
       "    </tr>\n",
       "    <tr>\n",
       "      <th>1</th>\n",
       "      <td>desktop</td>\n",
       "      <td>2018-02-19 17:21:00</td>\n",
       "      <td>2</td>\n",
       "      <td>2018-02-19 16:53:00</td>\n",
       "      <td>104060357244891740</td>\n",
       "      <td>2018</td>\n",
       "      <td>2018-02-01</td>\n",
       "      <td>2018-02-15</td>\n",
       "      <td>2018-02-19</td>\n",
       "    </tr>\n",
       "    <tr>\n",
       "      <th>2</th>\n",
       "      <td>touch</td>\n",
       "      <td>2017-07-01 01:54:00</td>\n",
       "      <td>5</td>\n",
       "      <td>2017-07-01 01:54:00</td>\n",
       "      <td>7459035603376831527</td>\n",
       "      <td>2017</td>\n",
       "      <td>2017-07-01</td>\n",
       "      <td>2017-06-29</td>\n",
       "      <td>2017-07-01</td>\n",
       "    </tr>\n",
       "    <tr>\n",
       "      <th>3</th>\n",
       "      <td>desktop</td>\n",
       "      <td>2018-05-20 11:23:00</td>\n",
       "      <td>9</td>\n",
       "      <td>2018-05-20 10:59:00</td>\n",
       "      <td>16174680259334210214</td>\n",
       "      <td>2018</td>\n",
       "      <td>2018-05-01</td>\n",
       "      <td>2018-05-17</td>\n",
       "      <td>2018-05-20</td>\n",
       "    </tr>\n",
       "    <tr>\n",
       "      <th>4</th>\n",
       "      <td>desktop</td>\n",
       "      <td>2017-12-27 14:06:00</td>\n",
       "      <td>3</td>\n",
       "      <td>2017-12-27 14:06:00</td>\n",
       "      <td>9969694820036681168</td>\n",
       "      <td>2017</td>\n",
       "      <td>2017-12-01</td>\n",
       "      <td>2017-12-21</td>\n",
       "      <td>2017-12-27</td>\n",
       "    </tr>\n",
       "  </tbody>\n",
       "</table>\n",
       "</div>"
      ],
      "text/plain": [
       "    device              end_ts  source_id            start_ts  \\\n",
       "0    touch 2017-12-20 17:38:00          4 2017-12-20 17:20:00   \n",
       "1  desktop 2018-02-19 17:21:00          2 2018-02-19 16:53:00   \n",
       "2    touch 2017-07-01 01:54:00          5 2017-07-01 01:54:00   \n",
       "3  desktop 2018-05-20 11:23:00          9 2018-05-20 10:59:00   \n",
       "4  desktop 2017-12-27 14:06:00          3 2017-12-27 14:06:00   \n",
       "\n",
       "                    uid  start_year start_month start_week   start_day  \n",
       "0  16879256277535980062        2017  2017-12-01 2017-12-14  2017-12-20  \n",
       "1    104060357244891740        2018  2018-02-01 2018-02-15  2018-02-19  \n",
       "2   7459035603376831527        2017  2017-07-01 2017-06-29  2017-07-01  \n",
       "3  16174680259334210214        2018  2018-05-01 2018-05-17  2018-05-20  \n",
       "4   9969694820036681168        2017  2017-12-01 2017-12-21  2017-12-27  "
      ]
     },
     "execution_count": 22,
     "metadata": {},
     "output_type": "execute_result"
    }
   ],
   "source": [
    "visits['start_year'] = visits['start_ts'].dt.year\n",
    "visits['start_month'] = visits['start_ts'].astype('datetime64[M]')\n",
    "visits['start_week'] = visits['start_ts'].astype('datetime64[W]')\n",
    "visits['start_day'] = visits['start_ts'].dt.date\n",
    "visits.head()"
   ]
  },
  {
   "cell_type": "markdown",
   "metadata": {},
   "source": [
    "##### General user activity "
   ]
  },
  {
   "cell_type": "markdown",
   "metadata": {},
   "source": [
    "To find the daily, weekly and monthly user activity, we will group the `visits` table by `start_session_year` and the `start_session_date`, `start_session_week` or `start_session_month` and count the unique user id.\\\n",
    "* `dau` will represent the daily user activity and `dau_avg` will represnt the average daily user activity.\n",
    "* `wau` will represent the weekly user activity,`wau_avg` will represnt the average weekly user activity and `sticky_wau` will represnet the weekly stcky factor. \n",
    "* `mau` will represent the monthly user activity, `mau_avg` will represnt the average monthly user activity and `sticky_mau` will represenyt the monthly sticky factor."
   ]
  },
  {
   "cell_type": "code",
   "execution_count": 23,
   "metadata": {},
   "outputs": [
    {
     "name": "stdout",
     "output_type": "stream",
     "text": [
      "Average daily user activity: 907\n"
     ]
    },
    {
     "data": {
      "text/plain": [
       "<AxesSubplot:title={'center':'Daily User Activity'}, xlabel='Daily Session', ylabel='Unique User Count'>"
      ]
     },
     "execution_count": 23,
     "metadata": {},
     "output_type": "execute_result"
    },
    {
     "data": {
      "image/png": "[encoded data removed]",
      "text/plain": [
       "<Figure size 1080x504 with 1 Axes>"
      ]
     },
     "metadata": {
      "needs_background": "light"
     },
     "output_type": "display_data"
    }
   ],
   "source": [
    "dau = visits.groupby(['start_year','start_day']).agg({'uid':'nunique'}).reset_index()\n",
    "dau_avg =dau['uid'].mean()\n",
    "print('Average daily user activity:', int(dau_avg))\n",
    "plt.figure(figsize=(15,7))\n",
    "plt.title('Daily User Activity',size=24)\n",
    "plt.xlabel('Daily Session', size=12)\n",
    "plt.ylabel('Unique User Count', size=12)\n",
    "plt.legend([ '2017','2018'], title=\"Session Year\")\n",
    "sns.lineplot(data=dau, x=\"start_day\", y=\"uid\",hue='start_year')"
   ]
  },
  {
   "cell_type": "markdown",
   "metadata": {},
   "source": [
    "We can see: \n",
    "* The average daily user activity is 907. \n",
    "* Up to 2017-10, user activity is less than 1000.\n",
    "* From 2017-10 and until 2018-04, the user activity is between 1000 - 1500 with a high peack of over 30000 users in 2017-12.\n",
    "* From 2018-04 and until 2018-06, the user activity is ahain less than 1000 with a lowest peack, almost 0 users at 2018-04 and a second high peack at the end of 2018-06."
   ]
  },
  {
   "cell_type": "code",
   "execution_count": 24,
   "metadata": {},
   "outputs": [
    {
     "name": "stdout",
     "output_type": "stream",
     "text": [
      "Average weekly user activity: 5621\n",
      "The weekly sticky factor is: 16\n"
     ]
    },
    {
     "data": {
      "text/plain": [
       "<AxesSubplot:title={'center':'Weekly User Activity'}, xlabel='Weekly Session', ylabel='Unique User Count'>"
      ]
     },
     "execution_count": 24,
     "metadata": {},
     "output_type": "execute_result"
    },
    {
     "data": {
      "image/png": "[encoded data removed]",
      "text/plain": [
       "<Figure size 1080x504 with 1 Axes>"
      ]
     },
     "metadata": {
      "needs_background": "light"
     },
     "output_type": "display_data"
    }
   ],
   "source": [
    "wau = visits.groupby(['start_year','start_week']).agg({'uid':'nunique'}).reset_index()\n",
    "wau_avg = wau['uid'].mean()\n",
    "print('Average weekly user activity:', int(wau_avg))\n",
    "sticky_wau=dau_avg/wau_avg*100\n",
    "print('The weekly sticky factor is:',int(sticky_wau))\n",
    "plt.figure(figsize=(15,7))\n",
    "plt.title('Weekly User Activity',size=24)\n",
    "plt.xlabel('Weekly Session', size=12)\n",
    "plt.ylabel('Unique User Count', size=12)\n",
    "plt.legend([ '2017','2018'], title=\"Session Year\")\n",
    "sns.lineplot(data=wau, x=\"start_week\", y=\"uid\",hue='start_year')"
   ]
  },
  {
   "cell_type": "markdown",
   "metadata": {},
   "source": [
    "We can see:\n",
    " * The average weekly user activity is 5621.\n",
    " * 16% of user are revisiting the site.\n",
    " * From 2017-07 and until 2017-09, weekly user activity is less than 4000 when we have a high peack in 2017-07.\n",
    " * From 2017-09 and until 2018-04, weekly user activity is between 4000 and 1200. We have the highest peack with over 10000 users and a low peack with less tan 4000 at 2017-12.\n",
    " * From 2018-04 and until 2018-06, the user activity is less than 6000 and with the lowest peack, almost 0 users at 2018-06.\n",
    "Almost the same behavior as in the daily activity user. "
   ]
  },
  {
   "cell_type": "code",
   "execution_count": 25,
   "metadata": {},
   "outputs": [
    {
     "name": "stdout",
     "output_type": "stream",
     "text": [
      "Average monthly user activity: 23228\n",
      "The monthly sticky factor is: 3\n"
     ]
    },
    {
     "data": {
      "text/plain": [
       "<AxesSubplot:title={'center':'Monthly User Activity'}, xlabel='Monthly Session', ylabel='Unique User Count'>"
      ]
     },
     "execution_count": 25,
     "metadata": {},
     "output_type": "execute_result"
    },
    {
     "data": {
      "image/png": "[encoded data removed]",
      "text/plain": [
       "<Figure size 1080x504 with 1 Axes>"
      ]
     },
     "metadata": {
      "needs_background": "light"
     },
     "output_type": "display_data"
    }
   ],
   "source": [
    "mau = visits.groupby(['start_year','start_month']).agg({'uid':'nunique'}).reset_index()\n",
    "mau_avg = mau['uid'].mean()\n",
    "print('Average monthly user activity:', int(mau_avg))\n",
    "sticky_mau=dau_avg/mau_avg*100\n",
    "print('The monthly sticky factor is:',int(sticky_mau))\n",
    "plt.figure(figsize=(15,7))\n",
    "plt.title('Monthly User Activity',size=24)\n",
    "plt.xlabel('Monthly Session', size=12)\n",
    "plt.ylabel('Unique User Count', size=12)\n",
    "sns.set_style(\"darkgrid\")\n",
    "plt.legend([ '2017','2018'], title=\"Session Year\")\n",
    "sns.lineplot(data=mau, x=\"start_month\", y=\"uid\", hue=\"start_year\")"
   ]
  },
  {
   "cell_type": "markdown",
   "metadata": {},
   "source": [
    "We can see that:\n",
    "* The average monthly user activity is 23338.\n",
    "* 3% of user revisit the site.\n",
    "* From 2017-06 and until the end of 2017-08, the monthly user activity is less than 15000. \n",
    "* From 2017-10 and until 2017-12, the monthly user actibity raises higher than 30000. And from 2017-12, the monthly user acivity descend up to 20000 users.\n",
    "* It looks like we don't have data on April 2018. "
   ]
  },
  {
   "cell_type": "markdown",
   "metadata": {},
   "source": [
    "##### User activity per various device"
   ]
  },
  {
   "cell_type": "markdown",
   "metadata": {},
   "source": [
    "Let's check the user's activy accroding to the device type by the same method as we analysed before.\n",
    "* `dau_device` will represent the daily user activity and `dau_device_avg` will represnt the average daily user activity.\n",
    "* `wau_device` will represent the weekly user activity, `wau_device_avg` will represnt the average weekly user activity and `sticky_wau_device`  will represent for each platfrom the weekly sticky factor.\n",
    "* `mau_device` will represent the monthly user activity, `mau_device_avg` will represnt the average monthly user activity and `sticky_wau_device`  will represent for each platfrom the weekly sticky factor."
   ]
  },
  {
   "cell_type": "code",
   "execution_count": null,
   "metadata": {},
   "outputs": [
    {
     "name": "stdout",
     "output_type": "stream",
     "text": [
      "Average daily user activity per device:\n",
      "                uid\n",
      "device             \n",
      "desktop  329.622253\n",
      "touch    126.089286\n"
     ]
    }
   ],
   "source": [
    "dau_device = visits.groupby(['device','start_year','start_day']).agg({'uid':'nunique'}).reset_index()\n",
    "dau_device_avg=dau_device.groupby('device').agg({'uid':'mean'})\n",
    "print('Average daily user activity per device:')\n",
    "print(dau_device_avg)\n",
    "plt.figure(figsize=(15,7))\n",
    "plt.title('Daily User Activity Per Device',size=24)\n",
    "plt.xlabel('Daily Session', size=12)\n",
    "plt.ylabel('Unique User Count', size=12)\n",
    "sns.lineplot(data=dau_device, x=\"start_day\", y=\"uid\",hue='device')"
   ]
  },
  {
   "cell_type": "markdown",
   "metadata": {},
   "source": [
    "We can see:\n",
    "* On both platforms, the daily user acitivity is less than 500 users.\n",
    "* At 2017-12, we have the highest peack on both platfroms.\n",
    "* At 2018-04, we have the lowest peack on both platfroms.\n",
    "* The desktop platfrom has higher daily user activiry than the touck paltform during the half seesion. "
   ]
  },
  {
   "cell_type": "code",
   "execution_count": null,
   "metadata": {},
   "outputs": [],
   "source": [
    "wau_device = visits.groupby(['device','start_year', 'start_week']).agg({'uid':'nunique'}).reset_index()\n",
    "wau_device_avg=wau_device.groupby('device').agg({'uid':'mean'})\n",
    "print('Average weekly user activity per device:')\n",
    "print(wau_device_avg)\n",
    "print()\n",
    "sticky_wau_device= (dau_device_avg['uid']/wau_device_avg['uid']*100)\n",
    "print('The weekly sticky factor per device is:')\n",
    "print(sticky_wau_device)\n",
    "plt.figure(figsize=(15,7))\n",
    "plt.title('Weekly User Activity Per Device',size=24)\n",
    "plt.xlabel('Weekly Session', size=12)\n",
    "plt.ylabel('Unique User Count', size=12)\n",
    "sns.lineplot(data=wau_device, x=\"start_week\", y=\"uid\",hue='device')"
   ]
  },
  {
   "cell_type": "markdown",
   "metadata": {},
   "source": [
    "We can see:\n",
    "* From 2017-06 and until 2017-20 and from 2018-04 and until 2018-06 -\n",
    "    * the weekly user activity for desktop platfrom is less than 2000.\n",
    "    * the weekly user activity for touch platfrom is less than 1000.\n",
    "* From 2017-10 and until 2018-04 -\n",
    "    * the weekly user activity for desktop platform is between 2000 and 4000 when it reaches its higest peack in 2017-12 with 4000.\n",
    "    * the weekly user activity for desktop platform is higher than 1000.\n",
    "* Desktop platform has a double avegage weekly user activity than the touch platform.\n",
    "* In both devices, the weekly sticky factor is around 15%.     "
   ]
  },
  {
   "cell_type": "code",
   "execution_count": null,
   "metadata": {},
   "outputs": [],
   "source": [
    "mau_device = visits.groupby(['device','start_year', 'start_month']).agg({'uid':'nunique'}).reset_index()\n",
    "mau_device_avg=mau_device.groupby('device').agg({'uid':'mean'})\n",
    "print('Average monthly user activity per device:')\n",
    "print(mau_device_avg)\n",
    "print()\n",
    "sticky_mau_device= (dau_device_avg['uid']/mau_device_avg['uid']*100)\n",
    "print('The monthly sticky factor per device is:')\n",
    "print(sticky_mau_device)\n",
    "plt.figure(figsize=(15,7))\n",
    "plt.title('Monthly User Activity Per Device',size=24)\n",
    "plt.xlabel('Monthly Session', size=12)\n",
    "plt.ylabel('Unique User Count', size=12)\n",
    "sns.lineplot(data=mau_device, x=\"start_month\", y=\"uid\",hue='device')"
   ]
  },
  {
   "cell_type": "markdown",
   "metadata": {},
   "source": [
    "We can see:\n",
    "* The monthly user acitivity for desktop device is double than the youch device.\n",
    "* Never the less, the monthly sticky factor for both devices is almost 4%. \n",
    "* From 2017-06 and until 2017-08, both devices have the lowest monthly acticity reach during this session.\n",
    "* From 2017-10, the monthly acitivity raises to its highest in both platforms until 2017-12.\n",
    "* Then, it start to descend in both devices. "
   ]
  },
  {
   "cell_type": "markdown",
   "metadata": {},
   "source": [
    "#####  User activity for various sources"
   ]
  },
  {
   "cell_type": "markdown",
   "metadata": {},
   "source": [
    "Let's check the user's activy accroding to the source type by the same method as we analysed before.\n",
    "* `dau_source` will represent the daily user activity and `dau_source_avg` will represnt the average daily user activity.\n",
    "* `wau_source` will represent the weekly user activity and `wau_source_avg` will represnt the average weekly user activity.\n",
    "* `mau_source` will represent the monthly user activity and `mau_source_avg` will represnt the average monthly user activityg."
   ]
  },
  {
   "cell_type": "code",
   "execution_count": null,
   "metadata": {},
   "outputs": [],
   "source": [
    "dau_source = visits.groupby(['source_id','start_year','start_day']).agg({'uid':'nunique'}).reset_index()\n",
    "dau_source_avg=dau_source.groupby('source_id').agg({'uid':'mean'})\n",
    "plot=dau_source_avg.plot.pie(y='uid',subplots=True,figsize=(15, 10),autopct='%1.1f%%',\n",
    "                         title = \"Average daily active users from each ad source\")\n",
    "dau_source_avg"
   ]
  },
  {
   "cell_type": "markdown",
   "metadata": {},
   "source": [
    "We can see:\n",
    "* 4th and 3rd source ad has the highest average daily user acticity with 29%.\n",
    "* The 6th and 7th source ad have 0.1% average daily user acticity."
   ]
  },
  {
   "cell_type": "code",
   "execution_count": null,
   "metadata": {},
   "outputs": [],
   "source": [
    "wau_source = visits.groupby(['source_id','start_year','start_week']).agg({'uid':'nunique'}).reset_index()\n",
    "wau_source_avg=wau_source.groupby('source_id').agg({'uid':'mean'}).reset_index()\n",
    "print('Average weekly user activity per source:')\n",
    "print(wau_source_avg)\n",
    "plt.figure(figsize=(15,7))\n",
    "plt.title('Average weekly User Activity Per Source',size=24)\n",
    "sns.barplot(data=wau_source_avg, x=\"source_id\", y=\"uid\",hue='source_id')"
   ]
  },
  {
   "cell_type": "markdown",
   "metadata": {},
   "source": [
    "We can see:\n",
    "* 4th and 3rd source ad has the highest average weekly user acticity with over 1500 users.\n",
    "* The 6th and 7th source ad have the lowest average weekly user acticity."
   ]
  },
  {
   "cell_type": "code",
   "execution_count": null,
   "metadata": {},
   "outputs": [],
   "source": [
    "mau_source = visits.groupby(['source_id','start_year','start_month']).agg({'uid':'nunique'}).reset_index()\n",
    "mau_source_avg=mau_source.groupby('source_id').agg({'uid':'mean'}).reset_index()\n",
    "print('Average monthly user activity per source:')\n",
    "print(mau_source_avg)\n",
    "plt.figure(figsize=(15,7))\n",
    "plt.title('Monthly User Activity Per Source',size=24)\n",
    "sns.barplot(data=mau_source_avg, x=\"source_id\", y=\"uid\",hue='source_id')"
   ]
  },
  {
   "cell_type": "markdown",
   "metadata": {},
   "source": [
    "We can see:\n",
    "* 4th and 3rd source ad has the highest average monthly user acticity with over 6000 users.\n",
    "* The 6th and 7th source ad have the lowest average monthly user acticity."
   ]
  },
  {
   "cell_type": "markdown",
   "metadata": {},
   "source": [
    "#### How many sessions are there per day?"
   ]
  },
  {
   "cell_type": "markdown",
   "metadata": {},
   "source": [
    "To find the number of visits for each day, we need to group our data from the `visits` table by `start_day`, count how many users and search for the average count.\\\n",
    "To find the session per user, we group the data the same why but in addition, we add the unique count of users. Then devide the count of all user by the count of unique users count and serach for its average.\n",
    "\n",
    "We will apply the same methode for different device and source ad. "
   ]
  },
  {
   "cell_type": "code",
   "execution_count": null,
   "metadata": {},
   "outputs": [],
   "source": [
    "session_per_day = visits.groupby('start_day').agg({'uid':'count'}).reset_index()\n",
    "print('Average sessions per day:', int(session_per_day.mean()))"
   ]
  },
  {
   "cell_type": "code",
   "execution_count": null,
   "metadata": {},
   "outputs": [],
   "source": [
    "sessions_per_user = visits.groupby('start_day').agg({'uid': ['count','nunique']}).reset_index()\n",
    "sessions_per_user.columns = ['session_date','n_sessions', 'n_users']\n",
    "sessions_per_user['sessions_per_user'] = sessions_per_user['n_sessions'] / sessions_per_user['n_users']\n",
    "print(\"Average daily sessions per user:\",round(sessions_per_user['sessions_per_user'].mean(), 2))"
   ]
  },
  {
   "cell_type": "markdown",
   "metadata": {},
   "source": [
    "In general, we have 987 users in a daily session. For each daily session, each user is a unique user ( due to the fact that the `session_per_user` is almost equal to 1.08.\n",
    "\n",
    "Let's apply same method on the different devices."
   ]
  },
  {
   "cell_type": "code",
   "execution_count": null,
   "metadata": {},
   "outputs": [],
   "source": [
    "sessions_per_day_devices = visits.groupby(['device','start_day']).agg({'uid':'count'})\n",
    "sessions_per_day_devices = sessions_per_day_devices.groupby('device').agg({'uid':'mean'}).astype('int')\n",
    "sessions_per_day_devices.columns = ['sessions_per_day']\n",
    "sessions_per_day_devices=sessions_per_day_devices.reset_index()\n",
    "plt.figure(figsize=(15,7))\n",
    "plt.title('Sessions per day and per device',size=24)\n",
    "sns.barplot(data=sessions_per_day_devices, x=\"device\", y=\"sessions_per_day\")"
   ]
  },
  {
   "cell_type": "code",
   "execution_count": null,
   "metadata": {},
   "outputs": [],
   "source": [
    "sessions_per_user_devices = visits.groupby(['device', 'start_day']).agg({'uid':['count', 'nunique']})\n",
    "sessions_per_user_devices.columns = ['n_sessions', 'n_users']\n",
    "sessions_per_user_devices = sessions_per_user_devices.groupby('device').agg({'n_sessions':'mean', 'n_users':'mean'}).reset_index()\n",
    "sessions_per_user_devices['sessions_per_user'] = sessions_per_user_devices['n_sessions'] / sessions_per_user_devices['n_users']\n",
    "sessions_per_user_devices\n",
    "plt.figure(figsize=(15,7))\n",
    "plt.title('Sessions per user and per device',size=24)\n",
    "sns.barplot(data=sessions_per_user_devices, x=\"device\", y=\"sessions_per_user\")"
   ]
  },
  {
   "cell_type": "markdown",
   "metadata": {},
   "source": [
    "We have more users from the `desktop` device than from the `touch` device. On each device, the user's session visit is considered as unique.\\\n",
    "Let's check with the same method in the source ad."
   ]
  },
  {
   "cell_type": "code",
   "execution_count": null,
   "metadata": {},
   "outputs": [],
   "source": [
    "sessions_per_day_source = visits.groupby(['source_id','start_day']).agg({'uid':'count'})\n",
    "sessions_per_day_source = sessions_per_day_source.groupby('source_id').agg({'uid':'mean'}).astype('int')\n",
    "sessions_per_day_source.columns = ['sessions_per_day']\n",
    "sessions_per_day_source=sessions_per_day_source.reset_index()\n",
    "plt.figure(figsize=(15,7))\n",
    "plt.title('Sessions per day and per source ID',size=24)\n",
    "sns.barplot(data=sessions_per_day_source, x=\"source_id\", y=\"sessions_per_day\")"
   ]
  },
  {
   "cell_type": "code",
   "execution_count": null,
   "metadata": {},
   "outputs": [],
   "source": [
    "sessions_per_user_source = visits.groupby(['source_id', 'start_day']).agg({'uid':['count', 'nunique']})\n",
    "sessions_per_user_source.columns = ['n_sessions', 'n_users']\n",
    "sessions_per_user_source = sessions_per_user_source.groupby('source_id').agg({'n_sessions':'mean', 'n_users':'mean'}).reset_index()\n",
    "sessions_per_user_source['sessions_per_user'] = sessions_per_user_source['n_sessions'] / sessions_per_user_source['n_users']\n",
    "plt.figure(figsize=(15,7))\n",
    "plt.title('Sessions per user and per source ID',size=24)\n",
    "sns.barplot(data=sessions_per_user_source, x=\"source_id\", y=\"sessions_per_user\")"
   ]
  },
  {
   "cell_type": "markdown",
   "metadata": {},
   "source": [
    "The 3rd and the 4th source ad have the highest daily session. In all source ad, the user session visit is considered as unique."
   ]
  },
  {
   "cell_type": "markdown",
   "metadata": {},
   "source": [
    "In conclusion, it seems that on average each user enteres through various device and ad source only once."
   ]
  },
  {
   "cell_type": "markdown",
   "metadata": {},
   "source": [
    "#### What is the length of each session?"
   ]
  },
  {
   "cell_type": "markdown",
   "metadata": {},
   "source": [
    "To find the session length, we will subract the time of the `ends_ts` from the `start_ts` and store this information in a new column named `session_length`."
   ]
  },
  {
   "cell_type": "code",
   "execution_count": null,
   "metadata": {},
   "outputs": [],
   "source": [
    "visits['session_length'] = (visits['end_ts'] - visits['start_ts']).dt.seconds\n",
    "print('The average session lasts {} seconds'.format(round(visits['session_length'].mean())))"
   ]
  },
  {
   "cell_type": "code",
   "execution_count": null,
   "metadata": {},
   "outputs": [],
   "source": [
    "visits['session_length'].describe()"
   ]
  },
  {
   "cell_type": "markdown",
   "metadata": {},
   "source": [
    "The average session legnth is 644 seconds, which is 10.7 minutes on average.. But from the description of the new column, we see that we have a minimun value equal to 0. That means that the user spend 0 seconds on the site. Let's check the percentage of 0 values from the whole data."
   ]
  },
  {
   "cell_type": "code",
   "execution_count": null,
   "metadata": {},
   "outputs": [],
   "source": [
    "len(visits[visits['session_length'] == 0]) / len(visits)*100"
   ]
  },
  {
   "cell_type": "markdown",
   "metadata": {},
   "source": [
    "It represent almost 10% of all data. Therefore, we will drop raw that have 0 as a value in the `session_length` column."
   ]
  },
  {
   "cell_type": "code",
   "execution_count": null,
   "metadata": {},
   "outputs": [],
   "source": [
    "visits = visits.drop(visits[visits['session_length'] == 0].index)"
   ]
  },
  {
   "cell_type": "markdown",
   "metadata": {},
   "source": [
    "10 minutes sounds as a long average session length. Let's check for upper outliers in the `session_length` column. "
   ]
  },
  {
   "cell_type": "code",
   "execution_count": null,
   "metadata": {},
   "outputs": [],
   "source": [
    "upper_outliers=[]\n",
    "for length in ['session_length']:\n",
    "    max_iqr=visits[length].quantile(0.75)+1.5*(visits[length].quantile(0.75)-visits[length].quantile(0.25))\n",
    "    upper_outliers.append([length,max_iqr])\n",
    "upper_outliers"
   ]
  },
  {
   "cell_type": "code",
   "execution_count": null,
   "metadata": {},
   "outputs": [],
   "source": [
    "len(visits[visits['session_length'] >= 2070]) / len(visits)*100"
   ]
  },
  {
   "cell_type": "markdown",
   "metadata": {},
   "source": [
    "The upper outlier is only 6.8% of all data. We can drop raw that have a higher session legnth than 2070 seconds."
   ]
  },
  {
   "cell_type": "code",
   "execution_count": null,
   "metadata": {},
   "outputs": [],
   "source": [
    "visits = visits.drop(visits[visits['session_length'] >= 2070].index)"
   ]
  },
  {
   "cell_type": "markdown",
   "metadata": {},
   "source": [
    "Now let's check the distribution of the session length through the whole data."
   ]
  },
  {
   "cell_type": "code",
   "execution_count": null,
   "metadata": {},
   "outputs": [],
   "source": [
    "visits['session_length'].hist(bins=50, figsize=(16,8),alpha=0.9)\n",
    "plt.title('Session length', size=24)\n",
    "plt.xlabel('length', size=12)\n",
    "plt.ylabel('Frequency', size=12)\n",
    "\n",
    "if visits['session_length'].mean()>visits['session_length'].median():\n",
    "    print('The distribution is skewed to the right')\n",
    "else:\n",
    "    print('The distribution is skewed to the left')"
   ]
  },
  {
   "cell_type": "markdown",
   "metadata": {},
   "source": [
    "Because the distribution is skewed to the right, we cannot use the `.mean()` method but we need to use the `.mode()`.\n",
    "Using this method, let's find the following - \n",
    "* `als` - average session length.\n",
    "* `als_device` - average session length per device.\n",
    "* `als_source` - average session length per source."
   ]
  },
  {
   "cell_type": "code",
   "execution_count": null,
   "metadata": {},
   "outputs": [],
   "source": [
    "asl = visits['session_length'].mode()\n",
    "print('Average session length: {} seconds'.format(asl[0]))"
   ]
  },
  {
   "cell_type": "code",
   "execution_count": null,
   "metadata": {},
   "outputs": [],
   "source": [
    "asl_device = visits.groupby('device').agg({'session_length':lambda x: x.mode()[0]})\n",
    "print('Average session length per device:')\n",
    "print(asl_device)"
   ]
  },
  {
   "cell_type": "code",
   "execution_count": null,
   "metadata": {},
   "outputs": [],
   "source": [
    "asl_source = visits.groupby('source_id').agg({'session_length':lambda x: x.mode()[0]})\n",
    "print('Average session length per device:')\n",
    "print(asl_source)"
   ]
  },
  {
   "cell_type": "markdown",
   "metadata": {},
   "source": [
    "After slicing our data, it looks like on average users spent 60 seconds in various devices and sources except on the 6th and 7th source add where they spent between 180 and 120 seconds."
   ]
  },
  {
   "cell_type": "markdown",
   "metadata": {},
   "source": [
    "#### What's the user retention rate?"
   ]
  },
  {
   "cell_type": "markdown",
   "metadata": {},
   "source": [
    "To find the retention, we need:\n",
    "* find their `first_visit_date` by grouping by unique user id and use the `.min()` method to find the minimun recorde date for each user.\n",
    "* merge the `first_visit_date` list to the `visits` table on the user id.\n",
    "* extract the `first_month` form the `first_visit_date` using `.astype(\"datetime64[M]\")` method.\n",
    "* substract the `start_month` fromt the `first_month`.Save the results in a new column named `cohort_lifetime` and change the results as a month unite using `np.timedelta64(1, 'M')` division, round it and convert it to an integret variable.\n",
    "* create a new table named `cohort_retention` which will group the first registration month and the cohot lifetime with an unique count of users.\n",
    "* extract the unique user count by first month visit log that have the age 0 at the cohort lifetime and save them as a list called `initial_visit_count`. \n",
    "* merge the `initial_visit_count` with the `cohort_retention` on the `first_month`.\n",
    "* add a new column named `retention` where we will divide the total unique user count by the initial cohort unique user count.\n",
    "* creat a pivot table named `retention_pivot` which represent for each month and cohort lifetime the retention rate with filling the missing values with blank values and represent it in a heatmap."
   ]
  },
  {
   "cell_type": "code",
   "execution_count": null,
   "metadata": {},
   "outputs": [],
   "source": [
    "first_visit_date = visits.groupby('uid')['start_ts'].min()\n",
    "first_visit_date.name = 'first_visit_date'\n",
    "visits = visits.join(first_visit_date, on='uid')\n",
    "visits['first_month'] = visits['first_visit_date'].astype(\"datetime64[M]\")\n",
    "visits['cohort_lifetime'] = ( visits['start_month'] - visits['first_month'] )\n",
    "visits['cohort_lifetime'] = (visits[ 'cohort_lifetime' ] / np.timedelta64(1, 'M')).round().astype(int)\n",
    "cohort_retention = (visits.groupby(['first_month', 'cohort_lifetime']).agg({'uid': 'nunique'})\n",
    "           .reset_index())\n",
    "initial_visits_count = cohort_retention[cohort_retention['cohort_lifetime'] == 0][['first_month', 'uid']]\n",
    "initial_visits_count = initial_visits_count.rename(columns={'uid': 'cohort_users'})\n",
    "cohort_retention = cohort_retention.merge(initial_visits_count, on='first_month')\n",
    "cohort_retention['retention'] = (cohort_retention['uid'] / cohort_retention['cohort_users'])\n",
    "retention_pivot = cohort_retention.pivot_table(index='first_month',columns='cohort_lifetime',values='retention',aggfunc='sum')\n",
    "retention_pivot.fillna(' ')\n",
    "retention_pivot"
   ]
  },
  {
   "cell_type": "code",
   "execution_count": null,
   "metadata": {},
   "outputs": [],
   "source": [
    "plt.figure(figsize=(15, 10))\n",
    "plt.title('User Retention', size=14)\n",
    "sns.heatmap(retention_pivot,annot=True,fmt='.1%',linewidths=.1,linecolor='black', vmin=0, vmax=0.1,yticklabels=(retention_pivot.index.strftime('%Y-%m-%d')))\n",
    "plt.xlabel(\"Cohort Lifetime\", size=14) \n",
    "plt.ylabel(\"Cohort Month\", size=14) \n",
    "plt.show()\n"
   ]
  },
  {
   "cell_type": "markdown",
   "metadata": {},
   "source": [
    "It look like in the second month, we have 7% retention rate - that mean 7% of users will reuse the platfrom. As months go by, the users retention descends to 2%.\n",
    "\n",
    "Let's check the retention rate for various devices by the same method."
   ]
  },
  {
   "cell_type": "code",
   "execution_count": null,
   "metadata": {},
   "outputs": [],
   "source": [
    "cohort_retention_device = (visits.groupby(['device', 'cohort_lifetime']).agg({'uid': 'nunique'})\n",
    "           .reset_index())\n",
    "initial_visits_count = cohort_retention_device[cohort_retention_device['cohort_lifetime'] == 0][['device', 'uid']]\n",
    "initial_visits_count = initial_visits_count.rename(columns={'uid': 'cohort_users'})\n",
    "cohort_retention_device = cohort_retention_device.merge(initial_visits_count, on='device')\n",
    "cohort_retention_device['retention'] = (cohort_retention_device['uid'] / cohort_retention_device['cohort_users'])\n",
    "retention_pivot_device = cohort_retention_device.pivot_table(index='device',columns='cohort_lifetime',values='retention',aggfunc='sum')\n",
    "retention_pivot_device.fillna(' ')\n",
    "retention_pivot_device"
   ]
  },
  {
   "cell_type": "code",
   "execution_count": null,
   "metadata": {},
   "outputs": [],
   "source": [
    "plt.figure(figsize=(15, 6))\n",
    "plt.title('User Retention Per Device', size=14)\n",
    "sns.heatmap(retention_pivot_device,annot=True,fmt='.1%',linewidths=.1,linecolor='black', vmin=0, vmax=0.1)\n",
    "plt.xlabel(\"Cohort Lifetime\", size=14) \n",
    "plt.ylabel(\"Device\", size=14) \n",
    "plt.show()"
   ]
  },
  {
   "cell_type": "markdown",
   "metadata": {},
   "source": [
    "The retention rate for desktop device is higher than the retention rate for touch device.\\\n",
    "\n",
    "Using the same method, we will check the retention rate for various source ad."
   ]
  },
  {
   "cell_type": "code",
   "execution_count": null,
   "metadata": {},
   "outputs": [],
   "source": [
    "cohort_retention_source = (visits.groupby(['source_id', 'cohort_lifetime']).agg({'uid': 'nunique'}).reset_index())\n",
    "initial_visits_count = cohort_retention_source[cohort_retention_source['cohort_lifetime'] == 0][['source_id', 'uid']]\n",
    "initial_visits_count = initial_visits_count.rename(columns={'uid': 'cohort_users'})\n",
    "cohort_retention_source = cohort_retention_source.merge(initial_visits_count, on='source_id')\n",
    "cohort_retention_source['retention'] = (cohort_retention_source['uid'] / cohort_retention_source['cohort_users'])\n",
    "retention_pivot_source = cohort_retention_source.pivot_table(index='source_id',columns='cohort_lifetime',values='retention',aggfunc='sum')\n",
    "retention_pivot_source.fillna(' ')\n",
    "retention_pivot_source"
   ]
  },
  {
   "cell_type": "code",
   "execution_count": null,
   "metadata": {},
   "outputs": [],
   "source": [
    "plt.figure(figsize=(15, 6))\n",
    "plt.title('User Retention Per Device', size=14)\n",
    "sns.heatmap(retention_pivot_source,annot=True,fmt='.1%',linewidths=.1,linecolor='black', vmin=0, vmax=0.1)\n",
    "plt.xlabel(\"Cohort Lifetime\", size=14) \n",
    "plt.ylabel(\"Source\", size=14) \n",
    "plt.show()"
   ]
  },
  {
   "cell_type": "markdown",
   "metadata": {},
   "source": [
    "The 9th source ad has the best between all retention rate during the cohort lifetime. On the second place the 2nd sourece and on the third place the 1st source ad.\\\n",
    "We have strange behaviour in the 6th source ad - no retetion rate in the second month form the first visit month but a 33% retention rate on the 3rd month from the first visit month. And no other retention rate records in other visit's month.\n",
    "An additional strange behavior in the 7th source ad - a fix retention rate on the 2nd and 5th month form the first visit month. "
   ]
  },
  {
   "cell_type": "markdown",
   "metadata": {},
   "source": [
    "### Sales"
   ]
  },
  {
   "cell_type": "markdown",
   "metadata": {},
   "source": [
    "In this section, we will answer the following questions -\n",
    "* When do people start buying?\n",
    "* How many orders do they make during a given period of time?\n",
    "* What is the average purchase size?\n",
    "* How much money do they bring? "
   ]
  },
  {
   "cell_type": "markdown",
   "metadata": {},
   "source": [
    "#### When do people start buying? "
   ]
  },
  {
   "cell_type": "markdown",
   "metadata": {},
   "source": [
    "To answer this question, we will:\n",
    "* Find the first date from the order dataFrame grouping it by the user id and renaming this list as `first_order_date`. \n",
    "* Join the new list to the `orders` table on thr user id.\n",
    "* Join the first vist date to the first order date list to a new table named `conversion_order`.\n",
    "* Test for missing values. If there is missing values, check the percentage of the missing values. If the percentage is smaller than 10%, drop those raws.\n",
    "* Check how many raw there are with an order date smaller than the visit date. If the percenatage is smaller than 10%, then drop those raws. \n",
    "* Creat a new column in the `conversion_oreder` named `conversion_days` by substracting the first order date from the first visit date and round those date.\n",
    "* Add device and source id information to the `conversion_order` table.\n",
    "* To a new tables named `general_conversion`, `device_conversion` and `source_conversion`, count the unique user id by the conversion date.Check for upper outliers and drop them if needed. The final table represent as a linar distribution.\n"
   ]
  },
  {
   "cell_type": "code",
   "execution_count": null,
   "metadata": {},
   "outputs": [],
   "source": [
    "first_order_dates = orders.groupby('uid')['buy_ts'].min().reset_index()\n",
    "first_order_dates.columns = ['uid','first_order_date']\n",
    "conversion_order=pd.merge(first_order_dates,visits[['uid','first_visit_date']], on='uid', how='left')\n",
    "conversion_order.head()"
   ]
  },
  {
   "cell_type": "code",
   "execution_count": null,
   "metadata": {},
   "outputs": [],
   "source": [
    "print( 'the number of missing values in the conversion_order table are:')\n",
    "print(conversion_order.isna().sum())"
   ]
  },
  {
   "cell_type": "code",
   "execution_count": null,
   "metadata": {},
   "outputs": [],
   "source": [
    "print('The percentage of missing values in the first visit date is:',\n",
    "      len(conversion_order[conversion_order['first_visit_date'].isna()])/len(conversion_order)*100)"
   ]
  },
  {
   "cell_type": "code",
   "execution_count": null,
   "metadata": {},
   "outputs": [],
   "source": [
    "conversion_order=conversion_order.drop(conversion_order[conversion_order['first_visit_date'].isna()].index)"
   ]
  },
  {
   "cell_type": "code",
   "execution_count": null,
   "metadata": {},
   "outputs": [],
   "source": [
    "print( 'the percantage of raw with smaller first order date than the first visit date is:',\n",
    "      len(conversion_order[conversion_order['first_order_date'] < conversion_order['first_visit_date']])/len(conversion_order)*100)"
   ]
  },
  {
   "cell_type": "code",
   "execution_count": null,
   "metadata": {},
   "outputs": [],
   "source": [
    "conversion_order = conversion_order.drop(conversion_order[conversion_order['first_order_date'] < conversion_order['first_visit_date']].index)\n",
    "conversion_order['conversion_days'] = (conversion_order['first_order_date'] - conversion_order['first_visit_date']) / np.timedelta64(1, 'D')\n",
    "conversion_order['conversion_days'] = conversion_order['conversion_days'].round()\n",
    "visit_info=visits[['uid','device','source_id']].drop_duplicates(subset='uid')\n",
    "conversion_order=pd.merge(conversion_order,visit_info,on='uid')\n",
    "conversion_order.head()"
   ]
  },
  {
   "cell_type": "code",
   "execution_count": null,
   "metadata": {},
   "outputs": [],
   "source": [
    "general_conversion = conversion_order.groupby('conversion_days').agg({'uid':'nunique'}).reset_index()\n",
    "\n",
    "for count in ['uid']:\n",
    "    upper_outliers=general_conversion[count].quantile(0.75)+1.5*(general_conversion[count].quantile(0.75)-general_conversion[count].quantile(0.25))\n",
    "upper_outliers\n",
    "general_conversion=general_conversion[(general_conversion['uid']>=upper_outliers)]\n",
    "plt.figure(figsize=(15,7))\n",
    "plt.title('Conversion days',size=24)\n",
    "plt.xlabel('Conversion Days', size=12)\n",
    "plt.ylabel('Unique User Count', size=12)\n",
    "sns.lineplot(data=general_conversion, x=\"conversion_days\", y=\"uid\")\n",
    "plt.show()"
   ]
  },
  {
   "cell_type": "markdown",
   "metadata": {},
   "source": [
    "In a general, it looks like most first time visiters are converts to a first time order on the same day and up to 5 days.\n",
    "\n",
    "Let's check the conversion through various devices."
   ]
  },
  {
   "cell_type": "code",
   "execution_count": null,
   "metadata": {},
   "outputs": [],
   "source": [
    "device_conversion = conversion_order.groupby(['device','conversion_days']).agg({'uid':'nunique'}).reset_index()\n",
    "for count in ['uid']:\n",
    "    upper_outliers=device_conversion[count].quantile(0.75)+1.5*(device_conversion[count].quantile(0.75)-device_conversion[count].quantile(0.25))\n",
    "upper_outliers\n",
    "device_conversion=device_conversion[(device_conversion['uid']>=upper_outliers)]\n",
    "avg_device_conversion=device_conversion.groupby('device')['conversion_days'].mean()\n",
    "ax=avg_device_conversion.plot(kind=\"bar\", figsize=(14,7), grid=True, title='Average conversion for various devices')\n",
    "ax.set_ylabel('Average number of days before conversion')\n",
    "plt.show()"
   ]
  },
  {
   "cell_type": "markdown",
   "metadata": {},
   "source": [
    "It seems that visiters from the Touch devices are converted to an order in less days than from desktop devices."
   ]
  },
  {
   "cell_type": "code",
   "execution_count": null,
   "metadata": {},
   "outputs": [],
   "source": [
    "source_conversion = conversion_order.groupby(['source_id','conversion_days']).agg({'uid':'nunique'}).reset_index()\n",
    "for count in ['uid']:\n",
    "    upper_outliers=source_conversion[count].quantile(0.75)+1.5*(source_conversion[count].quantile(0.75)-source_conversion[count].quantile(0.25))\n",
    "upper_outliers\n",
    "source_conversion=source_conversion[(source_conversion['uid']>=upper_outliers)]\n",
    "avg_source_conversion=source_conversion.groupby('source_id')['conversion_days'].mean()\n",
    "ax=avg_source_conversion.plot(kind=\"bar\", figsize=(14,7), grid=True, title='Average conversion for various ad sources')\n",
    "ax.set_ylabel('Average number of days before conversion')\n",
    "plt.show()"
   ]
  },
  {
   "cell_type": "markdown",
   "metadata": {},
   "source": [
    "It looks like that the earliest converstion source ad is the 9th and the 10th of less than 2.5 days. And the longer conversion days source ad is the 4th source ad of almost 20 days."
   ]
  },
  {
   "cell_type": "markdown",
   "metadata": {},
   "source": [
    "#### How many orders do they make during a given period of time?"
   ]
  },
  {
   "cell_type": "markdown",
   "metadata": {},
   "source": [
    "To answer this question, we will:\n",
    "* Import to the `orders` table the information of the first orders from previous step and the device ans source id for each user id.\n",
    "* Extract the `order_year`, `order_month`, `first_order_year` and `first_order_month` with the same method as we did in the visits table.\n",
    "* Creat a cohort size from the orders information (how many users per the first order month)\n",
    "* Creat a cohort table of the orders where we search the first order, the order month, number of orders, the cohort size to which the user is related, the month age of the order and how many order did the user did.\n",
    "* Creat a heat map of a pivot table for the general order number per user by the first order month and the next month age.\n",
    "* Creat a bar plot of number of orders per various device per each month.\n",
    "* Creat a bar plot of average order in a month per source ID."
   ]
  },
  {
   "cell_type": "code",
   "execution_count": null,
   "metadata": {},
   "outputs": [],
   "source": [
    "orders=orders.merge(first_order_dates, how='left',on=['uid'])\n",
    "orders = orders.merge(visit_info, on='uid', how='left')\n",
    "orders['order_year'] = orders['buy_ts'].dt.year\n",
    "orders['order_month'] = orders['buy_ts'].astype('datetime64[M]')\n",
    "orders['first_order_year'] = orders['first_order_date'].dt.year\n",
    "orders['first_order_month'] = orders['first_order_date'].astype('datetime64[M]')\n",
    "orders"
   ]
  },
  {
   "cell_type": "code",
   "execution_count": null,
   "metadata": {},
   "outputs": [],
   "source": [
    "cohort_order_sizes = orders.groupby('first_order_month').agg({'uid': 'nunique'}).reset_index()\n",
    "cohort_order_sizes.columns=['first_order_month','cohort_size']\n",
    "cohort_order_sizes.head()"
   ]
  },
  {
   "cell_type": "code",
   "execution_count": null,
   "metadata": {},
   "outputs": [],
   "source": [
    "cohort_order=orders.groupby(['first_order_month','order_month'])['revenue'].count().reset_index()\n",
    "cohort_order.columns=['first_order_month','order_month','n_orders']\n",
    "cohort_order=cohort_order.merge(cohort_order_sizes,on=['first_order_month'])\n",
    "cohort_order['age_month'] = ((cohort_order['order_month'] - cohort_order['first_order_month']) / np.timedelta64(1,'M')).round()\n",
    "cohort_order['orders_per_user']=cohort_order['n_orders']/cohort_order['cohort_size']\n",
    "cohort_order.head()"
   ]
  },
  {
   "cell_type": "code",
   "execution_count": null,
   "metadata": {},
   "outputs": [],
   "source": [
    "general_order=cohort_order.pivot_table(index='first_order_month', columns='age_month', values='orders_per_user', aggfunc='sum')\n",
    "general_order=general_order.iloc[:,0:].div(general_order[0], axis=0)\n",
    "general_order=general_order.round(2).fillna(0)\n",
    "general_order.index=general_order.index.astype(str)\n",
    "\n",
    "plt.figure(figsize=(15, 10))\n",
    "plt.title('Orders per Users', size=14)\n",
    "sns.heatmap(general_order,annot=True,fmt='.1%',linewidths=.1,linecolor='black', vmin=0, vmax=0.1)\n",
    "plt.xlabel(\"Cohort Lifetime\", size=14) \n",
    "plt.ylabel(\"Cohort Month\", size=14) \n",
    "plt.show()"
   ]
  },
  {
   "cell_type": "markdown",
   "metadata": {},
   "source": [
    "we can conclude that:\n",
    "* Each user had at least one purchase each month and it decreases each month.\n",
    "* The highest order per user were made on the Jun and Nov 2017 and Mar 2018.\n",
    "* users from Jun 2017 had retrun to make an order after 3,4 and 6 months later."
   ]
  },
  {
   "cell_type": "code",
   "execution_count": null,
   "metadata": {},
   "outputs": [],
   "source": [
    "order_device = orders.pivot_table(index='order_month',columns='device',values='uid',aggfunc='nunique')\n",
    "ax = order_device.plot(kind=\"bar\", figsize=(14,7), grid=True, title='Number of orders per device')\n",
    "ax.set_ylabel('Number of Orders')\n",
    "ax.set_xticklabels(order_device.index.strftime('%Y-%m-%d'))\n",
    "plt.show()"
   ]
  },
  {
   "cell_type": "markdown",
   "metadata": {},
   "source": [
    "The desktop devices has a higher order number per month than the touch devices."
   ]
  },
  {
   "cell_type": "code",
   "execution_count": null,
   "metadata": {},
   "outputs": [],
   "source": [
    "order_source = orders.groupby(['source_id','order_month']).agg({'uid':'nunique'}).reset_index()\n",
    "order_source=order_source.pivot_table(index='source_id',values='uid',aggfunc='mean')\n",
    "ax = order_source.plot(kind=\"bar\", figsize=(14,7), grid=True, title='Average of orders per Source ID')\n",
    "ax.set_ylabel('Number of Orders')\n",
    "plt.show()"
   ]
  },
  {
   "cell_type": "markdown",
   "metadata": {},
   "source": [
    "The 3rd and 4th source ID have the highest average order number per month of more than 700 orders on average. "
   ]
  },
  {
   "cell_type": "markdown",
   "metadata": {},
   "source": [
    "#### What is the average purchase size?"
   ]
  },
  {
   "cell_type": "markdown",
   "metadata": {},
   "source": [
    "To answer this question, we will:\n",
    "* The average revenue in general by using `.mean()` on the `revenue` column.\n",
    "* Creat pivot tables which will show the average revenue per month and bar plot for comparasion."
   ]
  },
  {
   "cell_type": "code",
   "execution_count": null,
   "metadata": {},
   "outputs": [],
   "source": [
    "print('Average revenue size in general:', orders['revenue'].mean())"
   ]
  },
  {
   "cell_type": "code",
   "execution_count": null,
   "metadata": {},
   "outputs": [],
   "source": [
    "avg_revenue = orders.pivot_table(index='order_month', values='revenue', aggfunc='mean').round(2)\n",
    "ax = avg_revenue.plot(kind=\"bar\", figsize=(14,7), grid=True, title='Average revenue')\n",
    "ax.set_ylabel('Revenue')\n",
    "ax.set_xticklabels(avg_revenue.index.strftime('%Y-%m-%d'))\n",
    "plt.show()"
   ]
  },
  {
   "cell_type": "markdown",
   "metadata": {},
   "source": [
    "The average revenue per month is between 4-6 in all months except in 2018-6 which it lower than 4."
   ]
  },
  {
   "cell_type": "code",
   "execution_count": null,
   "metadata": {},
   "outputs": [],
   "source": [
    "avg_revenue_devices = orders.pivot_table(index='order_month', columns='device', values='revenue', aggfunc='mean').round(2)\n",
    "ax = avg_revenue_devices.plot(kind=\"bar\", figsize=(14,7), grid=True, title='Average revenue from various devices')\n",
    "ax.set_ylabel('Revenue')\n",
    "ax.set_xticklabels(avg_revenue_devices.index.strftime('%Y-%m-%d'))\n",
    "plt.show()"
   ]
  },
  {
   "cell_type": "markdown",
   "metadata": {},
   "source": [
    "As before, the desktop device has the same average revenue as in general comparaison. But thr touch device has a lower range - the average revenue per month is between 3-6."
   ]
  },
  {
   "cell_type": "code",
   "execution_count": null,
   "metadata": {},
   "outputs": [],
   "source": [
    "avg_revenue_sources = orders.pivot_table(index='source_id', values='revenue', aggfunc='mean').round(2)\n",
    "ax = avg_revenue_sources.plot(kind=\"bar\", figsize=(14,7), grid=True, title='Average revenue from various sources')\n",
    "ax.set_ylabel('Average Revenue')\n",
    "plt.show()"
   ]
  },
  {
   "cell_type": "markdown",
   "metadata": {},
   "source": [
    "In this analysis, there is a difference:\n",
    "* The average revenue rage is between 2-8. \n",
    "* The highest  average source ad is the 2nd and the lowest is the 10th.\n",
    "* There is no record for average revenue fir the 6th and 7th source ad."
   ]
  },
  {
   "cell_type": "markdown",
   "metadata": {},
   "source": [
    "#### How much money do they bring?"
   ]
  },
  {
   "cell_type": "markdown",
   "metadata": {},
   "source": [
    "To answer this question, we need first to prepare our data as followed:\n",
    "* estimating that the groth profit is equal to the revenue so the margin rate will be 1. \n",
    "* creat an income_report where we summed for each first order month and the total income for the order month and added the cohort size on the first order month.\n",
    "* we will find the cohort age\n",
    "* Find the LTV by dividing the total monthly revenue by the cohort size and find the cumulative LTV.\n",
    "* and finaly creat an income results where we will group by first order moth and the cohort age and their total CLTV represented in a heatmap.\n"
   ]
  },
  {
   "cell_type": "code",
   "execution_count": null,
   "metadata": {},
   "outputs": [],
   "source": [
    "income= orders.groupby(['first_order_month','order_month']).agg({'revenue': 'sum'}).reset_index()\n",
    "income_report = pd.merge(cohort_order_sizes, income, on='first_order_month')\n",
    "income_report['age'] = (income_report['order_month'] - income_report['first_order_month']) / np.timedelta64(1, 'M')\n",
    "income_report['age'] = income_report['age'].round().astype('int')\n",
    "income_report['ltv'] = income_report['revenue'] / income_report['cohort_size']\n",
    "income_report['ltv_cumulative'] = income_report.groupby(['first_order_month'])['ltv'].apply(lambda x: x.cumsum())\n",
    "income_results = income_report.pivot_table(index='first_order_month', columns='age', values='ltv_cumulative', aggfunc='sum').round(3)\n",
    "income_results\n",
    "plt.figure(figsize=(15, 10))\n",
    "plt.title('Average LTV', size=14)\n",
    "sns.heatmap(income_results,annot=True,linewidths=.1,linecolor='black',yticklabels=(income_results.index.strftime('%Y-%m-%d')))\n",
    "plt.xlabel(\"Age\", size=14) \n",
    "plt.ylabel(\"First order month\", size=14) \n",
    "plt.show()"
   ]
  },
  {
   "cell_type": "markdown",
   "metadata": {},
   "source": [
    "It looks like that the LTV ratios are geting higher from each month  in every case.\n",
    "The average CLTV is the highest after 6 months especially if the first order is placed on Jun and Sep 2017."
   ]
  },
  {
   "cell_type": "markdown",
   "metadata": {},
   "source": [
    "### Marketing"
   ]
  },
  {
   "cell_type": "markdown",
   "metadata": {},
   "source": [
    "#### How much money was spent? "
   ]
  },
  {
   "cell_type": "markdown",
   "metadata": {},
   "source": [
    "We will see:\n",
    "* The overal expenses by summing all `costs` variabled in the costs table.\n",
    "* The monthly expenses \n",
    "* The total source expenses.\n",
    "* the monthly source ID expenses."
   ]
  },
  {
   "cell_type": "code",
   "execution_count": null,
   "metadata": {},
   "outputs": [],
   "source": [
    "print('Overall expenses:', costs['costs'].sum())"
   ]
  },
  {
   "cell_type": "code",
   "execution_count": null,
   "metadata": {},
   "outputs": [],
   "source": [
    "costs['month'] = costs['dt'].astype('datetime64[M]')\n",
    "monthly_costs = costs.pivot_table(index='month',values='costs',aggfunc='sum')\n",
    "ax = monthly_costs.plot(kind=\"bar\", figsize=(14,7), grid=True, title='Monthly costs')\n",
    "ax.set_ylabel('Costs')\n",
    "ax.set_xticklabels(monthly_costs.index.strftime('%Y-%m-%d'))\n",
    "plt.show()"
   ]
  },
  {
   "cell_type": "markdown",
   "metadata": {},
   "source": [
    "The highest cost where been done between 2017-10 until 2018-03. there are no record for cost at 2018-06."
   ]
  },
  {
   "cell_type": "code",
   "execution_count": null,
   "metadata": {},
   "outputs": [],
   "source": [
    "source_cost=costs.groupby('source_id')['costs'].sum().reset_index()\n",
    "fig = px.bar(source_cost, x=\"source_id\", y=\"costs\",title='total source cost')\n",
    "fig.show()"
   ]
  },
  {
   "cell_type": "markdown",
   "metadata": {},
   "source": [
    "The 3rd source ID is the most expensive source while the 6th, 7th and the 8th is lowest."
   ]
  },
  {
   "cell_type": "code",
   "execution_count": null,
   "metadata": {},
   "outputs": [],
   "source": [
    "monthly_source_cost=costs.groupby(['source_id','month'])['costs'].sum().reset_index()\n",
    "monthly_source_cost\n",
    "fig = px.line(monthly_source_cost, x=\"month\", y=\"costs\",color='source_id',title='mothly source cost')\n",
    "fig.show()"
   ]
  },
  {
   "cell_type": "markdown",
   "metadata": {},
   "source": [
    "As before, we can see that the 3rd source ad has the most costs. While no costs where been done on the 6th,7th and 8th source ad."
   ]
  },
  {
   "cell_type": "markdown",
   "metadata": {},
   "source": [
    "#### How much did customer acquisition from each of the sources cost?"
   ]
  },
  {
   "cell_type": "markdown",
   "metadata": {},
   "source": [
    "To find the CAC, we will:\n",
    "* merge the result of the monthly cost and the cohort size of the orders on the month of hte cost and the first order month to a new table `CAC_per_month`.\n",
    "* calculate the `CAC` column by deviding the costs by the cohort size and represent it in a linear graph.\n",
    "\n",
    "Then we will do the same for the source ID by:\n",
    "* finding the first source add used at the first order.\n",
    "* counting the number of user ID for each source ID and their first order month\n",
    "* merging it to the monthly source cost and as previously finidng and representing the CAC."
   ]
  },
  {
   "cell_type": "code",
   "execution_count": null,
   "metadata": {},
   "outputs": [],
   "source": [
    "monthly_costs=monthly_costs.reset_index()\n",
    "CAC_per_month=monthly_costs.merge(cohort_order_sizes,how='left',left_on='month',right_on='first_order_month')\n",
    "CAC_per_month['CAC']=CAC_per_month['costs']/CAC_per_month['cohort_size']\n",
    "print('The average CAC is:',CAC_per_month['CAC'].mean())\n",
    "fig = px.line(CAC_per_month, x=\"month\", y=\"CAC\", title='CAC')\n",
    "fig.show()"
   ]
  },
  {
   "cell_type": "markdown",
   "metadata": {},
   "source": [
    "The highest CAC was in Aug 2017 and the lowest was in Oct 2017."
   ]
  },
  {
   "cell_type": "code",
   "execution_count": null,
   "metadata": {},
   "outputs": [],
   "source": [
    "first_source=visits.sort_values(by='start_ts').groupby('uid')['source_id'].first().reset_index()\n",
    "first_source.columns=['uid','first_source_id']\n",
    "orders=orders.merge(first_source,on='uid',how='left')\n",
    "monthly_order_source=orders.groupby(['first_source_id','first_order_month']).agg({'uid':'nunique'}).reset_index()\n",
    "monthly_order_source.columns=['source_id','month','n_users']\n",
    "monthly_cost_source=costs.groupby(['source_id','month'])['costs'].sum().reset_index()\n",
    "monthly_CAC_source= monthly_order_source.merge(monthly_cost_source,right_on=['source_id','month'],left_on=['source_id','month'],how='left')\n",
    "monthly_CAC_source['CAC']=monthly_CAC_source['costs']/monthly_CAC_source['n_users']\n",
    "fig = px.line(monthly_CAC_source, x=\"month\", y=\"CAC\",color='source_id',title='CAC')\n",
    "fig.show()"
   ]
  },
  {
   "cell_type": "markdown",
   "metadata": {},
   "source": [
    "the highest CAC is for the 3rd source ad and the lowest CAC is for the 9th source ID."
   ]
  },
  {
   "cell_type": "markdown",
   "metadata": {},
   "source": [
    "#### How worthwhile where the investments?"
   ]
  },
  {
   "cell_type": "markdown",
   "metadata": {},
   "source": [
    "To find the ROMI, we will:\n",
    "* merge the results of the income report with the monthly CAC on the first order month\n",
    "* devide the LTV by CAC\n",
    "* creat a pivot table of the first order month and the age of the cohort size anf their average ROI.\n",
    "* represent it in a heatmap.\n",
    "\n",
    "we will do the same for thr ROI per source."
   ]
  },
  {
   "cell_type": "code",
   "execution_count": null,
   "metadata": {},
   "outputs": [],
   "source": [
    "roi_report=income_report.merge(CAC_per_month[['first_order_month','CAC']],how='left',on='first_order_month')\n",
    "roi_report['ROI']=roi_report['ltv']/roi_report['CAC']\n",
    "roi_results=roi_report.pivot_table(index='first_order_month',columns='age',values='ROI',aggfunc='mean').cumsum(axis=1).round(2)\n",
    "roi_results.index=roi_results.index.astype(str)\n",
    "plt.figure(figsize=(15, 10))\n",
    "plt.title('Average LTV', size=14)\n",
    "sns.heatmap(roi_results, annot=True, fmt='.2f', linewidths=1, linecolor='grey').set(title ='ROI per cohort')\n",
    "plt.xlabel(\"Age\", size=14) \n",
    "plt.ylabel(\"First order month\", size=14) \n",
    "plt.show()\n"
   ]
  },
  {
   "cell_type": "markdown",
   "metadata": {},
   "source": [
    "We see that:\n",
    "* in Jun 2017 the ROI is higher than 1 after 6 month.\n",
    "* in Sep 2017 the ROi is higher thab 1 after 3 month.\n",
    "* in over months, the ROI is still lower than 1."
   ]
  },
  {
   "cell_type": "code",
   "execution_count": null,
   "metadata": {},
   "outputs": [],
   "source": [
    "ltv_source=orders.groupby('source_id')['uid','revenue'].agg({'uid':'nunique','revenue':'sum'}).reset_index()\n",
    "ltv_source['ltv']=ltv_source['revenue']/ltv_source['uid']\n",
    "roi_source=monthly_CAC_source.merge(ltv_source,on='source_id')\n",
    "roi_source['cac']=roi_source['costs']/roi_source['uid']\n",
    "roi_source['ROI']=roi_source['ltv']/roi_source['cac']\n",
    "fig = px.bar(roi_source, x='source_id', y='ROI')\n",
    "fig.show()"
   ]
  },
  {
   "cell_type": "markdown",
   "metadata": {},
   "source": [
    "The highest ROI is the 1st dource ad, then the 2nd and then the 9th.\n",
    "The other source ads didn't paid off. "
   ]
  },
  {
   "cell_type": "markdown",
   "metadata": {},
   "source": [
    "## Conclusions"
   ]
  },
  {
   "cell_type": "markdown",
   "metadata": {},
   "source": [
    "To answer this report we had to :\n",
    "* use an optimized methos to upload of the data where all date values where upload automaticly as datetime values.\n",
    "* replace the column name into lowercase letters.\n",
    "\n",
    "For the product, we found that:\n",
    "* Usage -\n",
    "    * The gerenal user activity is 907 daily, 5621 weekly and 23228 monthly.\n",
    "    * The device user acitivity for destop is - daily 330, weekly 2069 an monthly 8362; and for touch is - daily 126, weekly 819 and monthly 3412.\n",
    "    * 4th and 3rd sourceID has the highest user activity with over 200 daily, 1500 weekly and 6000 monthly.\n",
    "    * The general sticky factor is -  weekly 16% and monthly 3%. \n",
    "        The device sticky factor is:\n",
    "        * desktop - weekly 16% and monthly 3.9%\n",
    "        * touch - weekly 15% and monthly 3.7\n",
    "    * Untill to Oct 2017, user activity is low. Between Oct 2017 and Apr 2018, the user activity is the highes, especiaelly in Dec 2018. From Apr 2018, the user activity is low again.\n",
    "    * Most products where viewed by desktop devices than by touch devices. \n",
    "    * The general average sessions per day is 987 and the average daily sessions per user is 1.08. \n",
    "* Sessions - \n",
    "    * The average session per day and per device is 600 for desktop and 200 for touch and the per user is 1 for both.\n",
    "    * the highest session per day for source ad is fron the 4th and 3rd source ID with over 200. All source ID had 1 session per user.\n",
    "    * The average session length is 60 seconds, the same for various devices and variuos sourceID  exept for the 6th and 7th sourceID which are 180 seconds.\n",
    "* Retention - \n",
    "    * The general retention rate is less than 7%.\n",
    "    * The retention rate for desktop is less than 6% and for touch is less than 5%.\n",
    "    * The highest retention rate for sourceID is the 9th source ID with 14.6%,then 2nd sourceID with 14% and the 1st source ID with 12%. (We have strange behavior in the 6th and 7th sourceID - missing age in cohort size. It looks like users did not visit the site through those sourceID).\n",
    "\n",
    "From the Sales, we found out:\n",
    "* Conversion\n",
    "    * Most users made an order on the same day or within 5 days since their first visit to the site. \n",
    "    * Users that used touch devices made an order within less days than desktop devices.\n",
    "    * The shortest conversion are made on the 9th and 10th sourceID with less than 3 days.\n",
    "* Number of purchases -\n",
    "    * Each user had at least one purchase each month and it decreases each month. The highest order per user were made on the Jun and Nov 2017 and Mar 2018. Users from Jun 2017 had retrun to make an order after 3,4 and 6 months later.\n",
    "    * Users from desktop devices have higher orders number than touch devices.\n",
    "    * Users from 4th and 3rd sourceID have the highest of order number.\n",
    "* Purchade size -\n",
    "    * The average revenue size in general is 5.\n",
    "    * User fron desktop devices have hogher purchase size than touch device.\n",
    "    * The 2nd sourceID has the highest averaqge purchage size of 8.\n",
    "* LTV - LTV ratios are geting higher from each month in every case. The average CLTV is the highest after 6 months especially if the first order is placed on Jun and Sep 2017.\n",
    "\n",
    "From marketing, we found out:\n",
    "* The overall expences are 329131.62. \n",
    "* most expences where on preholiday sessions between Sep and Dec.\n",
    "* Most expenced source are the 3rd sourceID.\n",
    "* The average CAC is 9. The highest CAC was in Aug 2017. The highest CAC is for the 3rd sourceID and the lowest CAC is for the 9th sourceID.\n",
    "* ROI - in Jun 2017 the ROI is higher than 1 after 6 month and in Sep 2017 the ROi is higher thab 1 after 3 month. The sourceID with the highest ROI are 1st, 2nd and 9th.\n",
    "\n",
    "\n",
    "We recommand:\n",
    "* Selling the product especially on preholiday sessions like form Sep until mid Dec due to indoor acitivity requests.\n",
    "* increase session per user by 1+1 d\n",
    "* increase retention rate by promoting discounts for website members.\n",
    "* Promote earlier converson rate. \n",
    "* investing on the destop devices, especialy off session on the 1st and 2nd source ad to increase the profitabilty of investments. "
   ]
  }
 ],
 "metadata": {
  "kernelspec": {
   "display_name": "Python 3 (ipykernel)",
   "language": "python",
   "name": "python3"
  },
  "language_info": {
   "codemirror_mode": {
    "name": "ipython",
    "version": 3
   },
   "file_extension": ".py",
   "mimetype": "text/x-python",
   "name": "python",
   "nbconvert_exporter": "python",
   "pygments_lexer": "ipython3",
   "version": "3.9.5"
  },
  "toc": {
   "base_numbering": 1,
   "nav_menu": {},
   "number_sections": true,
   "sideBar": true,
   "skip_h1_title": true,
   "title_cell": "Table of Contents",
   "title_sidebar": "Contents",
   "toc_cell": false,
   "toc_position": {
    "height": "calc(100% - 180px)",
    "left": "10px",
    "top": "150px",
    "width": "281.25px"
   },
   "toc_section_display": true,
   "toc_window_display": false
  }
 },
 "nbformat": 4,
 "nbformat_minor": 2
}
