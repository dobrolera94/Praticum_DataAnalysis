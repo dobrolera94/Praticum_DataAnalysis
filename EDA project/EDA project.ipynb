{
 "cells": [
  {
   "cell_type": "markdown",
   "metadata": {},
   "source": [
    "# Project description\n",
    "\n",
    "You're an analyst at Crankshaft List. Hundreds of free advertisements for used vehicles are published on your site every day. You need to study data collected over the last few years and determine which factors influence the price of a vehicle.\n",
    "Instructions for completing the project\n",
    "\n",
    "## Step 1. Open the data file and study the general information\n",
    "File path: /datasets/vehicles_us.csv. Download dataset\n",
    "\n",
    "## Step 2. Data preprocessing\n",
    "*  Identify and study missing values:\n",
    "    * In some cases there's an obvious way to replace missing values. For instance, if a Boolean field contains only True values, it's reasonable to assume that the missing values are False. There aren't such obvious fixes for other data types, and there are cases when the fact that a value is missing is significant. In such instances, don't fill in the values.\n",
    "    * When appropriate, do fill in the values. Explain why you chose to do so and how you selected the replacement values.\n",
    "    * Describe the factors that may have resulted in missing values.\n",
    "\n",
    "* Convert the data to the required types:\n",
    "Indicate the columns where the data types need to be changed and explain why.\n",
    "\n",
    "## Step 3. Calculate and add to the table the following:\n",
    "* Day of the week, month, and year the ad was placed\n",
    "* The vehicle's age (in years) when the ad was placed\n",
    "* The vehicle's average mileage per year\n",
    "\n",
    "In the condition column, replace string values with a numeric scale:\n",
    "* new = 5\n",
    "* like new = 4\n",
    "* excellent = 3\n",
    "* good = 2\n",
    "* fair = 1\n",
    "* salvage = 0\n",
    "\n",
    "\n",
    "## Step 4. Carry out exploratory data analysis, following the instructions below:\n",
    "* Study the following parameters: price, vehicle's age when the ad was placed, mileage, number of cylinders, and condition. Plot histograms for each of these parameters. Study how outliers affect the form and readability of the histograms.\n",
    "* Determine the upper limits of outliers, remove the outliers and store them in a separate DataFrame, and continue your work with the filtered data.\n",
    "* Use the filtered data to plot new histograms. Compare them with the earlier histograms (the ones that included outliers). Draw conclusions for each histogram.\n",
    "* Study how many days advertisements were displayed (days_listed). Plot a histogram. Calculate the mean and median. Describe the typical lifetime of an ad. Determine when ads were removed quickly, and when they were listed for an abnormally long time.\n",
    "* Analyze the number of ads and the average price for each type of vehicle. Plot a graph showing the dependence of the number of ads on the vehicle type. Select the two types with the greatest number of ads.\n",
    "* What factors impact the price most? Take each of the popular types you detected at the previous stage and study whether the price depends on age, mileage, condition, transmission type, and color. For categorical variables (transmission type and color), plot box-and-whisker charts, and create scatterplots for the rest. When analyzing categorical variables, note that the categories must have at least 50 ads; otherwise, their parameters won't be valid for analysis.\n",
    "\n",
    "## Step 5. Write an overall conclusion\n",
    "Format: Complete the task in a Jupyter notebook. Put your code in the code cells and your text explanations in markdown cells, then apply formatting and headings.\n",
    "\n",
    "\n",
    "## Description of the data\n",
    "The dataset contains the following fields:\n",
    "* price\n",
    "* model_year\n",
    "* model\n",
    "* condition\n",
    "* cylinders\n",
    "* fuel — gas, diesel, etc.\n",
    "* odometer — the vehicle's mileage when the ad was published\n",
    "* transmission\n",
    "* paint_color\n",
    "* is_4wd — whether the vehicle has 4-wheel drive (Boolean type)\n",
    "* date_posted — the date the ad was published\n",
    "* days_listed — from publication to removal\n"
   ]
  },
  {
   "cell_type": "markdown",
   "metadata": {},
   "source": [
    "## Initialization"
   ]
  },
  {
   "cell_type": "markdown",
   "metadata": {},
   "source": [
    "Let's import all relevant libraries"
   ]
  },
  {
   "cell_type": "code",
   "execution_count": null,
   "metadata": {},
   "outputs": [],
   "source": [
    "# Loading all the libraries\n",
    "import pandas as pd\n",
    "import matplotlib.pyplot as plt\n",
    "import seaborn as sns\n"
   ]
  },
  {
   "cell_type": "markdown",
   "metadata": {},
   "source": [
    "### Load data"
   ]
  },
  {
   "cell_type": "markdown",
   "metadata": {},
   "source": [
    "Now, let's load our data and look at the general information."
   ]
  },
  {
   "cell_type": "code",
   "execution_count": null,
   "metadata": {},
   "outputs": [],
   "source": [
    "# Load the data file into a DataFrame\n",
    "vehicles_us=pd.read_csv('/datasets/vehicles_us.csv')\n"
   ]
  },
  {
   "cell_type": "markdown",
   "metadata": {},
   "source": [
    "### Explore initial data"
   ]
  },
  {
   "cell_type": "markdown",
   "metadata": {},
   "source": [
    "The dataset contains the following fields:\n",
    "- `price`\n",
    "- `model_year`\n",
    "- `model`\n",
    "- `condition`\n",
    "- `cylinders`\n",
    "- `fuel` — gas, diesel, etc.\n",
    "- `odometer` — the vehicle's mileage when the ad was published\n",
    "- `transmission`\n",
    "- `paint_color`\n",
    "- `is_4wd` — whether the vehicle has 4-wheel drive (Boolean type)\n",
    "- `date_posted` — the date the ad was published\n",
    "- `days_listed` — from publication to removal\n",
    "\n"
   ]
  },
  {
   "cell_type": "code",
   "execution_count": null,
   "metadata": {},
   "outputs": [],
   "source": [
    "# print the general/summary information about the DataFrame\n",
    "vehicles_us.info()\n"
   ]
  },
  {
   "cell_type": "code",
   "execution_count": null,
   "metadata": {},
   "outputs": [],
   "source": [
    "# print a sample of data\n",
    "vehicles_us.head(10)\n"
   ]
  },
  {
   "cell_type": "markdown",
   "metadata": {},
   "source": [
    "The data contains 51525 rows and 12 columns."
   ]
  },
  {
   "cell_type": "markdown",
   "metadata": {},
   "source": [
    "The values in `date posted` are object type values when they should be a date time type. "
   ]
  },
  {
   "cell_type": "markdown",
   "metadata": {},
   "source": [
    "We have missing values in several columns - `model_year`, `cylinders`, `odometer`, `paint_color` and `is_4wd`. The last one contains the most number of missing values."
   ]
  },
  {
   "cell_type": "markdown",
   "metadata": {},
   "source": [
    "### Conclusions and further steps\n"
   ]
  },
  {
   "cell_type": "markdown",
   "metadata": {},
   "source": [
    "We will fill missing values in `model_year`, `cylinders` and `odometer` according to the most common value to each model type. For `paint_color`, we will fill with `unknown` and for `is_4wd`, we will change the missimg value with 0 because the data type is Boolean type. That means that if the value is 1, it is true and if it is missing than it is 0 - False."
   ]
  },
  {
   "cell_type": "markdown",
   "metadata": {},
   "source": [
    "## Treat missing values (if any)"
   ]
  },
  {
   "cell_type": "markdown",
   "metadata": {},
   "source": [
    "\n",
    "We will check all missing values that we can treat."
   ]
  },
  {
   "cell_type": "code",
   "execution_count": null,
   "metadata": {
    "scrolled": true
   },
   "outputs": [],
   "source": [
    "vehicles_us.isna().sum()"
   ]
  },
  {
   "cell_type": "markdown",
   "metadata": {},
   "source": [
    "First, we will start filling the missing values int he `model_year` column. It is logocal to fill them accorging to the model type. But with what value should we choose - mean, median or the most common value?\n",
    "Let's see the disctribution of those values.\n"
   ]
  },
  {
   "cell_type": "code",
   "execution_count": null,
   "metadata": {},
   "outputs": [],
   "source": [
    "vehicles_us['model_year'].describe()"
   ]
  },
  {
   "cell_type": "markdown",
   "metadata": {},
   "source": [
    "From the description, we see that up to 25% of all values, it is between `1908`-`2007`, a 100 year-old gape while between 25% to maximun value, it is spread between `2007`-`2019`. The discrituation is not symetricall but is skewed. Therefore, we cannot use the mean values but with the median or the most common values. Let's try to replace it with thhe most common value grouping it by the model type using `.mode()`.\n"
   ]
  },
  {
   "cell_type": "code",
   "execution_count": null,
   "metadata": {},
   "outputs": [],
   "source": [
    "vehicles_us['model_year']=vehicles_us.groupby('model')['model_year'].transform(lambda grp: grp.fillna(grp.mode().max()))\n"
   ]
  },
  {
   "cell_type": "code",
   "execution_count": null,
   "metadata": {},
   "outputs": [],
   "source": [
    "vehicles_us['model_year'].isna().sum()"
   ]
  },
  {
   "cell_type": "markdown",
   "metadata": {},
   "source": [
    "Let's try applying the same logic to the `cylinders` column."
   ]
  },
  {
   "cell_type": "code",
   "execution_count": null,
   "metadata": {},
   "outputs": [],
   "source": [
    "vehicles_us['cylinders'].describe()"
   ]
  },
  {
   "cell_type": "markdown",
   "metadata": {},
   "source": [
    "In this case, we cannot determine what is the detribution by using `.describe()`. Lets try with `.value_counts()`.\n"
   ]
  },
  {
   "cell_type": "code",
   "execution_count": null,
   "metadata": {},
   "outputs": [],
   "source": [
    "vehicles_us['cylinders'].value_counts()"
   ]
  },
  {
   "cell_type": "markdown",
   "metadata": {},
   "source": [
    "According to this destribution, the counts of values of `cylinders` starts with:\n",
    "* low when it is equal to `3.0`\n",
    "* then goes up if it is equal to `4.0`\n",
    "* goes down if it is equal to `5.0`\n",
    "* goes up if it is equal to `6.0` and `8.0`\n",
    "* and finaly goes down if it is equal to `10.0` and `12.0`.\n",
    " \n",
    "Therefore, we will be using this time the median value of cylinder according to tho `model`  using `.groupby()` and `.median()`.\n"
   ]
  },
  {
   "cell_type": "code",
   "execution_count": null,
   "metadata": {},
   "outputs": [],
   "source": [
    "vehicles_us['cylinders']=vehicles_us['cylinders'].fillna(vehicles_us.groupby('model')['cylinders'].transform('median'))"
   ]
  },
  {
   "cell_type": "code",
   "execution_count": null,
   "metadata": {},
   "outputs": [],
   "source": [
    "vehicles_us['cylinders'].isna().sum()"
   ]
  },
  {
   "cell_type": "code",
   "execution_count": null,
   "metadata": {},
   "outputs": [],
   "source": [
    "vehicles_us['cylinders'].value_counts()"
   ]
  },
  {
   "cell_type": "markdown",
   "metadata": {},
   "source": [
    "Now, let's try applying the same logic to the `odometer` column."
   ]
  },
  {
   "cell_type": "code",
   "execution_count": null,
   "metadata": {},
   "outputs": [],
   "source": [
    "vehicles_us['odometer'].describe()"
   ]
  },
  {
   "cell_type": "markdown",
   "metadata": {},
   "source": [
    "From the description, we see that:\n",
    "* up to 25% of all values, it is between `0`-`70000`\n",
    "* between 25% to 75%, the values are distributed between `70000`-`15500`.\n",
    "* and from 75% to maximun value, they are distrinuted between `15500`-`99000`.\n",
    "\n",
    "The discrituation is not symetricall but is right skewed. Therefore, we cannot use the mean values but with the median values grouping the values according to the `model` and `condition`. Choosing the condition as one of the characteristic is due to the fact that if the model is in as new, the value if the odometer should be low as well as for a model who is in bad condition who should have a high value of odometer.\n"
   ]
  },
  {
   "cell_type": "code",
   "execution_count": null,
   "metadata": {},
   "outputs": [],
   "source": [
    "vehicles_us['odometer']=vehicles_us['odometer'].fillna(vehicles_us.groupby('model_year')['odometer'].transform('median'))\n"
   ]
  },
  {
   "cell_type": "code",
   "execution_count": null,
   "metadata": {},
   "outputs": [],
   "source": [
    "vehicles_us['odometer'].isna().sum()"
   ]
  },
  {
   "cell_type": "code",
   "execution_count": null,
   "metadata": {},
   "outputs": [],
   "source": [
    "vehicles_us[vehicles_us['odometer'].isna()]"
   ]
  },
  {
   "cell_type": "code",
   "execution_count": null,
   "metadata": {},
   "outputs": [],
   "source": [
    "vehicles_us.query('model_year<=1940')"
   ]
  },
  {
   "cell_type": "markdown",
   "metadata": {},
   "source": [
    "We have no information for `odometer` values for `model_year` 1929 and the difference between the `odometer` values for models produced between 1908 to 1936 is bigger 5 times. Therefore, we will decide to drop this row. "
   ]
  },
  {
   "cell_type": "code",
   "execution_count": null,
   "metadata": {},
   "outputs": [],
   "source": [
    "vehicles_us=vehicles_us.dropna(subset=['odometer'])"
   ]
  },
  {
   "cell_type": "code",
   "execution_count": null,
   "metadata": {},
   "outputs": [],
   "source": [
    "vehicles_us['odometer'].isna().sum()"
   ]
  },
  {
   "cell_type": "markdown",
   "metadata": {},
   "source": [
    "Now let's check the `paint_color` column."
   ]
  },
  {
   "cell_type": "code",
   "execution_count": null,
   "metadata": {},
   "outputs": [],
   "source": [
    "vehicles_us['paint_color'].unique()"
   ]
  },
  {
   "cell_type": "markdown",
   "metadata": {},
   "source": [
    "We cannot know according to which categoried to fill it. Therefor, we will replace the missing values in `unknown`.\n"
   ]
  },
  {
   "cell_type": "code",
   "execution_count": null,
   "metadata": {},
   "outputs": [],
   "source": [
    "vehicles_us['paint_color']=vehicles_us['paint_color'].fillna('unknown')"
   ]
  },
  {
   "cell_type": "code",
   "execution_count": null,
   "metadata": {},
   "outputs": [],
   "source": [
    "vehicles_us['paint_color'].isna().sum()"
   ]
  },
  {
   "cell_type": "markdown",
   "metadata": {},
   "source": [
    "Finelly, let's check the `is_4wd` column. It looks like it have the most high missing values. "
   ]
  },
  {
   "cell_type": "code",
   "execution_count": null,
   "metadata": {},
   "outputs": [],
   "source": [
    "\"{0:.0%}\".format(len(vehicles_us[vehicles_us['is_4wd'].isna()])/len(vehicles_us))"
   ]
  },
  {
   "cell_type": "code",
   "execution_count": null,
   "metadata": {},
   "outputs": [],
   "source": [
    "vehicles_us['is_4wd'].unique()"
   ]
  },
  {
   "cell_type": "markdown",
   "metadata": {},
   "source": [
    "It looks like 50% of the values in the `is_4wd` is missing. But, in the project description, it is written that the value type in this column is Boolean. That mean if the value is `1.0` than it is True that the model car has a 4wd. If it is False than the model type has no 4wd. Therefore, we can conclude that the missing values inthis column represent the False value and we will replace it with `0.0`.\n"
   ]
  },
  {
   "cell_type": "code",
   "execution_count": null,
   "metadata": {},
   "outputs": [],
   "source": [
    "vehicles_us['is_4wd']=vehicles_us['is_4wd'].fillna(0)"
   ]
  },
  {
   "cell_type": "code",
   "execution_count": null,
   "metadata": {},
   "outputs": [],
   "source": [
    "vehicles_us['is_4wd'].unique()"
   ]
  },
  {
   "cell_type": "code",
   "execution_count": null,
   "metadata": {
    "scrolled": true
   },
   "outputs": [],
   "source": [
    "vehicles_us.isna().sum()"
   ]
  },
  {
   "cell_type": "markdown",
   "metadata": {},
   "source": [
    "## Fix data types"
   ]
  },
  {
   "cell_type": "markdown",
   "metadata": {},
   "source": [
    "\n",
    "Let's check again the data type for each column using `.info()`"
   ]
  },
  {
   "cell_type": "code",
   "execution_count": null,
   "metadata": {},
   "outputs": [],
   "source": [
    "vehicles_us.info()\n"
   ]
  },
  {
   "cell_type": "markdown",
   "metadata": {},
   "source": [
    "We have an issue the `days_posted`coulmn - it is an object and should a dateframe.\n",
    "So our next steps will be replacing the `date_posted` to a dateFrame usind `.to_datetime()` function.\n"
   ]
  },
  {
   "cell_type": "code",
   "execution_count": null,
   "metadata": {},
   "outputs": [],
   "source": [
    "vehicles_us['date_posted'][0]"
   ]
  },
  {
   "cell_type": "code",
   "execution_count": null,
   "metadata": {},
   "outputs": [],
   "source": [
    "vehicles_us['date_posted']=pd.to_datetime(vehicles_us['date_posted'],format='%Y-%m-%d')"
   ]
  },
  {
   "cell_type": "code",
   "execution_count": null,
   "metadata": {},
   "outputs": [],
   "source": [
    "vehicles_us.info()"
   ]
  },
  {
   "cell_type": "markdown",
   "metadata": {},
   "source": [
    "## Enrich data"
   ]
  },
  {
   "cell_type": "markdown",
   "metadata": {},
   "source": [
    "\n",
    "Now we will add new columns to the data:\n",
    "* using `dt.weekday` for day of the week that the ad was placed in the new column `day_of_the_week`\n",
    "* using `dt.month` The month that the ad was placed in the new column `month_posted`\n",
    "* using `dt.year` The year that ad was placed.in the new column `year_posted`\n",
    "* The vehicle's age (in years) when the ad was placed in the new column `vehicle_age`(substraction of the `model_year` from `year_posted`.\n",
    "* The vehicle's average mileage per yearin the new column `avg_mils_per_year`(dividing the `odometer` by the `vehicle_age`)."
   ]
  },
  {
   "cell_type": "code",
   "execution_count": null,
   "metadata": {},
   "outputs": [],
   "source": [
    "# Add datetime values for when the ad was placed\n",
    "vehicles_us['day_of_the_week']=vehicles_us['date_posted'].dt.weekday\n",
    "vehicles_us['month_posted']=vehicles_us['date_posted'].dt.month\n",
    "vehicles_us['year_posted']=vehicles_us['date_posted'].dt.year\n",
    "vehicles_us.head(5)"
   ]
  },
  {
   "cell_type": "code",
   "execution_count": null,
   "metadata": {
    "scrolled": true
   },
   "outputs": [],
   "source": [
    "# Add the vehicle's age when the ad was placed\n",
    "vehicles_us['vehicle_age']=vehicles_us['year_posted']-vehicles_us['model_year']+1\n",
    "vehicles_us['vehicle_age'].sort_values().unique()"
   ]
  },
  {
   "cell_type": "markdown",
   "metadata": {},
   "source": [
    "To avoid a division by age equal to 0, we add +1 to the calculation of the `vehicle_age`."
   ]
  },
  {
   "cell_type": "code",
   "execution_count": null,
   "metadata": {},
   "outputs": [],
   "source": [
    "# Add the vehicle's average mileage per year\n",
    "vehicles_us['avg_mils_per_year']=vehicles_us['odometer']/vehicles_us['vehicle_age']"
   ]
  },
  {
   "cell_type": "code",
   "execution_count": null,
   "metadata": {},
   "outputs": [],
   "source": [
    "vehicles_us['avg_mils_per_year'].unique()"
   ]
  },
  {
   "cell_type": "markdown",
   "metadata": {},
   "source": [
    "Finaly, let's simplify the `condition` column by creating a dictionay `condition_change` of condition values as keys and their values as following:\n",
    "* new = 5\n",
    "* like new = 4\n",
    "* excellent = 3\n",
    "* good = 2\n",
    "* fair = 1\n",
    "* salvage = 0\n",
    "\n",
    "And then changing the values in the `condition` column by the values in dictionary using `.map()` method."
   ]
  },
  {
   "cell_type": "code",
   "execution_count": null,
   "metadata": {},
   "outputs": [],
   "source": [
    "# It might help to replace the condition values with something that can be manipulated more easily\n",
    "condition_change={\n",
    "    'new':5,\n",
    "    'like new' : 4,\n",
    "    'excellent' : 3,\n",
    "    'good' : 2,\n",
    "    'fair' : 1,\n",
    "    'salvage' : 0,\n",
    "}\n"
   ]
  },
  {
   "cell_type": "code",
   "execution_count": null,
   "metadata": {},
   "outputs": [],
   "source": [
    "vehicles_us['condition']=vehicles_us['condition'].map(condition_change)"
   ]
  },
  {
   "cell_type": "code",
   "execution_count": null,
   "metadata": {},
   "outputs": [],
   "source": [
    "vehicles_us['condition'].value_counts()"
   ]
  },
  {
   "cell_type": "markdown",
   "metadata": {},
   "source": [
    "## Check clean data"
   ]
  },
  {
   "cell_type": "markdown",
   "metadata": {},
   "source": [
    "\n",
    "\n",
    "Let's take a look at the preprocessed data by printing the general information again with `.info()` and the 10 first rows using `.head()`.\n"
   ]
  },
  {
   "cell_type": "code",
   "execution_count": null,
   "metadata": {},
   "outputs": [],
   "source": [
    "# print the general/summary information about the DataFrame\n",
    "\n",
    "vehicles_us.info()"
   ]
  },
  {
   "cell_type": "code",
   "execution_count": null,
   "metadata": {
    "scrolled": true
   },
   "outputs": [],
   "source": [
    "# print a sample of data\n",
    "vehicles_us.head(10)\n"
   ]
  },
  {
   "cell_type": "markdown",
   "metadata": {},
   "source": [
    "## Study core parameters\n",
    "\n",
    "\n",
    "After the data ws preproccessed, let's take a quick look at the ploted histograms for the following parameters:\n",
    "*  price\n",
    "* vehicle's age\n",
    "* mileage\n",
    "* cylinders\n",
    "* condition\n",
    "\n",
    "To not repeat which representation, we will creat a function `parameter_distribution` which will be applied to each parameter and will represent the following:\n",
    "* the plot\n",
    "* of the plot is skewed\n",
    "* the discription of the parameter\n",
    "* the Q1, Q3, IQR, minumum and maximun outeliers values"
   ]
  },
  {
   "cell_type": "markdown",
   "metadata": {},
   "source": [
    "[If you find that you need to repeat the same jobs multiple times, think about what coding instrument might be helpful for such a thing to avoid duplicating your code.]"
   ]
  },
  {
   "cell_type": "code",
   "execution_count": null,
   "metadata": {},
   "outputs": [],
   "source": [
    "#import the plot library.\n",
    "\n",
    "import matplotlib.pyplot as plt\n"
   ]
  },
  {
   "cell_type": "code",
   "execution_count": null,
   "metadata": {},
   "outputs": [],
   "source": [
    "def parameter_distribution(parameter):\n",
    "    print('The histogram of: {}'.format(parameter))\n",
    "    vehicles_us[parameter].hist()\n",
    "    plt.show()\n",
    "    if vehicles_us[parameter].mean()>vehicles_us[parameter].median():\n",
    "        print('The distribution is skewed to the right')\n",
    "    else:\n",
    "        print('The distribution is skewed to the left')\n",
    "    print('---------------------------------------')\n",
    "    print('Statistics on: {}'.format(parameter))\n",
    "    print(vehicles_us[parameter].describe())\n",
    "    Q1 = vehicles_us[parameter].quantile(0.25)\n",
    "    Q3 = vehicles_us[parameter].quantile(0.75)\n",
    "    IQR = Q3 - Q1\n",
    "    min_iqr=Q1-1.5*IQR\n",
    "    max_iqr=Q3+1.5*IQR\n",
    "    print('---------------------------------------')\n",
    "    print('min border:',min_iqr)\n",
    "    print('max border:',max_iqr)\n",
    "    print('---------------------------------------')\n",
    "    if min_iqr<0:\n",
    "        print('The outliers are considered to be values above',max_iqr)\n",
    "        print('We have',len(vehicles_us[vehicles_us[parameter]>max_iqr]),\"values that we can consider outliers\")\n",
    "    else:\n",
    "        print('The outliers are considered to be values below',min_iqr, \"and above\",max_iqr)\n",
    "        print('We have',len(vehicles_us[(vehicles_us[parameter]<min_iqr)|(vehicles_us[parameter]>max_iqr)]),\"values that we can consider outliers\")\n",
    "    print()"
   ]
  },
  {
   "cell_type": "code",
   "execution_count": null,
   "metadata": {},
   "outputs": [],
   "source": [
    "#\n",
    "for parameter in ['price','vehicle_age','avg_mils_per_year','cylinders','condition']:\n",
    "    parameter_distribution(parameter)\n",
    "\n"
   ]
  },
  {
   "cell_type": "markdown",
   "metadata": {},
   "source": [
    "## Study and treat outliers\n",
    "\n",
    "\n",
    "Given the results above, we can see that we have outliers in all parameters selected. Mostley the minimun border is negative while the minimun values starts with 0 except in the `cylinders`. \n",
    "\n",
    "We will build two tables for the lower and upper borders which we will use to slic our data."
   ]
  },
  {
   "cell_type": "code",
   "execution_count": null,
   "metadata": {},
   "outputs": [],
   "source": [
    "# Determine the lower limits for outliers\n",
    "lower_outliers=[]\n",
    "for parameter in ['price','vehicle_age','avg_mils_per_year','cylinders','condition']:\n",
    "    min_iqr=vehicles_us[parameter].quantile(0.25)-1.5*(vehicles_us[parameter].quantile(0.75)-vehicles_us[parameter].quantile(0.25))\n",
    "    lower_outliers.append([parameter,min_iqr])\n"
   ]
  },
  {
   "cell_type": "code",
   "execution_count": null,
   "metadata": {},
   "outputs": [],
   "source": [
    "lower_outliers"
   ]
  },
  {
   "cell_type": "code",
   "execution_count": null,
   "metadata": {},
   "outputs": [],
   "source": [
    "lower_outliers=pd.DataFrame(lower_outliers,columns=['parameter','lower_outliers'])\n",
    "lower_outliers"
   ]
  },
  {
   "cell_type": "code",
   "execution_count": null,
   "metadata": {},
   "outputs": [],
   "source": [
    "# Determine the upper limits for outliers\n",
    "upper_outliers=[]\n",
    "for parameter in ['price','vehicle_age','avg_mils_per_year','cylinders','condition']:\n",
    "    max_iqr=vehicles_us[parameter].quantile(0.75)+1.5*(vehicles_us[parameter].quantile(0.75)-vehicles_us[parameter].quantile(0.25))\n",
    "    upper_outliers.append([parameter,max_iqr])\n"
   ]
  },
  {
   "cell_type": "code",
   "execution_count": null,
   "metadata": {},
   "outputs": [],
   "source": [
    "upper_outliers"
   ]
  },
  {
   "cell_type": "code",
   "execution_count": null,
   "metadata": {},
   "outputs": [],
   "source": [
    "upper_outliers=pd.DataFrame(upper_outliers,columns=['parameter','upper_outliers'])\n",
    "upper_outliers"
   ]
  },
  {
   "cell_type": "markdown",
   "metadata": {},
   "source": [
    "From the lower and upper outliers, we will use the following to slice our data:\n",
    "* `condition` which are not equal to 0 and lower than 4.5.\n",
    "* `price` is lower and equal to 34595.5.\n",
    "* `vehicle_age` is lower and equal to 24.\n",
    "* `avg_mils_per_year` is lower and equa to 40368\n",
    "* and `cylinders` are lower than 14."
   ]
  },
  {
   "cell_type": "code",
   "execution_count": null,
   "metadata": {
    "scrolled": true
   },
   "outputs": [],
   "source": [
    "# Store data without outliers in a separate DataFrame\n",
    "\n",
    "good_vehicle_df=vehicles_us.query('condition !=0 & price<=34597.5 & vehicle_age<=24 & avg_mils_per_year<=40368 & cylinders<=14 & condition <= 4.5')\n",
    "\n",
    "good_vehicle_df"
   ]
  },
  {
   "cell_type": "markdown",
   "metadata": {},
   "source": [
    "## Study core parameters without outliers"
   ]
  },
  {
   "cell_type": "markdown",
   "metadata": {},
   "source": [
    "\n",
    "Using the filtered data `good_vehicle_df`,  first we will compare old ploting of raw data compared to the filtered and then, we will plot separts and clear histograms with the same parameters `price`,`vehicle_age`,`avg_mils_per_year`,`cylinders` and `condition`. "
   ]
  },
  {
   "cell_type": "code",
   "execution_count": null,
   "metadata": {},
   "outputs": [],
   "source": [
    "vehicles_us['price'].hist(bins=30,figsize=(15,10))\n",
    "good_vehicle_df['price'].hist(bins=30,figsize=(15,10))\n",
    "plt.show()\n",
    "vehicles_us['vehicle_age'].hist(bins=30,figsize=(15,10))\n",
    "good_vehicle_df['vehicle_age'].hist(bins=30,figsize=(15,10))\n",
    "plt.show()\n",
    "vehicles_us['avg_mils_per_year'].hist(bins=30,figsize=(15,10))\n",
    "good_vehicle_df['avg_mils_per_year'].hist(bins=30,figsize=(15,10))\n",
    "plt.show()\n",
    "vehicles_us['cylinders'].hist(bins=30,figsize=(15,10))\n",
    "good_vehicle_df['cylinders'].hist(bins=30,figsize=(15,10))\n",
    "plt.show()\n",
    "vehicles_us['condition'].hist(bins=30,figsize=(15,10))\n",
    "good_vehicle_df['condition'].hist(bins=30,figsize=(15,10))\n"
   ]
  },
  {
   "cell_type": "code",
   "execution_count": null,
   "metadata": {},
   "outputs": [],
   "source": [
    "good_vehicle_df[['price','vehicle_age','avg_mils_per_year','cylinders','condition']].hist(bins=30,figsize=(15,10))\n"
   ]
  },
  {
   "cell_type": "markdown",
   "metadata": {},
   "source": [
    "We can conclude that:\n",
    "* We can find more cars that their price is less than 10000.\n",
    "* Most ads were place on cars that hace less than 10 year old. \n",
    "* The most commun average miles per years is betwen 10000-15000.\n",
    "* Most commun cylinder is 6, then 8 and 4.\n",
    "* moost cars are in excellent or good condition."
   ]
  },
  {
   "cell_type": "markdown",
   "metadata": {},
   "source": [
    "## Ads lifetime\n",
    "\n",
    "\n",
    "\n",
    "Now, let's chech the distibution of `days_listed` of the advertisements using the same method previously to investigate the parameters."
   ]
  },
  {
   "cell_type": "code",
   "execution_count": null,
   "metadata": {},
   "outputs": [],
   "source": [
    "good_vehicle_df['days_listed'].describe()"
   ]
  },
  {
   "cell_type": "code",
   "execution_count": null,
   "metadata": {},
   "outputs": [],
   "source": [
    "print('The histogram of: {}'.format('days_listed'))\n",
    "good_vehicle_df['days_listed'].hist()\n",
    "plt.show()\n",
    "if good_vehicle_df['days_listed'].mean()>good_vehicle_df['days_listed'].median():\n",
    "    print('The distribution is skewed to the right')\n",
    "else:\n",
    "    print('The distribution is skewed to the left')\n",
    "print('---------------------------------------')\n",
    "print('Statistics on: {}'.format(parameter))\n",
    "print(good_vehicle_df['days_listed'].describe())\n",
    "Q1 = good_vehicle_df['days_listed'].quantile(0.25)\n",
    "Q3 = good_vehicle_df['days_listed'].quantile(0.75)\n",
    "IQR = Q3 - Q1\n",
    "min_iqr=Q1-1.5*IQR\n",
    "max_iqr=Q3+1.5*IQR\n",
    "print('---------------------------------------')\n",
    "print('min border:',min_iqr)\n",
    "print('max border:',max_iqr)\n",
    "print('---------------------------------------')\n",
    "if min_iqr<0:\n",
    "    print('The outliers are considered to be values above',max_iqr)\n",
    "    print('We have',len(good_vehicle_df[good_vehicle_df['days_listed']>max_iqr]),\"values that we can consider outliers\")\n",
    "else:\n",
    "    print('The outliers are considered to be values below',min_iqr, \"and above\",max_iqr)\n",
    "    print('We have',len(good_vehicle_df[(good_vehicle_df['days_listed']<min_iqr)|(good_vehicle_df['days_listed']>max_iqr)]),\"values that we can consider outliers\")\n",
    "print()"
   ]
  },
  {
   "cell_type": "markdown",
   "metadata": {},
   "source": [
    "We can conclude that most ads were place for at least 50 days."
   ]
  },
  {
   "cell_type": "markdown",
   "metadata": {},
   "source": [
    "## Average price per each type of vehicle"
   ]
  },
  {
   "cell_type": "markdown",
   "metadata": {},
   "source": [
    "We will creat a pivot table for types with the highest number of ads and show their average price and represent it in a bar type plot."
   ]
  },
  {
   "cell_type": "code",
   "execution_count": null,
   "metadata": {},
   "outputs": [],
   "source": [
    "price_per_type=good_vehicle_df.pivot_table(index='type',values='price',aggfunc=('count','mean')).sort_values('count',ascending=False)\n",
    "price_per_type\n"
   ]
  },
  {
   "cell_type": "code",
   "execution_count": null,
   "metadata": {},
   "outputs": [],
   "source": [
    "price_per_type.plot(title='count of ads per type',kind='bar',grid=True, figsize=(15,10))"
   ]
  },
  {
   "cell_type": "markdown",
   "metadata": {},
   "source": [
    "From the table above `price_per_type`, the top two type cars that have the most advertisements are:\n",
    "* `Sedan` \n",
    "* `SUV` "
   ]
  },
  {
   "cell_type": "markdown",
   "metadata": {},
   "source": [
    "## Price factors"
   ]
  },
  {
   "cell_type": "markdown",
   "metadata": {},
   "source": [
    "\n",
    "Depending on the research made above, we will investigate fo`Ford f-150` and `Chevrolet silverado 1500` the following factors that can impact on the price:\n",
    "* age\n",
    "* mileage\n",
    "* condition\n",
    "* transmission type\n",
    "* and color.\n",
    "\n",
    "For numeric variables in `vehicle_age`, `avg_mils_per_year` and `condition`, we will plot a scatter representation and for categorical variables such as `transmission` and `paint_color`, we will represent in a box-and-whisker plot. Then investigate their coloration.\n",
    "\n",
    "Both model types have more than 50 ads***"
   ]
  },
  {
   "cell_type": "code",
   "execution_count": null,
   "metadata": {},
   "outputs": [],
   "source": [
    "sedan=good_vehicle_df.query('type==\"sedan\"')\n",
    "sedan\n"
   ]
  },
  {
   "cell_type": "code",
   "execution_count": null,
   "metadata": {},
   "outputs": [],
   "source": [
    "sedan_scatter=sedan[['price','vehicle_age','avg_mils_per_year','condition']]\n",
    "sedan_scatter"
   ]
  },
  {
   "cell_type": "code",
   "execution_count": null,
   "metadata": {},
   "outputs": [],
   "source": [
    "sns.pairplot(sedan_scatter)"
   ]
  },
  {
   "cell_type": "code",
   "execution_count": null,
   "metadata": {},
   "outputs": [],
   "source": [
    "sedan_scatter.corr()"
   ]
  },
  {
   "cell_type": "code",
   "execution_count": null,
   "metadata": {},
   "outputs": [],
   "source": [
    "plt.figure(figsize=(15,10))\n",
    "ax=sns.boxplot(x=\"transmission\", y=\"price\", data=sedan,showfliers = False)\n",
    "print(sedan['transmission'].value_counts())\n",
    "plt.show()\n",
    "plt.figure(figsize=(15,10))\n",
    "ax=sns.boxplot(x=\"paint_color\", y=\"price\", data=sedan,showfliers = False)\n",
    "print(sedan['paint_color'].value_counts())"
   ]
  },
  {
   "cell_type": "code",
   "execution_count": null,
   "metadata": {},
   "outputs": [],
   "source": [
    "suv=good_vehicle_df.query('type==\"SUV\"')\n",
    "suv"
   ]
  },
  {
   "cell_type": "code",
   "execution_count": null,
   "metadata": {},
   "outputs": [],
   "source": [
    "suv_for_scatter=suv[['price','vehicle_age','avg_mils_per_year','condition']]\n",
    "suv_for_scatter"
   ]
  },
  {
   "cell_type": "code",
   "execution_count": null,
   "metadata": {},
   "outputs": [],
   "source": [
    "sns.pairplot(suv_for_scatter)"
   ]
  },
  {
   "cell_type": "code",
   "execution_count": null,
   "metadata": {},
   "outputs": [],
   "source": [
    "suv_for_scatter.corr()\n"
   ]
  },
  {
   "cell_type": "code",
   "execution_count": null,
   "metadata": {},
   "outputs": [],
   "source": [
    "plt.figure(figsize=(15,10))\n",
    "ax=sns.boxplot(x=\"transmission\", y=\"price\", data=suv,showfliers = False)\n",
    "print(suv['transmission'].value_counts())\n",
    "plt.show()\n",
    "plt.figure(figsize=(15,10))\n",
    "ax=sns.boxplot(x=\"paint_color\", y=\"price\", data=suv,showfliers = False)\n",
    "print(suv['paint_color'].value_counts())"
   ]
  },
  {
   "cell_type": "markdown",
   "metadata": {},
   "source": [
    "## General conclusion\n",
    "\n",
    "[List your important conclusions in this final section, make sure they include those that led you to the way you processed and analyzed the data. Cover the missing values, duplicates, outliers and possible reasons and solutions for problematic artifacts that you had to address. Don't forget to remove all bracketed comments before submitting your project.]"
   ]
  },
  {
   "cell_type": "markdown",
   "metadata": {},
   "source": [
    "We filled missing values in `model_year`and `cylinders` according to the most common value to each model type. \\\n",
    "For `odometer` missing value, we replaced according to the `model_year` and droped one row that had no odometer valur for year 1929.\\\n",
    "For `paint_color`, we filled with `unknown` and for `is_4wd` changed the missimg value with 0 because the data type is Boolean type. That means that if the value is 1, it is true and if it is missing than it is 0 - False.\\\n",
    "We had no duplicates.\\\n",
    "we changed the varibles in `date_posted` to a datetime type.\\\n",
    "we added new columns - `day_of_the_week`,`month_posted`, `year_posted`, `vehicle_age`and `avg_mils_per_year`.\\\n",
    "We changed the categorial variables in `condition`  column to numeric variables.\\\n",
    "We discovered lower outerlier in `condition` column and upper outleiers in `price`, `vehicle_age`, `avg_mils_per_year`, `cylinders`and `condition`. And according to this outliers, we filtered our data with which we will drow the following conclusions:\n",
    "* We can find more cars that their price is less than 10000.\n",
    "* Most ads were place on cars that have less than 10 year old.\n",
    "* The most commun average miles per years is betwen 10000-15000.\n",
    "* Most commun cylinder is 6, then 8 and 4.\n",
    "* Most cars are in excellent or good condition.\n",
    "* Ads have 50 days of life time.\n",
    "* Top 2 model type that have the most ads are:\n",
    "    * Sedan\n",
    "    * SUV\n",
    "\n",
    "Comparing in top 2 model types `sedan` and `SUV`, we founf the following conclusion that impact on the price:\n",
    "* As the age does high, the price of the model goes down.\n",
    "* When the average miles per years and the condition of the car have high values, the price will be raising.\n",
    "* automatic sedan is higher than manual sedan. But, it's the opposite for the SUV. We can imagine that it can be due to the spare parts of the transmission.\n",
    "* Orange sedan and black sedan have higher prices. It can be due to custom color dmand or most common color demand.\n"
   ]
  }
 ],
 "metadata": {
  "ExecuteTimeLog": [
   {
    "duration": 828,
    "start_time": "2021-11-16T09:21:11.304Z"
   },
   {
    "duration": 893,
    "start_time": "2021-11-16T09:21:17.728Z"
   },
   {
    "duration": 1150,
    "start_time": "2021-11-16T09:21:29.568Z"
   },
   {
    "duration": 3,
    "start_time": "2021-11-16T09:24:14.495Z"
   },
   {
    "duration": 120,
    "start_time": "2021-11-16T09:24:46.630Z"
   },
   {
    "duration": 3,
    "start_time": "2021-11-16T09:28:27.882Z"
   },
   {
    "duration": 4,
    "start_time": "2021-11-16T09:29:54.281Z"
   },
   {
    "duration": 3,
    "start_time": "2021-11-16T09:30:45.936Z"
   },
   {
    "duration": 4,
    "start_time": "2021-11-16T09:31:06.300Z"
   },
   {
    "duration": 113,
    "start_time": "2021-11-16T09:31:37.208Z"
   },
   {
    "duration": 143,
    "start_time": "2021-11-16T09:31:48.656Z"
   },
   {
    "duration": 98,
    "start_time": "2021-11-16T09:31:55.678Z"
   },
   {
    "duration": 3,
    "start_time": "2021-11-16T09:32:08.535Z"
   },
   {
    "duration": 111,
    "start_time": "2021-11-16T09:32:10.120Z"
   },
   {
    "duration": 3,
    "start_time": "2021-11-16T09:32:15.732Z"
   },
   {
    "duration": 4,
    "start_time": "2021-11-16T09:32:29.423Z"
   },
   {
    "duration": 3,
    "start_time": "2021-11-16T10:03:03.074Z"
   },
   {
    "duration": 3,
    "start_time": "2021-11-16T10:10:01.288Z"
   },
   {
    "duration": 3,
    "start_time": "2021-11-16T10:10:46.923Z"
   },
   {
    "duration": 121,
    "start_time": "2021-11-16T10:37:46.494Z"
   },
   {
    "duration": 125,
    "start_time": "2021-11-16T10:38:20.632Z"
   },
   {
    "duration": 112,
    "start_time": "2021-11-16T10:46:53.001Z"
   },
   {
    "duration": 110,
    "start_time": "2021-11-16T10:48:25.775Z"
   },
   {
    "duration": 3,
    "start_time": "2021-11-16T10:50:18.720Z"
   },
   {
    "duration": 4,
    "start_time": "2021-11-16T10:50:37.649Z"
   },
   {
    "duration": 2,
    "start_time": "2021-11-16T10:50:51.884Z"
   },
   {
    "duration": 3,
    "start_time": "2021-11-16T10:51:56.237Z"
   },
   {
    "duration": 101,
    "start_time": "2021-11-16T10:53:13.791Z"
   },
   {
    "duration": 3,
    "start_time": "2021-11-16T10:55:59.186Z"
   },
   {
    "duration": 3,
    "start_time": "2021-11-16T10:56:10.751Z"
   },
   {
    "duration": 3,
    "start_time": "2021-11-16T10:56:49.038Z"
   },
   {
    "duration": 3,
    "start_time": "2021-11-16T10:56:49.174Z"
   },
   {
    "duration": 4,
    "start_time": "2021-11-16T10:56:49.414Z"
   },
   {
    "duration": 3,
    "start_time": "2021-11-16T10:56:49.680Z"
   },
   {
    "duration": 3,
    "start_time": "2021-11-16T10:56:50.370Z"
   },
   {
    "duration": 114,
    "start_time": "2021-11-16T10:59:34.518Z"
   },
   {
    "duration": 3,
    "start_time": "2021-11-16T11:01:41.201Z"
   },
   {
    "duration": 116,
    "start_time": "2021-11-16T11:01:48.754Z"
   },
   {
    "duration": 3,
    "start_time": "2021-11-16T11:02:16.685Z"
   },
   {
    "duration": 3,
    "start_time": "2021-11-16T11:02:19.479Z"
   },
   {
    "duration": 3,
    "start_time": "2021-11-16T11:02:47.067Z"
   },
   {
    "duration": 3,
    "start_time": "2021-11-16T11:02:49.353Z"
   },
   {
    "duration": 3,
    "start_time": "2021-11-16T11:03:07.835Z"
   },
   {
    "duration": 3,
    "start_time": "2021-11-16T11:03:07.953Z"
   },
   {
    "duration": 112,
    "start_time": "2021-11-16T11:07:52.072Z"
   },
   {
    "duration": 187,
    "start_time": "2021-11-16T11:09:23.468Z"
   },
   {
    "duration": 4,
    "start_time": "2021-11-16T11:10:01.455Z"
   },
   {
    "duration": 3,
    "start_time": "2021-11-16T11:10:05.069Z"
   },
   {
    "duration": 4,
    "start_time": "2021-11-16T11:10:13.376Z"
   },
   {
    "duration": 3,
    "start_time": "2021-11-16T11:10:14.434Z"
   },
   {
    "duration": 3,
    "start_time": "2021-11-16T11:10:22.853Z"
   },
   {
    "duration": 4,
    "start_time": "2021-11-16T11:27:29.279Z"
   },
   {
    "duration": 4,
    "start_time": "2021-11-16T11:29:08.919Z"
   },
   {
    "duration": 118,
    "start_time": "2021-11-16T11:29:46.703Z"
   },
   {
    "duration": 437,
    "start_time": "2021-11-16T11:36:02.181Z"
   },
   {
    "duration": 157,
    "start_time": "2021-11-16T11:36:14.388Z"
   },
   {
    "duration": 207,
    "start_time": "2021-11-16T11:47:15.898Z"
   },
   {
    "duration": 3,
    "start_time": "2021-11-16T11:53:52.092Z"
   },
   {
    "duration": 3,
    "start_time": "2021-11-16T11:53:52.236Z"
   },
   {
    "duration": 3,
    "start_time": "2021-11-16T11:59:12.005Z"
   },
   {
    "duration": 112,
    "start_time": "2021-11-16T12:00:33.446Z"
   },
   {
    "duration": 3,
    "start_time": "2021-11-16T12:02:14.453Z"
   },
   {
    "duration": 3,
    "start_time": "2021-11-16T12:02:39.512Z"
   },
   {
    "duration": 106,
    "start_time": "2021-11-16T12:03:03.460Z"
   }
  ],
  "kernelspec": {
   "display_name": "Python 3 (ipykernel)",
   "language": "python",
   "name": "python3"
  },
  "language_info": {
   "codemirror_mode": {
    "name": "ipython",
    "version": 3
   },
   "file_extension": ".py",
   "mimetype": "text/x-python",
   "name": "python",
   "nbconvert_exporter": "python",
   "pygments_lexer": "ipython3",
   "version": "3.9.5"
  },
  "toc": {
   "base_numbering": 1,
   "nav_menu": {},
   "number_sections": true,
   "sideBar": true,
   "skip_h1_title": false,
   "title_cell": "Table of Contents",
   "title_sidebar": "Contents",
   "toc_cell": false,
   "toc_position": {
    "height": "calc(100% - 180px)",
    "left": "10px",
    "top": "150px",
    "width": "164.977px"
   },
   "toc_section_display": true,
   "toc_window_display": true
  }
 },
 "nbformat": 4,
 "nbformat_minor": 2
}
